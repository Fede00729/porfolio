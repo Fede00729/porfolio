{
 "cells": [
  {
   "cell_type": "code",
   "execution_count": 108,
   "metadata": {},
   "outputs": [
    {
     "data": {
      "text/plain": [
       "'C:\\\\Users\\\\Fede0\\\\Documents\\\\01. Coding\\\\Cedears'"
      ]
     },
     "execution_count": 108,
     "metadata": {},
     "output_type": "execute_result"
    }
   ],
   "source": [
    "import os\n",
    "os.getcwd()\n"
   ]
  },
  {
   "cell_type": "code",
   "execution_count": 109,
   "metadata": {},
   "outputs": [],
   "source": [
    "import pandas as pd\n",
    "from datetime import date\n",
    "\n",
    "today = '2022-09-21' #str(date.today())\n",
    "\n",
    "xlistado = pd.read_csv('listado.csv')\n",
    "xlistado = xlistado.rename(columns={'Ticker  en  mercado  de  origen':'ticker','Id  de  mercado':'ticker_arg'})\n",
    "\n",
    "xdaily_csv = pd.read_csv(f'origin_tickets/origin_tickets_{today}.csv')\n",
    "xdaily_csv = xdaily_csv.rename(columns={'01. symbol':'ticker'})\n",
    "\n",
    "xarg_daily_csv = pd.read_csv(f'arg_tickets/arg_tickets_{today}.csv')\n",
    "xarg_daily_csv = xarg_daily_csv.rename(columns={'Simbolo':'ticker_arg'})\n"
   ]
  },
  {
   "cell_type": "code",
   "execution_count": 110,
   "metadata": {},
   "outputs": [
    {
     "data": {
      "text/html": [
       "<div>\n",
       "<style scoped>\n",
       "    .dataframe tbody tr th:only-of-type {\n",
       "        vertical-align: middle;\n",
       "    }\n",
       "\n",
       "    .dataframe tbody tr th {\n",
       "        vertical-align: top;\n",
       "    }\n",
       "\n",
       "    .dataframe thead th {\n",
       "        text-align: right;\n",
       "    }\n",
       "</style>\n",
       "<table border=\"1\" class=\"dataframe\">\n",
       "  <thead>\n",
       "    <tr style=\"text-align: right;\">\n",
       "      <th></th>\n",
       "      <th>Programa  de  CEDEAR</th>\n",
       "      <th>Ratio  Cedear  /  valor  sub-yacente</th>\n",
       "      <th>ticker_arg</th>\n",
       "      <th>ticker</th>\n",
       "      <th>02. open</th>\n",
       "      <th>03. high</th>\n",
       "      <th>04. low</th>\n",
       "      <th>05. price</th>\n",
       "      <th>06. volume</th>\n",
       "      <th>07. latest trading day</th>\n",
       "      <th>08. previous close</th>\n",
       "      <th>09. change</th>\n",
       "      <th>10. change percent</th>\n",
       "    </tr>\n",
       "  </thead>\n",
       "  <tbody>\n",
       "    <tr>\n",
       "      <th>0</th>\n",
       "      <td>3M CO</td>\n",
       "      <td>5:1</td>\n",
       "      <td>MMM</td>\n",
       "      <td>MMM</td>\n",
       "      <td>116.83</td>\n",
       "      <td>118.0300</td>\n",
       "      <td>114.80</td>\n",
       "      <td>114.81</td>\n",
       "      <td>3693062.0</td>\n",
       "      <td>2022-09-21</td>\n",
       "      <td>116.52</td>\n",
       "      <td>-1.71</td>\n",
       "      <td>-1.4676%</td>\n",
       "    </tr>\n",
       "    <tr>\n",
       "      <th>1</th>\n",
       "      <td>ABBOTT LABORATORIES</td>\n",
       "      <td>4:1</td>\n",
       "      <td>ABT</td>\n",
       "      <td>ABT</td>\n",
       "      <td>102.87</td>\n",
       "      <td>103.9200</td>\n",
       "      <td>100.62</td>\n",
       "      <td>100.65</td>\n",
       "      <td>4552978.0</td>\n",
       "      <td>2022-09-21</td>\n",
       "      <td>102.31</td>\n",
       "      <td>-1.66</td>\n",
       "      <td>-1.6225%</td>\n",
       "    </tr>\n",
       "    <tr>\n",
       "      <th>2</th>\n",
       "      <td>ABBVIE INC</td>\n",
       "      <td>10:1</td>\n",
       "      <td>ABBV</td>\n",
       "      <td>ABBV</td>\n",
       "      <td>142.15</td>\n",
       "      <td>143.6282</td>\n",
       "      <td>140.29</td>\n",
       "      <td>140.31</td>\n",
       "      <td>4941163.0</td>\n",
       "      <td>2022-09-21</td>\n",
       "      <td>141.77</td>\n",
       "      <td>-1.46</td>\n",
       "      <td>-1.0298%</td>\n",
       "    </tr>\n",
       "    <tr>\n",
       "      <th>3</th>\n",
       "      <td>ABERCROMBIE &amp; FITCH CO-CL A</td>\n",
       "      <td>1:1</td>\n",
       "      <td>ANF</td>\n",
       "      <td>ANF</td>\n",
       "      <td>16.09</td>\n",
       "      <td>16.4600</td>\n",
       "      <td>15.59</td>\n",
       "      <td>15.59</td>\n",
       "      <td>1437058.0</td>\n",
       "      <td>2022-09-21</td>\n",
       "      <td>15.93</td>\n",
       "      <td>-0.34</td>\n",
       "      <td>-2.1343%</td>\n",
       "    </tr>\n",
       "    <tr>\n",
       "      <th>4</th>\n",
       "      <td>ADECOAGRO SA</td>\n",
       "      <td>2:1</td>\n",
       "      <td>ADGO</td>\n",
       "      <td>AGRO</td>\n",
       "      <td>8.45</td>\n",
       "      <td>8.6000</td>\n",
       "      <td>8.31</td>\n",
       "      <td>8.42</td>\n",
       "      <td>554893.0</td>\n",
       "      <td>2022-09-21</td>\n",
       "      <td>8.42</td>\n",
       "      <td>0.00</td>\n",
       "      <td>0.0000%</td>\n",
       "    </tr>\n",
       "  </tbody>\n",
       "</table>\n",
       "</div>"
      ],
      "text/plain": [
       "          Programa  de  CEDEAR Ratio  Cedear  /  valor  sub-yacente  \\\n",
       "0                        3M CO                                  5:1   \n",
       "1          ABBOTT LABORATORIES                                  4:1   \n",
       "2                   ABBVIE INC                                 10:1   \n",
       "3  ABERCROMBIE & FITCH CO-CL A                                  1:1   \n",
       "4                 ADECOAGRO SA                                  2:1   \n",
       "\n",
       "  ticker_arg ticker  02. open  03. high  04. low  05. price  06. volume  \\\n",
       "0        MMM    MMM    116.83  118.0300   114.80     114.81   3693062.0   \n",
       "1        ABT    ABT    102.87  103.9200   100.62     100.65   4552978.0   \n",
       "2       ABBV   ABBV    142.15  143.6282   140.29     140.31   4941163.0   \n",
       "3        ANF    ANF     16.09   16.4600    15.59      15.59   1437058.0   \n",
       "4       ADGO   AGRO      8.45    8.6000     8.31       8.42    554893.0   \n",
       "\n",
       "  07. latest trading day  08. previous close  09. change 10. change percent  \n",
       "0             2022-09-21              116.52       -1.71           -1.4676%  \n",
       "1             2022-09-21              102.31       -1.66           -1.6225%  \n",
       "2             2022-09-21              141.77       -1.46           -1.0298%  \n",
       "3             2022-09-21               15.93       -0.34           -2.1343%  \n",
       "4             2022-09-21                8.42        0.00            0.0000%  "
      ]
     },
     "execution_count": 110,
     "metadata": {},
     "output_type": "execute_result"
    }
   ],
   "source": [
    "df1 = xlistado.merge(xdaily_csv, on='ticker')\n",
    "\n",
    "df1.head(5)"
   ]
  },
  {
   "cell_type": "code",
   "execution_count": 111,
   "metadata": {},
   "outputs": [
    {
     "data": {
      "text/html": [
       "<div>\n",
       "<style scoped>\n",
       "    .dataframe tbody tr th:only-of-type {\n",
       "        vertical-align: middle;\n",
       "    }\n",
       "\n",
       "    .dataframe tbody tr th {\n",
       "        vertical-align: top;\n",
       "    }\n",
       "\n",
       "    .dataframe thead th {\n",
       "        text-align: right;\n",
       "    }\n",
       "</style>\n",
       "<table border=\"1\" class=\"dataframe\">\n",
       "  <thead>\n",
       "    <tr style=\"text-align: right;\">\n",
       "      <th></th>\n",
       "      <th>Programa  de  CEDEAR</th>\n",
       "      <th>Ratio  Cedear  /  valor  sub-yacente</th>\n",
       "      <th>ticker_arg</th>\n",
       "      <th>ticker</th>\n",
       "      <th>02. open</th>\n",
       "      <th>03. high</th>\n",
       "      <th>04. low</th>\n",
       "      <th>05. price</th>\n",
       "      <th>06. volume</th>\n",
       "      <th>07. latest trading day</th>\n",
       "      <th>...</th>\n",
       "      <th>Precio_Compra</th>\n",
       "      <th>Precio_Promedio</th>\n",
       "      <th>Precio_Promedio_Ponderado</th>\n",
       "      <th>Precio_Venta</th>\n",
       "      <th>Tendencia</th>\n",
       "      <th>Tipo_Liquidacion</th>\n",
       "      <th>Ultimo</th>\n",
       "      <th>Variacion</th>\n",
       "      <th>Vencimiento</th>\n",
       "      <th>Volumen_Nominal</th>\n",
       "    </tr>\n",
       "  </thead>\n",
       "  <tbody>\n",
       "    <tr>\n",
       "      <th>0</th>\n",
       "      <td>3M CO</td>\n",
       "      <td>5:1</td>\n",
       "      <td>MMM</td>\n",
       "      <td>MMM</td>\n",
       "      <td>116.83</td>\n",
       "      <td>118.0300</td>\n",
       "      <td>114.80</td>\n",
       "      <td>114.81</td>\n",
       "      <td>3693062.0</td>\n",
       "      <td>2022-09-21</td>\n",
       "      <td>...</td>\n",
       "      <td>6700.0</td>\n",
       "      <td>7149.9464</td>\n",
       "      <td>7154.7403</td>\n",
       "      <td>7227.0</td>\n",
       "      <td>-1</td>\n",
       "      <td>Pesos</td>\n",
       "      <td>7064.0</td>\n",
       "      <td>-0.48</td>\n",
       "      <td>48hs</td>\n",
       "      <td>3209</td>\n",
       "    </tr>\n",
       "    <tr>\n",
       "      <th>1</th>\n",
       "      <td>ABBOTT LABORATORIES</td>\n",
       "      <td>4:1</td>\n",
       "      <td>ABT</td>\n",
       "      <td>ABT</td>\n",
       "      <td>102.87</td>\n",
       "      <td>103.9200</td>\n",
       "      <td>100.62</td>\n",
       "      <td>100.65</td>\n",
       "      <td>4552978.0</td>\n",
       "      <td>2022-09-21</td>\n",
       "      <td>...</td>\n",
       "      <td>7000.0</td>\n",
       "      <td>7829.2400</td>\n",
       "      <td>7831.3539</td>\n",
       "      <td>7868.0</td>\n",
       "      <td>-1</td>\n",
       "      <td>Pesos</td>\n",
       "      <td>7706.5</td>\n",
       "      <td>0.46</td>\n",
       "      <td>48hs</td>\n",
       "      <td>741</td>\n",
       "    </tr>\n",
       "    <tr>\n",
       "      <th>2</th>\n",
       "      <td>ABBVIE INC</td>\n",
       "      <td>10:1</td>\n",
       "      <td>ABBV</td>\n",
       "      <td>ABBV</td>\n",
       "      <td>142.15</td>\n",
       "      <td>143.6282</td>\n",
       "      <td>140.29</td>\n",
       "      <td>140.31</td>\n",
       "      <td>4941163.0</td>\n",
       "      <td>2022-09-21</td>\n",
       "      <td>...</td>\n",
       "      <td>4100.0</td>\n",
       "      <td>4347.2653</td>\n",
       "      <td>4348.5451</td>\n",
       "      <td>5000.0</td>\n",
       "      <td>0</td>\n",
       "      <td>Pesos</td>\n",
       "      <td>4302.0</td>\n",
       "      <td>0.33</td>\n",
       "      <td>48hs</td>\n",
       "      <td>331</td>\n",
       "    </tr>\n",
       "    <tr>\n",
       "      <th>3</th>\n",
       "      <td>ABERCROMBIE &amp; FITCH CO-CL A</td>\n",
       "      <td>1:1</td>\n",
       "      <td>ANF</td>\n",
       "      <td>ANF</td>\n",
       "      <td>16.09</td>\n",
       "      <td>16.4600</td>\n",
       "      <td>15.59</td>\n",
       "      <td>15.59</td>\n",
       "      <td>1437058.0</td>\n",
       "      <td>2022-09-21</td>\n",
       "      <td>...</td>\n",
       "      <td>4747.0</td>\n",
       "      <td>4838.5000</td>\n",
       "      <td>4838.5000</td>\n",
       "      <td>7408.0</td>\n",
       "      <td>0</td>\n",
       "      <td>Pesos</td>\n",
       "      <td>4838.5</td>\n",
       "      <td>1.64</td>\n",
       "      <td>48hs</td>\n",
       "      <td>1</td>\n",
       "    </tr>\n",
       "    <tr>\n",
       "      <th>4</th>\n",
       "      <td>ADECOAGRO SA</td>\n",
       "      <td>2:1</td>\n",
       "      <td>ADGO</td>\n",
       "      <td>AGRO</td>\n",
       "      <td>8.45</td>\n",
       "      <td>8.6000</td>\n",
       "      <td>8.31</td>\n",
       "      <td>8.42</td>\n",
       "      <td>554893.0</td>\n",
       "      <td>2022-09-21</td>\n",
       "      <td>...</td>\n",
       "      <td>500.0</td>\n",
       "      <td>5150.4490</td>\n",
       "      <td>5169.4270</td>\n",
       "      <td>5555.0</td>\n",
       "      <td>-1</td>\n",
       "      <td>Pesos</td>\n",
       "      <td>5147.5</td>\n",
       "      <td>0.83</td>\n",
       "      <td>48hs</td>\n",
       "      <td>826</td>\n",
       "    </tr>\n",
       "  </tbody>\n",
       "</table>\n",
       "<p>5 rows × 35 columns</p>\n",
       "</div>"
      ],
      "text/plain": [
       "          Programa  de  CEDEAR Ratio  Cedear  /  valor  sub-yacente  \\\n",
       "0                        3M CO                                  5:1   \n",
       "1          ABBOTT LABORATORIES                                  4:1   \n",
       "2                   ABBVIE INC                                 10:1   \n",
       "3  ABERCROMBIE & FITCH CO-CL A                                  1:1   \n",
       "4                 ADECOAGRO SA                                  2:1   \n",
       "\n",
       "  ticker_arg ticker  02. open  03. high  04. low  05. price  06. volume  \\\n",
       "0        MMM    MMM    116.83  118.0300   114.80     114.81   3693062.0   \n",
       "1        ABT    ABT    102.87  103.9200   100.62     100.65   4552978.0   \n",
       "2       ABBV   ABBV    142.15  143.6282   140.29     140.31   4941163.0   \n",
       "3        ANF    ANF     16.09   16.4600    15.59      15.59   1437058.0   \n",
       "4       ADGO   AGRO      8.45    8.6000     8.31       8.42    554893.0   \n",
       "\n",
       "  07. latest trading day  ...  Precio_Compra  Precio_Promedio  \\\n",
       "0             2022-09-21  ...         6700.0        7149.9464   \n",
       "1             2022-09-21  ...         7000.0        7829.2400   \n",
       "2             2022-09-21  ...         4100.0        4347.2653   \n",
       "3             2022-09-21  ...         4747.0        4838.5000   \n",
       "4             2022-09-21  ...          500.0        5150.4490   \n",
       "\n",
       "  Precio_Promedio_Ponderado  Precio_Venta  Tendencia  Tipo_Liquidacion  \\\n",
       "0                 7154.7403        7227.0         -1             Pesos   \n",
       "1                 7831.3539        7868.0         -1             Pesos   \n",
       "2                 4348.5451        5000.0          0             Pesos   \n",
       "3                 4838.5000        7408.0          0             Pesos   \n",
       "4                 5169.4270        5555.0         -1             Pesos   \n",
       "\n",
       "   Ultimo  Variacion Vencimiento  Volumen_Nominal  \n",
       "0  7064.0      -0.48        48hs             3209  \n",
       "1  7706.5       0.46        48hs              741  \n",
       "2  4302.0       0.33        48hs              331  \n",
       "3  4838.5       1.64        48hs                1  \n",
       "4  5147.5       0.83        48hs              826  \n",
       "\n",
       "[5 rows x 35 columns]"
      ]
     },
     "execution_count": 111,
     "metadata": {},
     "output_type": "execute_result"
    }
   ],
   "source": [
    "df2 = df1.merge(xarg_daily_csv, on='ticker_arg')\n",
    "\n",
    "df2.head(5)"
   ]
  },
  {
   "cell_type": "code",
   "execution_count": 112,
   "metadata": {},
   "outputs": [
    {
     "name": "stdout",
     "output_type": "stream",
     "text": [
      "Ratio Cedear         object\n",
      "valor sub-yacente    object\n",
      "dtype: object\n",
      "Ratio Cedear         float64\n",
      "valor sub-yacente    float64\n",
      "dtype: object\n"
     ]
    },
    {
     "data": {
      "text/html": [
       "<div>\n",
       "<style scoped>\n",
       "    .dataframe tbody tr th:only-of-type {\n",
       "        vertical-align: middle;\n",
       "    }\n",
       "\n",
       "    .dataframe tbody tr th {\n",
       "        vertical-align: top;\n",
       "    }\n",
       "\n",
       "    .dataframe thead th {\n",
       "        text-align: right;\n",
       "    }\n",
       "</style>\n",
       "<table border=\"1\" class=\"dataframe\">\n",
       "  <thead>\n",
       "    <tr style=\"text-align: right;\">\n",
       "      <th></th>\n",
       "      <th>Ratio Cedear</th>\n",
       "      <th>valor sub-yacente</th>\n",
       "      <th>Programa  de  CEDEAR</th>\n",
       "      <th>Ratio  Cedear  /  valor  sub-yacente</th>\n",
       "      <th>ticker_arg</th>\n",
       "      <th>ticker</th>\n",
       "      <th>02. open</th>\n",
       "      <th>03. high</th>\n",
       "      <th>04. low</th>\n",
       "      <th>05. price</th>\n",
       "      <th>...</th>\n",
       "      <th>Precio_Compra</th>\n",
       "      <th>Precio_Promedio</th>\n",
       "      <th>Precio_Promedio_Ponderado</th>\n",
       "      <th>Precio_Venta</th>\n",
       "      <th>Tendencia</th>\n",
       "      <th>Tipo_Liquidacion</th>\n",
       "      <th>Ultimo</th>\n",
       "      <th>Variacion</th>\n",
       "      <th>Vencimiento</th>\n",
       "      <th>Volumen_Nominal</th>\n",
       "    </tr>\n",
       "  </thead>\n",
       "  <tbody>\n",
       "    <tr>\n",
       "      <th>0</th>\n",
       "      <td>5.0</td>\n",
       "      <td>1.0</td>\n",
       "      <td>3M CO</td>\n",
       "      <td>5:1</td>\n",
       "      <td>MMM</td>\n",
       "      <td>MMM</td>\n",
       "      <td>116.83</td>\n",
       "      <td>118.0300</td>\n",
       "      <td>114.800</td>\n",
       "      <td>114.81</td>\n",
       "      <td>...</td>\n",
       "      <td>6700.0</td>\n",
       "      <td>7149.9464</td>\n",
       "      <td>7154.7403</td>\n",
       "      <td>7227.0</td>\n",
       "      <td>-1</td>\n",
       "      <td>Pesos</td>\n",
       "      <td>7064.0</td>\n",
       "      <td>-0.48</td>\n",
       "      <td>48hs</td>\n",
       "      <td>3209</td>\n",
       "    </tr>\n",
       "    <tr>\n",
       "      <th>1</th>\n",
       "      <td>4.0</td>\n",
       "      <td>1.0</td>\n",
       "      <td>ABBOTT LABORATORIES</td>\n",
       "      <td>4:1</td>\n",
       "      <td>ABT</td>\n",
       "      <td>ABT</td>\n",
       "      <td>102.87</td>\n",
       "      <td>103.9200</td>\n",
       "      <td>100.620</td>\n",
       "      <td>100.65</td>\n",
       "      <td>...</td>\n",
       "      <td>7000.0</td>\n",
       "      <td>7829.2400</td>\n",
       "      <td>7831.3539</td>\n",
       "      <td>7868.0</td>\n",
       "      <td>-1</td>\n",
       "      <td>Pesos</td>\n",
       "      <td>7706.5</td>\n",
       "      <td>0.46</td>\n",
       "      <td>48hs</td>\n",
       "      <td>741</td>\n",
       "    </tr>\n",
       "    <tr>\n",
       "      <th>2</th>\n",
       "      <td>10.0</td>\n",
       "      <td>1.0</td>\n",
       "      <td>ABBVIE INC</td>\n",
       "      <td>10:1</td>\n",
       "      <td>ABBV</td>\n",
       "      <td>ABBV</td>\n",
       "      <td>142.15</td>\n",
       "      <td>143.6282</td>\n",
       "      <td>140.290</td>\n",
       "      <td>140.31</td>\n",
       "      <td>...</td>\n",
       "      <td>4100.0</td>\n",
       "      <td>4347.2653</td>\n",
       "      <td>4348.5451</td>\n",
       "      <td>5000.0</td>\n",
       "      <td>0</td>\n",
       "      <td>Pesos</td>\n",
       "      <td>4302.0</td>\n",
       "      <td>0.33</td>\n",
       "      <td>48hs</td>\n",
       "      <td>331</td>\n",
       "    </tr>\n",
       "    <tr>\n",
       "      <th>3</th>\n",
       "      <td>1.0</td>\n",
       "      <td>1.0</td>\n",
       "      <td>ABERCROMBIE &amp; FITCH CO-CL A</td>\n",
       "      <td>1:1</td>\n",
       "      <td>ANF</td>\n",
       "      <td>ANF</td>\n",
       "      <td>16.09</td>\n",
       "      <td>16.4600</td>\n",
       "      <td>15.590</td>\n",
       "      <td>15.59</td>\n",
       "      <td>...</td>\n",
       "      <td>4747.0</td>\n",
       "      <td>4838.5000</td>\n",
       "      <td>4838.5000</td>\n",
       "      <td>7408.0</td>\n",
       "      <td>0</td>\n",
       "      <td>Pesos</td>\n",
       "      <td>4838.5</td>\n",
       "      <td>1.64</td>\n",
       "      <td>48hs</td>\n",
       "      <td>1</td>\n",
       "    </tr>\n",
       "    <tr>\n",
       "      <th>4</th>\n",
       "      <td>2.0</td>\n",
       "      <td>1.0</td>\n",
       "      <td>ADECOAGRO SA</td>\n",
       "      <td>2:1</td>\n",
       "      <td>ADGO</td>\n",
       "      <td>AGRO</td>\n",
       "      <td>8.45</td>\n",
       "      <td>8.6000</td>\n",
       "      <td>8.310</td>\n",
       "      <td>8.42</td>\n",
       "      <td>...</td>\n",
       "      <td>500.0</td>\n",
       "      <td>5150.4490</td>\n",
       "      <td>5169.4270</td>\n",
       "      <td>5555.0</td>\n",
       "      <td>-1</td>\n",
       "      <td>Pesos</td>\n",
       "      <td>5147.5</td>\n",
       "      <td>0.83</td>\n",
       "      <td>48hs</td>\n",
       "      <td>826</td>\n",
       "    </tr>\n",
       "    <tr>\n",
       "      <th>...</th>\n",
       "      <td>...</td>\n",
       "      <td>...</td>\n",
       "      <td>...</td>\n",
       "      <td>...</td>\n",
       "      <td>...</td>\n",
       "      <td>...</td>\n",
       "      <td>...</td>\n",
       "      <td>...</td>\n",
       "      <td>...</td>\n",
       "      <td>...</td>\n",
       "      <td>...</td>\n",
       "      <td>...</td>\n",
       "      <td>...</td>\n",
       "      <td>...</td>\n",
       "      <td>...</td>\n",
       "      <td>...</td>\n",
       "      <td>...</td>\n",
       "      <td>...</td>\n",
       "      <td>...</td>\n",
       "      <td>...</td>\n",
       "      <td>...</td>\n",
       "    </tr>\n",
       "    <tr>\n",
       "      <th>218</th>\n",
       "      <td>5.0</td>\n",
       "      <td>1.0</td>\n",
       "      <td>WELLS FARGO &amp; CO</td>\n",
       "      <td>5:1</td>\n",
       "      <td>WFC</td>\n",
       "      <td>WFC</td>\n",
       "      <td>43.66</td>\n",
       "      <td>43.8100</td>\n",
       "      <td>42.240</td>\n",
       "      <td>42.27</td>\n",
       "      <td>...</td>\n",
       "      <td>2500.0</td>\n",
       "      <td>2638.6622</td>\n",
       "      <td>2642.0042</td>\n",
       "      <td>2830.0</td>\n",
       "      <td>-1</td>\n",
       "      <td>Pesos</td>\n",
       "      <td>2585.0</td>\n",
       "      <td>-1.45</td>\n",
       "      <td>48hs</td>\n",
       "      <td>4148</td>\n",
       "    </tr>\n",
       "    <tr>\n",
       "      <th>219</th>\n",
       "      <td>4.0</td>\n",
       "      <td>1.0</td>\n",
       "      <td>XP INC</td>\n",
       "      <td>4:1</td>\n",
       "      <td>XP</td>\n",
       "      <td>XP</td>\n",
       "      <td>19.82</td>\n",
       "      <td>19.9400</td>\n",
       "      <td>19.255</td>\n",
       "      <td>19.76</td>\n",
       "      <td>...</td>\n",
       "      <td>1503.0</td>\n",
       "      <td>1503.7500</td>\n",
       "      <td>1506.0273</td>\n",
       "      <td>1568.5</td>\n",
       "      <td>1</td>\n",
       "      <td>Pesos</td>\n",
       "      <td>1519.0</td>\n",
       "      <td>2.98</td>\n",
       "      <td>48hs</td>\n",
       "      <td>152</td>\n",
       "    </tr>\n",
       "    <tr>\n",
       "      <th>220</th>\n",
       "      <td>1.0</td>\n",
       "      <td>1.0</td>\n",
       "      <td>YAMANA GOLD INC</td>\n",
       "      <td>1:1</td>\n",
       "      <td>AUY</td>\n",
       "      <td>AUY</td>\n",
       "      <td>4.26</td>\n",
       "      <td>4.4400</td>\n",
       "      <td>4.180</td>\n",
       "      <td>4.28</td>\n",
       "      <td>...</td>\n",
       "      <td>1242.5</td>\n",
       "      <td>1306.8478</td>\n",
       "      <td>1320.4920</td>\n",
       "      <td>1396.0</td>\n",
       "      <td>-1</td>\n",
       "      <td>Pesos</td>\n",
       "      <td>1315.0</td>\n",
       "      <td>3.71</td>\n",
       "      <td>48hs</td>\n",
       "      <td>6259</td>\n",
       "    </tr>\n",
       "    <tr>\n",
       "      <th>221</th>\n",
       "      <td>2.0</td>\n",
       "      <td>1.0</td>\n",
       "      <td>YELP INC</td>\n",
       "      <td>2:1</td>\n",
       "      <td>YELP</td>\n",
       "      <td>YELP</td>\n",
       "      <td>34.58</td>\n",
       "      <td>34.8700</td>\n",
       "      <td>33.740</td>\n",
       "      <td>33.78</td>\n",
       "      <td>...</td>\n",
       "      <td>5127.0</td>\n",
       "      <td>5247.0000</td>\n",
       "      <td>5246.9735</td>\n",
       "      <td>5255.0</td>\n",
       "      <td>-1</td>\n",
       "      <td>Pesos</td>\n",
       "      <td>5201.0</td>\n",
       "      <td>1.02</td>\n",
       "      <td>48hs</td>\n",
       "      <td>870</td>\n",
       "    </tr>\n",
       "    <tr>\n",
       "      <th>222</th>\n",
       "      <td>47.0</td>\n",
       "      <td>1.0</td>\n",
       "      <td>ZOOM VIDEO COMMUNICATIONS-A</td>\n",
       "      <td>47:1</td>\n",
       "      <td>ZM</td>\n",
       "      <td>ZM</td>\n",
       "      <td>77.83</td>\n",
       "      <td>78.8300</td>\n",
       "      <td>75.320</td>\n",
       "      <td>75.94</td>\n",
       "      <td>...</td>\n",
       "      <td>480.0</td>\n",
       "      <td>500.6738</td>\n",
       "      <td>500.4579</td>\n",
       "      <td>540.0</td>\n",
       "      <td>-1</td>\n",
       "      <td>Pesos</td>\n",
       "      <td>491.5</td>\n",
       "      <td>-0.51</td>\n",
       "      <td>48hs</td>\n",
       "      <td>4133</td>\n",
       "    </tr>\n",
       "  </tbody>\n",
       "</table>\n",
       "<p>223 rows × 37 columns</p>\n",
       "</div>"
      ],
      "text/plain": [
       "     Ratio Cedear  valor sub-yacente         Programa  de  CEDEAR  \\\n",
       "0             5.0                1.0                        3M CO   \n",
       "1             4.0                1.0          ABBOTT LABORATORIES   \n",
       "2            10.0                1.0                   ABBVIE INC   \n",
       "3             1.0                1.0  ABERCROMBIE & FITCH CO-CL A   \n",
       "4             2.0                1.0                 ADECOAGRO SA   \n",
       "..            ...                ...                          ...   \n",
       "218           5.0                1.0             WELLS FARGO & CO   \n",
       "219           4.0                1.0                       XP INC   \n",
       "220           1.0                1.0              YAMANA GOLD INC   \n",
       "221           2.0                1.0                     YELP INC   \n",
       "222          47.0                1.0  ZOOM VIDEO COMMUNICATIONS-A   \n",
       "\n",
       "    Ratio  Cedear  /  valor  sub-yacente ticker_arg ticker  02. open  \\\n",
       "0                                    5:1        MMM    MMM    116.83   \n",
       "1                                    4:1        ABT    ABT    102.87   \n",
       "2                                   10:1       ABBV   ABBV    142.15   \n",
       "3                                    1:1        ANF    ANF     16.09   \n",
       "4                                    2:1       ADGO   AGRO      8.45   \n",
       "..                                   ...        ...    ...       ...   \n",
       "218                                  5:1        WFC    WFC     43.66   \n",
       "219                                  4:1         XP     XP     19.82   \n",
       "220                                  1:1        AUY    AUY      4.26   \n",
       "221                                  2:1       YELP   YELP     34.58   \n",
       "222                                 47:1         ZM     ZM     77.83   \n",
       "\n",
       "     03. high  04. low  05. price  ...  Precio_Compra Precio_Promedio  \\\n",
       "0    118.0300  114.800     114.81  ...         6700.0       7149.9464   \n",
       "1    103.9200  100.620     100.65  ...         7000.0       7829.2400   \n",
       "2    143.6282  140.290     140.31  ...         4100.0       4347.2653   \n",
       "3     16.4600   15.590      15.59  ...         4747.0       4838.5000   \n",
       "4      8.6000    8.310       8.42  ...          500.0       5150.4490   \n",
       "..        ...      ...        ...  ...            ...             ...   \n",
       "218   43.8100   42.240      42.27  ...         2500.0       2638.6622   \n",
       "219   19.9400   19.255      19.76  ...         1503.0       1503.7500   \n",
       "220    4.4400    4.180       4.28  ...         1242.5       1306.8478   \n",
       "221   34.8700   33.740      33.78  ...         5127.0       5247.0000   \n",
       "222   78.8300   75.320      75.94  ...          480.0        500.6738   \n",
       "\n",
       "     Precio_Promedio_Ponderado  Precio_Venta Tendencia  Tipo_Liquidacion  \\\n",
       "0                    7154.7403        7227.0        -1             Pesos   \n",
       "1                    7831.3539        7868.0        -1             Pesos   \n",
       "2                    4348.5451        5000.0         0             Pesos   \n",
       "3                    4838.5000        7408.0         0             Pesos   \n",
       "4                    5169.4270        5555.0        -1             Pesos   \n",
       "..                         ...           ...       ...               ...   \n",
       "218                  2642.0042        2830.0        -1             Pesos   \n",
       "219                  1506.0273        1568.5         1             Pesos   \n",
       "220                  1320.4920        1396.0        -1             Pesos   \n",
       "221                  5246.9735        5255.0        -1             Pesos   \n",
       "222                   500.4579         540.0        -1             Pesos   \n",
       "\n",
       "     Ultimo  Variacion  Vencimiento  Volumen_Nominal  \n",
       "0    7064.0      -0.48         48hs             3209  \n",
       "1    7706.5       0.46         48hs              741  \n",
       "2    4302.0       0.33         48hs              331  \n",
       "3    4838.5       1.64         48hs                1  \n",
       "4    5147.5       0.83         48hs              826  \n",
       "..      ...        ...          ...              ...  \n",
       "218  2585.0      -1.45         48hs             4148  \n",
       "219  1519.0       2.98         48hs              152  \n",
       "220  1315.0       3.71         48hs             6259  \n",
       "221  5201.0       1.02         48hs              870  \n",
       "222   491.5      -0.51         48hs             4133  \n",
       "\n",
       "[223 rows x 37 columns]"
      ]
     },
     "execution_count": 112,
     "metadata": {},
     "output_type": "execute_result"
    }
   ],
   "source": [
    "name = df2['Ratio  Cedear  /  valor  sub-yacente'].str.split(':',expand=True)\n",
    "name.columns = ['Ratio Cedear', 'valor sub-yacente']\n",
    "\n",
    "print(name.dtypes)\n",
    "#name.astype('float64', copy=True, errors='raise')\n",
    "name = name.astype(float)\n",
    "print(name.dtypes)\n",
    "\n",
    "df = pd.concat([name, df2], axis=1)\n",
    "df\n"
   ]
  },
  {
   "cell_type": "code",
   "execution_count": 113,
   "metadata": {},
   "outputs": [
    {
     "data": {
      "text/html": [
       "<div>\n",
       "<style scoped>\n",
       "    .dataframe tbody tr th:only-of-type {\n",
       "        vertical-align: middle;\n",
       "    }\n",
       "\n",
       "    .dataframe tbody tr th {\n",
       "        vertical-align: top;\n",
       "    }\n",
       "\n",
       "    .dataframe thead th {\n",
       "        text-align: right;\n",
       "    }\n",
       "</style>\n",
       "<table border=\"1\" class=\"dataframe\">\n",
       "  <thead>\n",
       "    <tr style=\"text-align: right;\">\n",
       "      <th></th>\n",
       "      <th>Valor total arg</th>\n",
       "      <th>Ratio Cedear</th>\n",
       "      <th>valor sub-yacente</th>\n",
       "      <th>Programa  de  CEDEAR</th>\n",
       "      <th>Ratio  Cedear  /  valor  sub-yacente</th>\n",
       "      <th>ticker_arg</th>\n",
       "      <th>ticker</th>\n",
       "      <th>02. open</th>\n",
       "      <th>03. high</th>\n",
       "      <th>04. low</th>\n",
       "      <th>...</th>\n",
       "      <th>Precio_Compra</th>\n",
       "      <th>Precio_Promedio</th>\n",
       "      <th>Precio_Promedio_Ponderado</th>\n",
       "      <th>Precio_Venta</th>\n",
       "      <th>Tendencia</th>\n",
       "      <th>Tipo_Liquidacion</th>\n",
       "      <th>Ultimo</th>\n",
       "      <th>Variacion</th>\n",
       "      <th>Vencimiento</th>\n",
       "      <th>Volumen_Nominal</th>\n",
       "    </tr>\n",
       "  </thead>\n",
       "  <tbody>\n",
       "    <tr>\n",
       "      <th>0</th>\n",
       "      <td>35320.0</td>\n",
       "      <td>5.0</td>\n",
       "      <td>1.0</td>\n",
       "      <td>3M CO</td>\n",
       "      <td>5:1</td>\n",
       "      <td>MMM</td>\n",
       "      <td>MMM</td>\n",
       "      <td>116.83</td>\n",
       "      <td>118.0300</td>\n",
       "      <td>114.800</td>\n",
       "      <td>...</td>\n",
       "      <td>6700.0</td>\n",
       "      <td>7149.9464</td>\n",
       "      <td>7154.7403</td>\n",
       "      <td>7227.0</td>\n",
       "      <td>-1</td>\n",
       "      <td>Pesos</td>\n",
       "      <td>7064.0</td>\n",
       "      <td>-0.48</td>\n",
       "      <td>48hs</td>\n",
       "      <td>3209</td>\n",
       "    </tr>\n",
       "    <tr>\n",
       "      <th>1</th>\n",
       "      <td>30826.0</td>\n",
       "      <td>4.0</td>\n",
       "      <td>1.0</td>\n",
       "      <td>ABBOTT LABORATORIES</td>\n",
       "      <td>4:1</td>\n",
       "      <td>ABT</td>\n",
       "      <td>ABT</td>\n",
       "      <td>102.87</td>\n",
       "      <td>103.9200</td>\n",
       "      <td>100.620</td>\n",
       "      <td>...</td>\n",
       "      <td>7000.0</td>\n",
       "      <td>7829.2400</td>\n",
       "      <td>7831.3539</td>\n",
       "      <td>7868.0</td>\n",
       "      <td>-1</td>\n",
       "      <td>Pesos</td>\n",
       "      <td>7706.5</td>\n",
       "      <td>0.46</td>\n",
       "      <td>48hs</td>\n",
       "      <td>741</td>\n",
       "    </tr>\n",
       "    <tr>\n",
       "      <th>2</th>\n",
       "      <td>43020.0</td>\n",
       "      <td>10.0</td>\n",
       "      <td>1.0</td>\n",
       "      <td>ABBVIE INC</td>\n",
       "      <td>10:1</td>\n",
       "      <td>ABBV</td>\n",
       "      <td>ABBV</td>\n",
       "      <td>142.15</td>\n",
       "      <td>143.6282</td>\n",
       "      <td>140.290</td>\n",
       "      <td>...</td>\n",
       "      <td>4100.0</td>\n",
       "      <td>4347.2653</td>\n",
       "      <td>4348.5451</td>\n",
       "      <td>5000.0</td>\n",
       "      <td>0</td>\n",
       "      <td>Pesos</td>\n",
       "      <td>4302.0</td>\n",
       "      <td>0.33</td>\n",
       "      <td>48hs</td>\n",
       "      <td>331</td>\n",
       "    </tr>\n",
       "    <tr>\n",
       "      <th>3</th>\n",
       "      <td>4838.5</td>\n",
       "      <td>1.0</td>\n",
       "      <td>1.0</td>\n",
       "      <td>ABERCROMBIE &amp; FITCH CO-CL A</td>\n",
       "      <td>1:1</td>\n",
       "      <td>ANF</td>\n",
       "      <td>ANF</td>\n",
       "      <td>16.09</td>\n",
       "      <td>16.4600</td>\n",
       "      <td>15.590</td>\n",
       "      <td>...</td>\n",
       "      <td>4747.0</td>\n",
       "      <td>4838.5000</td>\n",
       "      <td>4838.5000</td>\n",
       "      <td>7408.0</td>\n",
       "      <td>0</td>\n",
       "      <td>Pesos</td>\n",
       "      <td>4838.5</td>\n",
       "      <td>1.64</td>\n",
       "      <td>48hs</td>\n",
       "      <td>1</td>\n",
       "    </tr>\n",
       "    <tr>\n",
       "      <th>4</th>\n",
       "      <td>10295.0</td>\n",
       "      <td>2.0</td>\n",
       "      <td>1.0</td>\n",
       "      <td>ADECOAGRO SA</td>\n",
       "      <td>2:1</td>\n",
       "      <td>ADGO</td>\n",
       "      <td>AGRO</td>\n",
       "      <td>8.45</td>\n",
       "      <td>8.6000</td>\n",
       "      <td>8.310</td>\n",
       "      <td>...</td>\n",
       "      <td>500.0</td>\n",
       "      <td>5150.4490</td>\n",
       "      <td>5169.4270</td>\n",
       "      <td>5555.0</td>\n",
       "      <td>-1</td>\n",
       "      <td>Pesos</td>\n",
       "      <td>5147.5</td>\n",
       "      <td>0.83</td>\n",
       "      <td>48hs</td>\n",
       "      <td>826</td>\n",
       "    </tr>\n",
       "    <tr>\n",
       "      <th>...</th>\n",
       "      <td>...</td>\n",
       "      <td>...</td>\n",
       "      <td>...</td>\n",
       "      <td>...</td>\n",
       "      <td>...</td>\n",
       "      <td>...</td>\n",
       "      <td>...</td>\n",
       "      <td>...</td>\n",
       "      <td>...</td>\n",
       "      <td>...</td>\n",
       "      <td>...</td>\n",
       "      <td>...</td>\n",
       "      <td>...</td>\n",
       "      <td>...</td>\n",
       "      <td>...</td>\n",
       "      <td>...</td>\n",
       "      <td>...</td>\n",
       "      <td>...</td>\n",
       "      <td>...</td>\n",
       "      <td>...</td>\n",
       "      <td>...</td>\n",
       "    </tr>\n",
       "    <tr>\n",
       "      <th>218</th>\n",
       "      <td>12925.0</td>\n",
       "      <td>5.0</td>\n",
       "      <td>1.0</td>\n",
       "      <td>WELLS FARGO &amp; CO</td>\n",
       "      <td>5:1</td>\n",
       "      <td>WFC</td>\n",
       "      <td>WFC</td>\n",
       "      <td>43.66</td>\n",
       "      <td>43.8100</td>\n",
       "      <td>42.240</td>\n",
       "      <td>...</td>\n",
       "      <td>2500.0</td>\n",
       "      <td>2638.6622</td>\n",
       "      <td>2642.0042</td>\n",
       "      <td>2830.0</td>\n",
       "      <td>-1</td>\n",
       "      <td>Pesos</td>\n",
       "      <td>2585.0</td>\n",
       "      <td>-1.45</td>\n",
       "      <td>48hs</td>\n",
       "      <td>4148</td>\n",
       "    </tr>\n",
       "    <tr>\n",
       "      <th>219</th>\n",
       "      <td>6076.0</td>\n",
       "      <td>4.0</td>\n",
       "      <td>1.0</td>\n",
       "      <td>XP INC</td>\n",
       "      <td>4:1</td>\n",
       "      <td>XP</td>\n",
       "      <td>XP</td>\n",
       "      <td>19.82</td>\n",
       "      <td>19.9400</td>\n",
       "      <td>19.255</td>\n",
       "      <td>...</td>\n",
       "      <td>1503.0</td>\n",
       "      <td>1503.7500</td>\n",
       "      <td>1506.0273</td>\n",
       "      <td>1568.5</td>\n",
       "      <td>1</td>\n",
       "      <td>Pesos</td>\n",
       "      <td>1519.0</td>\n",
       "      <td>2.98</td>\n",
       "      <td>48hs</td>\n",
       "      <td>152</td>\n",
       "    </tr>\n",
       "    <tr>\n",
       "      <th>220</th>\n",
       "      <td>1315.0</td>\n",
       "      <td>1.0</td>\n",
       "      <td>1.0</td>\n",
       "      <td>YAMANA GOLD INC</td>\n",
       "      <td>1:1</td>\n",
       "      <td>AUY</td>\n",
       "      <td>AUY</td>\n",
       "      <td>4.26</td>\n",
       "      <td>4.4400</td>\n",
       "      <td>4.180</td>\n",
       "      <td>...</td>\n",
       "      <td>1242.5</td>\n",
       "      <td>1306.8478</td>\n",
       "      <td>1320.4920</td>\n",
       "      <td>1396.0</td>\n",
       "      <td>-1</td>\n",
       "      <td>Pesos</td>\n",
       "      <td>1315.0</td>\n",
       "      <td>3.71</td>\n",
       "      <td>48hs</td>\n",
       "      <td>6259</td>\n",
       "    </tr>\n",
       "    <tr>\n",
       "      <th>221</th>\n",
       "      <td>10402.0</td>\n",
       "      <td>2.0</td>\n",
       "      <td>1.0</td>\n",
       "      <td>YELP INC</td>\n",
       "      <td>2:1</td>\n",
       "      <td>YELP</td>\n",
       "      <td>YELP</td>\n",
       "      <td>34.58</td>\n",
       "      <td>34.8700</td>\n",
       "      <td>33.740</td>\n",
       "      <td>...</td>\n",
       "      <td>5127.0</td>\n",
       "      <td>5247.0000</td>\n",
       "      <td>5246.9735</td>\n",
       "      <td>5255.0</td>\n",
       "      <td>-1</td>\n",
       "      <td>Pesos</td>\n",
       "      <td>5201.0</td>\n",
       "      <td>1.02</td>\n",
       "      <td>48hs</td>\n",
       "      <td>870</td>\n",
       "    </tr>\n",
       "    <tr>\n",
       "      <th>222</th>\n",
       "      <td>23100.5</td>\n",
       "      <td>47.0</td>\n",
       "      <td>1.0</td>\n",
       "      <td>ZOOM VIDEO COMMUNICATIONS-A</td>\n",
       "      <td>47:1</td>\n",
       "      <td>ZM</td>\n",
       "      <td>ZM</td>\n",
       "      <td>77.83</td>\n",
       "      <td>78.8300</td>\n",
       "      <td>75.320</td>\n",
       "      <td>...</td>\n",
       "      <td>480.0</td>\n",
       "      <td>500.6738</td>\n",
       "      <td>500.4579</td>\n",
       "      <td>540.0</td>\n",
       "      <td>-1</td>\n",
       "      <td>Pesos</td>\n",
       "      <td>491.5</td>\n",
       "      <td>-0.51</td>\n",
       "      <td>48hs</td>\n",
       "      <td>4133</td>\n",
       "    </tr>\n",
       "  </tbody>\n",
       "</table>\n",
       "<p>223 rows × 38 columns</p>\n",
       "</div>"
      ],
      "text/plain": [
       "     Valor total arg  Ratio Cedear  valor sub-yacente  \\\n",
       "0            35320.0           5.0                1.0   \n",
       "1            30826.0           4.0                1.0   \n",
       "2            43020.0          10.0                1.0   \n",
       "3             4838.5           1.0                1.0   \n",
       "4            10295.0           2.0                1.0   \n",
       "..               ...           ...                ...   \n",
       "218          12925.0           5.0                1.0   \n",
       "219           6076.0           4.0                1.0   \n",
       "220           1315.0           1.0                1.0   \n",
       "221          10402.0           2.0                1.0   \n",
       "222          23100.5          47.0                1.0   \n",
       "\n",
       "            Programa  de  CEDEAR Ratio  Cedear  /  valor  sub-yacente  \\\n",
       "0                          3M CO                                  5:1   \n",
       "1            ABBOTT LABORATORIES                                  4:1   \n",
       "2                     ABBVIE INC                                 10:1   \n",
       "3    ABERCROMBIE & FITCH CO-CL A                                  1:1   \n",
       "4                   ADECOAGRO SA                                  2:1   \n",
       "..                           ...                                  ...   \n",
       "218             WELLS FARGO & CO                                  5:1   \n",
       "219                       XP INC                                  4:1   \n",
       "220              YAMANA GOLD INC                                  1:1   \n",
       "221                     YELP INC                                  2:1   \n",
       "222  ZOOM VIDEO COMMUNICATIONS-A                                 47:1   \n",
       "\n",
       "    ticker_arg ticker  02. open  03. high  04. low  ...  Precio_Compra  \\\n",
       "0          MMM    MMM    116.83  118.0300  114.800  ...         6700.0   \n",
       "1          ABT    ABT    102.87  103.9200  100.620  ...         7000.0   \n",
       "2         ABBV   ABBV    142.15  143.6282  140.290  ...         4100.0   \n",
       "3          ANF    ANF     16.09   16.4600   15.590  ...         4747.0   \n",
       "4         ADGO   AGRO      8.45    8.6000    8.310  ...          500.0   \n",
       "..         ...    ...       ...       ...      ...  ...            ...   \n",
       "218        WFC    WFC     43.66   43.8100   42.240  ...         2500.0   \n",
       "219         XP     XP     19.82   19.9400   19.255  ...         1503.0   \n",
       "220        AUY    AUY      4.26    4.4400    4.180  ...         1242.5   \n",
       "221       YELP   YELP     34.58   34.8700   33.740  ...         5127.0   \n",
       "222         ZM     ZM     77.83   78.8300   75.320  ...          480.0   \n",
       "\n",
       "     Precio_Promedio Precio_Promedio_Ponderado  Precio_Venta  Tendencia  \\\n",
       "0          7149.9464                 7154.7403        7227.0         -1   \n",
       "1          7829.2400                 7831.3539        7868.0         -1   \n",
       "2          4347.2653                 4348.5451        5000.0          0   \n",
       "3          4838.5000                 4838.5000        7408.0          0   \n",
       "4          5150.4490                 5169.4270        5555.0         -1   \n",
       "..               ...                       ...           ...        ...   \n",
       "218        2638.6622                 2642.0042        2830.0         -1   \n",
       "219        1503.7500                 1506.0273        1568.5          1   \n",
       "220        1306.8478                 1320.4920        1396.0         -1   \n",
       "221        5247.0000                 5246.9735        5255.0         -1   \n",
       "222         500.6738                  500.4579         540.0         -1   \n",
       "\n",
       "    Tipo_Liquidacion  Ultimo  Variacion  Vencimiento  Volumen_Nominal  \n",
       "0              Pesos  7064.0      -0.48         48hs             3209  \n",
       "1              Pesos  7706.5       0.46         48hs              741  \n",
       "2              Pesos  4302.0       0.33         48hs              331  \n",
       "3              Pesos  4838.5       1.64         48hs                1  \n",
       "4              Pesos  5147.5       0.83         48hs              826  \n",
       "..               ...     ...        ...          ...              ...  \n",
       "218            Pesos  2585.0      -1.45         48hs             4148  \n",
       "219            Pesos  1519.0       2.98         48hs              152  \n",
       "220            Pesos  1315.0       3.71         48hs             6259  \n",
       "221            Pesos  5201.0       1.02         48hs              870  \n",
       "222            Pesos   491.5      -0.51         48hs             4133  \n",
       "\n",
       "[223 rows x 38 columns]"
      ]
     },
     "execution_count": 113,
     "metadata": {},
     "output_type": "execute_result"
    }
   ],
   "source": [
    "import numpy as np\n",
    "\n",
    "e = np.array(df[['Ultimo']])\n",
    "f = np.array(df[['Ratio Cedear']])\n",
    "\n",
    "g = e*f\n",
    "df.insert(0, 'Valor total arg', g)\n",
    "\n",
    "df"
   ]
  },
  {
   "cell_type": "code",
   "execution_count": 114,
   "metadata": {},
   "outputs": [
    {
     "data": {
      "text/html": [
       "<div>\n",
       "<style scoped>\n",
       "    .dataframe tbody tr th:only-of-type {\n",
       "        vertical-align: middle;\n",
       "    }\n",
       "\n",
       "    .dataframe tbody tr th {\n",
       "        vertical-align: top;\n",
       "    }\n",
       "\n",
       "    .dataframe thead th {\n",
       "        text-align: right;\n",
       "    }\n",
       "</style>\n",
       "<table border=\"1\" class=\"dataframe\">\n",
       "  <thead>\n",
       "    <tr style=\"text-align: right;\">\n",
       "      <th></th>\n",
       "      <th>Dolar CCL</th>\n",
       "      <th>Valor total arg</th>\n",
       "      <th>Ratio Cedear</th>\n",
       "      <th>valor sub-yacente</th>\n",
       "      <th>Programa  de  CEDEAR</th>\n",
       "      <th>Ratio  Cedear  /  valor  sub-yacente</th>\n",
       "      <th>ticker_arg</th>\n",
       "      <th>ticker</th>\n",
       "      <th>02. open</th>\n",
       "      <th>03. high</th>\n",
       "      <th>...</th>\n",
       "      <th>Precio_Compra</th>\n",
       "      <th>Precio_Promedio</th>\n",
       "      <th>Precio_Promedio_Ponderado</th>\n",
       "      <th>Precio_Venta</th>\n",
       "      <th>Tendencia</th>\n",
       "      <th>Tipo_Liquidacion</th>\n",
       "      <th>Ultimo</th>\n",
       "      <th>Variacion</th>\n",
       "      <th>Vencimiento</th>\n",
       "      <th>Volumen_Nominal</th>\n",
       "    </tr>\n",
       "  </thead>\n",
       "  <tbody>\n",
       "    <tr>\n",
       "      <th>0</th>\n",
       "      <td>307.638707</td>\n",
       "      <td>35320.0</td>\n",
       "      <td>5.0</td>\n",
       "      <td>1.0</td>\n",
       "      <td>3M CO</td>\n",
       "      <td>5:1</td>\n",
       "      <td>MMM</td>\n",
       "      <td>MMM</td>\n",
       "      <td>116.83</td>\n",
       "      <td>118.0300</td>\n",
       "      <td>...</td>\n",
       "      <td>6700.0</td>\n",
       "      <td>7149.9464</td>\n",
       "      <td>7154.7403</td>\n",
       "      <td>7227.0</td>\n",
       "      <td>-1</td>\n",
       "      <td>Pesos</td>\n",
       "      <td>7064.0</td>\n",
       "      <td>-0.48</td>\n",
       "      <td>48hs</td>\n",
       "      <td>3209</td>\n",
       "    </tr>\n",
       "    <tr>\n",
       "      <th>1</th>\n",
       "      <td>306.269250</td>\n",
       "      <td>30826.0</td>\n",
       "      <td>4.0</td>\n",
       "      <td>1.0</td>\n",
       "      <td>ABBOTT LABORATORIES</td>\n",
       "      <td>4:1</td>\n",
       "      <td>ABT</td>\n",
       "      <td>ABT</td>\n",
       "      <td>102.87</td>\n",
       "      <td>103.9200</td>\n",
       "      <td>...</td>\n",
       "      <td>7000.0</td>\n",
       "      <td>7829.2400</td>\n",
       "      <td>7831.3539</td>\n",
       "      <td>7868.0</td>\n",
       "      <td>-1</td>\n",
       "      <td>Pesos</td>\n",
       "      <td>7706.5</td>\n",
       "      <td>0.46</td>\n",
       "      <td>48hs</td>\n",
       "      <td>741</td>\n",
       "    </tr>\n",
       "    <tr>\n",
       "      <th>2</th>\n",
       "      <td>306.606799</td>\n",
       "      <td>43020.0</td>\n",
       "      <td>10.0</td>\n",
       "      <td>1.0</td>\n",
       "      <td>ABBVIE INC</td>\n",
       "      <td>10:1</td>\n",
       "      <td>ABBV</td>\n",
       "      <td>ABBV</td>\n",
       "      <td>142.15</td>\n",
       "      <td>143.6282</td>\n",
       "      <td>...</td>\n",
       "      <td>4100.0</td>\n",
       "      <td>4347.2653</td>\n",
       "      <td>4348.5451</td>\n",
       "      <td>5000.0</td>\n",
       "      <td>0</td>\n",
       "      <td>Pesos</td>\n",
       "      <td>4302.0</td>\n",
       "      <td>0.33</td>\n",
       "      <td>48hs</td>\n",
       "      <td>331</td>\n",
       "    </tr>\n",
       "    <tr>\n",
       "      <th>3</th>\n",
       "      <td>310.359205</td>\n",
       "      <td>4838.5</td>\n",
       "      <td>1.0</td>\n",
       "      <td>1.0</td>\n",
       "      <td>ABERCROMBIE &amp; FITCH CO-CL A</td>\n",
       "      <td>1:1</td>\n",
       "      <td>ANF</td>\n",
       "      <td>ANF</td>\n",
       "      <td>16.09</td>\n",
       "      <td>16.4600</td>\n",
       "      <td>...</td>\n",
       "      <td>4747.0</td>\n",
       "      <td>4838.5000</td>\n",
       "      <td>4838.5000</td>\n",
       "      <td>7408.0</td>\n",
       "      <td>0</td>\n",
       "      <td>Pesos</td>\n",
       "      <td>4838.5</td>\n",
       "      <td>1.64</td>\n",
       "      <td>48hs</td>\n",
       "      <td>1</td>\n",
       "    </tr>\n",
       "    <tr>\n",
       "      <th>4</th>\n",
       "      <td>1222.684086</td>\n",
       "      <td>10295.0</td>\n",
       "      <td>2.0</td>\n",
       "      <td>1.0</td>\n",
       "      <td>ADECOAGRO SA</td>\n",
       "      <td>2:1</td>\n",
       "      <td>ADGO</td>\n",
       "      <td>AGRO</td>\n",
       "      <td>8.45</td>\n",
       "      <td>8.6000</td>\n",
       "      <td>...</td>\n",
       "      <td>500.0</td>\n",
       "      <td>5150.4490</td>\n",
       "      <td>5169.4270</td>\n",
       "      <td>5555.0</td>\n",
       "      <td>-1</td>\n",
       "      <td>Pesos</td>\n",
       "      <td>5147.5</td>\n",
       "      <td>0.83</td>\n",
       "      <td>48hs</td>\n",
       "      <td>826</td>\n",
       "    </tr>\n",
       "    <tr>\n",
       "      <th>...</th>\n",
       "      <td>...</td>\n",
       "      <td>...</td>\n",
       "      <td>...</td>\n",
       "      <td>...</td>\n",
       "      <td>...</td>\n",
       "      <td>...</td>\n",
       "      <td>...</td>\n",
       "      <td>...</td>\n",
       "      <td>...</td>\n",
       "      <td>...</td>\n",
       "      <td>...</td>\n",
       "      <td>...</td>\n",
       "      <td>...</td>\n",
       "      <td>...</td>\n",
       "      <td>...</td>\n",
       "      <td>...</td>\n",
       "      <td>...</td>\n",
       "      <td>...</td>\n",
       "      <td>...</td>\n",
       "      <td>...</td>\n",
       "      <td>...</td>\n",
       "    </tr>\n",
       "    <tr>\n",
       "      <th>218</th>\n",
       "      <td>305.772415</td>\n",
       "      <td>12925.0</td>\n",
       "      <td>5.0</td>\n",
       "      <td>1.0</td>\n",
       "      <td>WELLS FARGO &amp; CO</td>\n",
       "      <td>5:1</td>\n",
       "      <td>WFC</td>\n",
       "      <td>WFC</td>\n",
       "      <td>43.66</td>\n",
       "      <td>43.8100</td>\n",
       "      <td>...</td>\n",
       "      <td>2500.0</td>\n",
       "      <td>2638.6622</td>\n",
       "      <td>2642.0042</td>\n",
       "      <td>2830.0</td>\n",
       "      <td>-1</td>\n",
       "      <td>Pesos</td>\n",
       "      <td>2585.0</td>\n",
       "      <td>-1.45</td>\n",
       "      <td>48hs</td>\n",
       "      <td>4148</td>\n",
       "    </tr>\n",
       "    <tr>\n",
       "      <th>219</th>\n",
       "      <td>307.489879</td>\n",
       "      <td>6076.0</td>\n",
       "      <td>4.0</td>\n",
       "      <td>1.0</td>\n",
       "      <td>XP INC</td>\n",
       "      <td>4:1</td>\n",
       "      <td>XP</td>\n",
       "      <td>XP</td>\n",
       "      <td>19.82</td>\n",
       "      <td>19.9400</td>\n",
       "      <td>...</td>\n",
       "      <td>1503.0</td>\n",
       "      <td>1503.7500</td>\n",
       "      <td>1506.0273</td>\n",
       "      <td>1568.5</td>\n",
       "      <td>1</td>\n",
       "      <td>Pesos</td>\n",
       "      <td>1519.0</td>\n",
       "      <td>2.98</td>\n",
       "      <td>48hs</td>\n",
       "      <td>152</td>\n",
       "    </tr>\n",
       "    <tr>\n",
       "      <th>220</th>\n",
       "      <td>307.242991</td>\n",
       "      <td>1315.0</td>\n",
       "      <td>1.0</td>\n",
       "      <td>1.0</td>\n",
       "      <td>YAMANA GOLD INC</td>\n",
       "      <td>1:1</td>\n",
       "      <td>AUY</td>\n",
       "      <td>AUY</td>\n",
       "      <td>4.26</td>\n",
       "      <td>4.4400</td>\n",
       "      <td>...</td>\n",
       "      <td>1242.5</td>\n",
       "      <td>1306.8478</td>\n",
       "      <td>1320.4920</td>\n",
       "      <td>1396.0</td>\n",
       "      <td>-1</td>\n",
       "      <td>Pesos</td>\n",
       "      <td>1315.0</td>\n",
       "      <td>3.71</td>\n",
       "      <td>48hs</td>\n",
       "      <td>6259</td>\n",
       "    </tr>\n",
       "    <tr>\n",
       "      <th>221</th>\n",
       "      <td>307.933689</td>\n",
       "      <td>10402.0</td>\n",
       "      <td>2.0</td>\n",
       "      <td>1.0</td>\n",
       "      <td>YELP INC</td>\n",
       "      <td>2:1</td>\n",
       "      <td>YELP</td>\n",
       "      <td>YELP</td>\n",
       "      <td>34.58</td>\n",
       "      <td>34.8700</td>\n",
       "      <td>...</td>\n",
       "      <td>5127.0</td>\n",
       "      <td>5247.0000</td>\n",
       "      <td>5246.9735</td>\n",
       "      <td>5255.0</td>\n",
       "      <td>-1</td>\n",
       "      <td>Pesos</td>\n",
       "      <td>5201.0</td>\n",
       "      <td>1.02</td>\n",
       "      <td>48hs</td>\n",
       "      <td>870</td>\n",
       "    </tr>\n",
       "    <tr>\n",
       "      <th>222</th>\n",
       "      <td>304.194101</td>\n",
       "      <td>23100.5</td>\n",
       "      <td>47.0</td>\n",
       "      <td>1.0</td>\n",
       "      <td>ZOOM VIDEO COMMUNICATIONS-A</td>\n",
       "      <td>47:1</td>\n",
       "      <td>ZM</td>\n",
       "      <td>ZM</td>\n",
       "      <td>77.83</td>\n",
       "      <td>78.8300</td>\n",
       "      <td>...</td>\n",
       "      <td>480.0</td>\n",
       "      <td>500.6738</td>\n",
       "      <td>500.4579</td>\n",
       "      <td>540.0</td>\n",
       "      <td>-1</td>\n",
       "      <td>Pesos</td>\n",
       "      <td>491.5</td>\n",
       "      <td>-0.51</td>\n",
       "      <td>48hs</td>\n",
       "      <td>4133</td>\n",
       "    </tr>\n",
       "  </tbody>\n",
       "</table>\n",
       "<p>223 rows × 39 columns</p>\n",
       "</div>"
      ],
      "text/plain": [
       "       Dolar CCL  Valor total arg  Ratio Cedear  valor sub-yacente  \\\n",
       "0     307.638707          35320.0           5.0                1.0   \n",
       "1     306.269250          30826.0           4.0                1.0   \n",
       "2     306.606799          43020.0          10.0                1.0   \n",
       "3     310.359205           4838.5           1.0                1.0   \n",
       "4    1222.684086          10295.0           2.0                1.0   \n",
       "..           ...              ...           ...                ...   \n",
       "218   305.772415          12925.0           5.0                1.0   \n",
       "219   307.489879           6076.0           4.0                1.0   \n",
       "220   307.242991           1315.0           1.0                1.0   \n",
       "221   307.933689          10402.0           2.0                1.0   \n",
       "222   304.194101          23100.5          47.0                1.0   \n",
       "\n",
       "            Programa  de  CEDEAR Ratio  Cedear  /  valor  sub-yacente  \\\n",
       "0                          3M CO                                  5:1   \n",
       "1            ABBOTT LABORATORIES                                  4:1   \n",
       "2                     ABBVIE INC                                 10:1   \n",
       "3    ABERCROMBIE & FITCH CO-CL A                                  1:1   \n",
       "4                   ADECOAGRO SA                                  2:1   \n",
       "..                           ...                                  ...   \n",
       "218             WELLS FARGO & CO                                  5:1   \n",
       "219                       XP INC                                  4:1   \n",
       "220              YAMANA GOLD INC                                  1:1   \n",
       "221                     YELP INC                                  2:1   \n",
       "222  ZOOM VIDEO COMMUNICATIONS-A                                 47:1   \n",
       "\n",
       "    ticker_arg ticker  02. open  03. high  ...  Precio_Compra  \\\n",
       "0          MMM    MMM    116.83  118.0300  ...         6700.0   \n",
       "1          ABT    ABT    102.87  103.9200  ...         7000.0   \n",
       "2         ABBV   ABBV    142.15  143.6282  ...         4100.0   \n",
       "3          ANF    ANF     16.09   16.4600  ...         4747.0   \n",
       "4         ADGO   AGRO      8.45    8.6000  ...          500.0   \n",
       "..         ...    ...       ...       ...  ...            ...   \n",
       "218        WFC    WFC     43.66   43.8100  ...         2500.0   \n",
       "219         XP     XP     19.82   19.9400  ...         1503.0   \n",
       "220        AUY    AUY      4.26    4.4400  ...         1242.5   \n",
       "221       YELP   YELP     34.58   34.8700  ...         5127.0   \n",
       "222         ZM     ZM     77.83   78.8300  ...          480.0   \n",
       "\n",
       "     Precio_Promedio  Precio_Promedio_Ponderado Precio_Venta  Tendencia  \\\n",
       "0          7149.9464                  7154.7403       7227.0         -1   \n",
       "1          7829.2400                  7831.3539       7868.0         -1   \n",
       "2          4347.2653                  4348.5451       5000.0          0   \n",
       "3          4838.5000                  4838.5000       7408.0          0   \n",
       "4          5150.4490                  5169.4270       5555.0         -1   \n",
       "..               ...                        ...          ...        ...   \n",
       "218        2638.6622                  2642.0042       2830.0         -1   \n",
       "219        1503.7500                  1506.0273       1568.5          1   \n",
       "220        1306.8478                  1320.4920       1396.0         -1   \n",
       "221        5247.0000                  5246.9735       5255.0         -1   \n",
       "222         500.6738                   500.4579        540.0         -1   \n",
       "\n",
       "     Tipo_Liquidacion  Ultimo  Variacion  Vencimiento  Volumen_Nominal  \n",
       "0               Pesos  7064.0      -0.48         48hs             3209  \n",
       "1               Pesos  7706.5       0.46         48hs              741  \n",
       "2               Pesos  4302.0       0.33         48hs              331  \n",
       "3               Pesos  4838.5       1.64         48hs                1  \n",
       "4               Pesos  5147.5       0.83         48hs              826  \n",
       "..                ...     ...        ...          ...              ...  \n",
       "218             Pesos  2585.0      -1.45         48hs             4148  \n",
       "219             Pesos  1519.0       2.98         48hs              152  \n",
       "220             Pesos  1315.0       3.71         48hs             6259  \n",
       "221             Pesos  5201.0       1.02         48hs              870  \n",
       "222             Pesos   491.5      -0.51         48hs             4133  \n",
       "\n",
       "[223 rows x 39 columns]"
      ]
     },
     "execution_count": 114,
     "metadata": {},
     "output_type": "execute_result"
    }
   ],
   "source": [
    "a = np.array(df[['Valor total arg']])\n",
    "b = np.array(df[['05. price']])\n",
    "\n",
    "c = a / b\n",
    "\n",
    "df.insert(0, 'Dolar CCL', c)\n",
    "df"
   ]
  },
  {
   "cell_type": "code",
   "execution_count": 117,
   "metadata": {},
   "outputs": [
    {
     "name": "stdout",
     "output_type": "stream",
     "text": [
      "Collecting plotly\n",
      "  Downloading plotly-5.10.0-py2.py3-none-any.whl (15.2 MB)\n",
      "Collecting tenacity>=6.2.0\n",
      "  Downloading tenacity-8.1.0-py3-none-any.whl (23 kB)\n",
      "Installing collected packages: tenacity, plotly\n",
      "Successfully installed plotly-5.10.0 tenacity-8.1.0\n",
      "Note: you may need to restart the kernel to use updated packages.\n"
     ]
    }
   ],
   "source": [
    "pip install plotly"
   ]
  },
  {
   "cell_type": "code",
   "execution_count": null,
   "metadata": {},
   "outputs": [],
   "source": [
    "pip install cufflinks"
   ]
  },
  {
   "cell_type": "code",
   "execution_count": 119,
   "metadata": {},
   "outputs": [
    {
     "data": {
      "text/html": [
       "        <script type=\"text/javascript\">\n",
       "        window.PlotlyConfig = {MathJaxConfig: 'local'};\n",
       "        if (window.MathJax && window.MathJax.Hub && window.MathJax.Hub.Config) {window.MathJax.Hub.Config({SVG: {font: \"STIX-Web\"}});}\n",
       "        if (typeof require !== 'undefined') {\n",
       "        require.undef(\"plotly\");\n",
       "        requirejs.config({\n",
       "            paths: {\n",
       "                'plotly': ['https://cdn.plot.ly/plotly-2.14.0.min']\n",
       "            }\n",
       "        });\n",
       "        require(['plotly'], function(Plotly) {\n",
       "            window._Plotly = Plotly;\n",
       "        });\n",
       "        }\n",
       "        </script>\n",
       "        "
      ]
     },
     "metadata": {},
     "output_type": "display_data"
    }
   ],
   "source": [
    "import cufflinks as cf\n",
    "from IPython.display import display,HTML\n",
    "cf.set_config_file(sharing='public',theme='ggplot',offline=True) "
   ]
  },
  {
   "cell_type": "code",
   "execution_count": 120,
   "metadata": {},
   "outputs": [
    {
     "data": {
      "text/plain": [
       "['ggplot', 'pearl', 'solar', 'space', 'white', 'polar', 'henanigans']"
      ]
     },
     "execution_count": 120,
     "metadata": {},
     "output_type": "execute_result"
    }
   ],
   "source": [
    "cf.getThemes()"
   ]
  },
  {
   "cell_type": "code",
   "execution_count": 166,
   "metadata": {},
   "outputs": [
    {
     "data": {
      "text/html": [
       "<div>\n",
       "<style scoped>\n",
       "    .dataframe tbody tr th:only-of-type {\n",
       "        vertical-align: middle;\n",
       "    }\n",
       "\n",
       "    .dataframe tbody tr th {\n",
       "        vertical-align: top;\n",
       "    }\n",
       "\n",
       "    .dataframe thead th {\n",
       "        text-align: right;\n",
       "    }\n",
       "</style>\n",
       "<table border=\"1\" class=\"dataframe\">\n",
       "  <thead>\n",
       "    <tr style=\"text-align: right;\">\n",
       "      <th></th>\n",
       "      <th>Dolar CCL</th>\n",
       "      <th>ticker</th>\n",
       "    </tr>\n",
       "  </thead>\n",
       "  <tbody>\n",
       "    <tr>\n",
       "      <th>0</th>\n",
       "      <td>307.638707</td>\n",
       "      <td>MMM</td>\n",
       "    </tr>\n",
       "    <tr>\n",
       "      <th>1</th>\n",
       "      <td>306.269250</td>\n",
       "      <td>ABT</td>\n",
       "    </tr>\n",
       "    <tr>\n",
       "      <th>2</th>\n",
       "      <td>306.606799</td>\n",
       "      <td>ABBV</td>\n",
       "    </tr>\n",
       "    <tr>\n",
       "      <th>3</th>\n",
       "      <td>310.359205</td>\n",
       "      <td>ANF</td>\n",
       "    </tr>\n",
       "    <tr>\n",
       "      <th>4</th>\n",
       "      <td>1222.684086</td>\n",
       "      <td>AGRO</td>\n",
       "    </tr>\n",
       "    <tr>\n",
       "      <th>...</th>\n",
       "      <td>...</td>\n",
       "      <td>...</td>\n",
       "    </tr>\n",
       "    <tr>\n",
       "      <th>218</th>\n",
       "      <td>305.772415</td>\n",
       "      <td>WFC</td>\n",
       "    </tr>\n",
       "    <tr>\n",
       "      <th>219</th>\n",
       "      <td>307.489879</td>\n",
       "      <td>XP</td>\n",
       "    </tr>\n",
       "    <tr>\n",
       "      <th>220</th>\n",
       "      <td>307.242991</td>\n",
       "      <td>AUY</td>\n",
       "    </tr>\n",
       "    <tr>\n",
       "      <th>221</th>\n",
       "      <td>307.933689</td>\n",
       "      <td>YELP</td>\n",
       "    </tr>\n",
       "    <tr>\n",
       "      <th>222</th>\n",
       "      <td>304.194101</td>\n",
       "      <td>ZM</td>\n",
       "    </tr>\n",
       "  </tbody>\n",
       "</table>\n",
       "<p>223 rows × 2 columns</p>\n",
       "</div>"
      ],
      "text/plain": [
       "       Dolar CCL ticker\n",
       "0     307.638707    MMM\n",
       "1     306.269250    ABT\n",
       "2     306.606799   ABBV\n",
       "3     310.359205    ANF\n",
       "4    1222.684086   AGRO\n",
       "..           ...    ...\n",
       "218   305.772415    WFC\n",
       "219   307.489879     XP\n",
       "220   307.242991    AUY\n",
       "221   307.933689   YELP\n",
       "222   304.194101     ZM\n",
       "\n",
       "[223 rows x 2 columns]"
      ]
     },
     "execution_count": 166,
     "metadata": {},
     "output_type": "execute_result"
    }
   ],
   "source": [
    "dfccl = df[['Dolar CCL', 'ticker']]\n",
    "dfccl"
   ]
  },
  {
   "cell_type": "code",
   "execution_count": 167,
   "metadata": {},
   "outputs": [
    {
     "data": {
      "application/vnd.plotly.v1+json": {
       "config": {
        "linkText": "Export to plot.ly",
        "plotlyServerURL": "https://plot.ly",
        "showLink": true
       },
       "data": [
        {
         "line": {
          "color": "rgba(226, 74, 51, 1.0)",
          "dash": "solid",
          "shape": "linear",
          "width": 1.3
         },
         "mode": "lines",
         "name": "Dolar CCL",
         "text": "",
         "type": "scatter",
         "x": [
          0,
          1,
          2,
          3,
          4,
          5,
          6,
          7,
          8,
          9,
          10,
          11,
          12,
          13,
          14,
          15,
          16,
          17,
          18,
          19,
          20,
          21,
          22,
          23,
          24,
          25,
          26,
          27,
          28,
          29,
          30,
          31,
          32,
          33,
          34,
          35,
          36,
          37,
          38,
          39,
          40,
          41,
          42,
          43,
          44,
          45,
          46,
          47,
          48,
          49,
          50,
          51,
          52,
          53,
          54,
          55,
          56,
          57,
          58,
          59,
          60,
          61,
          62,
          63,
          64,
          65,
          66,
          67,
          68,
          69,
          70,
          71,
          72,
          73,
          74,
          75,
          76,
          77,
          78,
          79,
          80,
          81,
          82,
          83,
          84,
          85,
          86,
          87,
          88,
          89,
          90,
          91,
          92,
          93,
          94,
          95,
          96,
          97,
          98,
          99,
          100,
          101,
          102,
          103,
          104,
          105,
          106,
          107,
          108,
          109,
          110,
          111,
          112,
          113,
          114,
          115,
          116,
          117,
          118,
          119,
          120,
          121,
          122,
          123,
          124,
          125,
          126,
          127,
          128,
          129,
          130,
          131,
          132,
          133,
          134,
          135,
          136,
          137,
          138,
          139,
          140,
          141,
          142,
          143,
          144,
          145,
          146,
          147,
          148,
          149,
          150,
          151,
          152,
          153,
          154,
          155,
          156,
          157,
          158,
          159,
          160,
          161,
          162,
          163,
          164,
          165,
          166,
          167,
          168,
          169,
          170,
          171,
          172,
          173,
          174,
          175,
          176,
          177,
          178,
          179,
          180,
          181,
          182,
          183,
          184,
          185,
          186,
          187,
          188,
          189,
          190,
          191,
          192,
          193,
          194,
          195,
          196,
          197,
          198,
          199,
          200,
          201,
          202,
          203,
          204,
          205,
          206,
          207,
          208,
          209,
          210,
          211,
          212,
          213,
          214,
          215,
          216,
          217,
          218,
          219,
          220,
          221,
          222
         ],
         "y": [
          307.6387074296664,
          306.26924987580725,
          306.60679923027584,
          310.3592046183451,
          1222.6840855106889,
          307.5235766678309,
          1233.4452201933404,
          0,
          307.04208221843834,
          292.1853146853147,
          307.8767123287671,
          306.0218553824692,
          279.1847826086957,
          309.16146448456215,
          2778.3050847457625,
          307.18325791855204,
          308.61678004535145,
          308.3518257010288,
          309.23694779116465,
          308.1172591998574,
          309.23605497170576,
          307.2144158209732,
          307.7850499483293,
          1234.3490304709142,
          307.44153082919917,
          307.0153846153846,
          309.0356739866331,
          308.6908754481323,
          310.01596700153016,
          307.58969641214355,
          307.70234986945167,
          306.5723793677205,
          4934.4,
          309.1016548463357,
          311.81938911022576,
          307.37812911725956,
          314.63707258548294,
          1230.6923076923076,
          313.03300892946726,
          305.5045871559633,
          308.3955614488101,
          308.73197903014415,
          2780,
          309.6746328822344,
          306.12581407889826,
          307.0670391061453,
          0,
          307.3311611374408,
          306.7461471357953,
          311.1111111111111,
          4890.3600464576075,
          307.59305851235405,
          0,
          0,
          19689.795918367345,
          308.4275066121664,
          308.0941074897475,
          307.449494949495,
          0,
          309.44625407166126,
          306.56416321703136,
          312.91722296395193,
          0,
          4933.333333333333,
          308.7188431662847,
          309.4,
          307.3239758726166,
          304.9635036496351,
          304.9117952265652,
          307.4358974358974,
          305.93597154290796,
          308.51364063969896,
          304.3411250963267,
          308.2049536130735,
          307.46087425796003,
          306.95900857959964,
          0,
          0,
          0,
          307.4084750648602,
          307.4766355140187,
          307.373572593801,
          307.7782695286568,
          308.147797252487,
          307.52669039145906,
          308.65623889086385,
          310.15026065624045,
          307.484076433121,
          300.9889240506329,
          4959.139784946236,
          307.46456692913387,
          307.1004229836985,
          312.3670212765958,
          308.6542359140657,
          0,
          0,
          310.32702237521517,
          306.41585488747063,
          307.7178729689808,
          309.3890274314214,
          310.3286384976526,
          306.9392230576441,
          311.22194513715715,
          308.0502215657312,
          308.5907869057702,
          310.52521008403363,
          308.8697647733792,
          314.35836075381394,
          308.4230769230769,
          0,
          0,
          306.8927304964539,
          309.34195064629847,
          309.1772151898734,
          308.3948015454865,
          307.93928779918275,
          308.2326102617466,
          308.78466969238525,
          307.59259259259255,
          307.2501390691637,
          306.6511513963743,
          309.5014992503748,
          307.04951551249,
          0,
          308.39890665120515,
          304.94350282485874,
          308.78859857482183,
          309.103840682788,
          310.16681299385425,
          308.5199344620426,
          304.2654028436019,
          306.71108995716327,
          308.2682291666667,
          308.10837438423647,
          307.9655886570017,
          308.083518021696,
          306.92957746478874,
          308.20418786229743,
          307.7962285392626,
          308.4118016321406,
          307.2,
          0,
          311.05173061667574,
          310.85772634445203,
          307.82029950083194,
          308.4002006018054,
          306.3621395702284,
          306.1556603773585,
          308.47780338711294,
          306.88524590163934,
          312.22222222222223,
          311.1918604651163,
          0,
          307.53159659530564,
          307.2166503280295,
          308.65168539325845,
          306.6037735849057,
          308.1792651532881,
          308.4375,
          306.9971484974775,
          307.24887200189977,
          306.0312732688012,
          306.9672131147541,
          309.0439276485788,
          311.2903225806452,
          307.89473684210526,
          307.4486112134385,
          307.43861338468946,
          312.08491461100573,
          308.22998872604285,
          307.7290836653387,
          307.77756545002865,
          307.72200772200773,
          307.9062424095215,
          305.5880787653007,
          303.5063113604488,
          309.6170212765958,
          309.3087557603687,
          312.20631169192274,
          307.43621307072516,
          306.36532684880564,
          314.8809523809524,
          305.2730894223713,
          313.5407905803196,
          307.765237020316,
          0,
          307.81389420012744,
          2780.6585429089964,
          309.38816575488903,
          312.4952380952381,
          0,
          310.36414565826334,
          307.1187077385424,
          307.3280331835465,
          307.1559175531915,
          306.7666870789957,
          306.08913998744504,
          308.5355648535565,
          307.5301642680622,
          307.8591895210806,
          305.9923501912452,
          305.85164835164835,
          308.5776593166949,
          308.46456692913387,
          307.6433121019108,
          308.2259663032706,
          306.19647355163727,
          306.97449617247304,
          0,
          313.5556567266105,
          307.00685453160696,
          308.21638750565864,
          308.0040526849038,
          308.148861084376,
          311.07491856677524,
          306.9997008674843,
          307.1677673072642,
          303.844100373732,
          305.77241542465106,
          307.4898785425101,
          307.2429906542056,
          307.9336885731202,
          304.19410060574137
         ]
        },
        {
         "line": {
          "color": "rgba(62, 111, 176, 1.0)",
          "dash": "solid",
          "shape": "linear",
          "width": 1.3
         },
         "mode": "lines",
         "name": "ticker",
         "text": "",
         "type": "scatter",
         "x": [
          0,
          1,
          2,
          3,
          4,
          5,
          6,
          7,
          8,
          9,
          10,
          11,
          12,
          13,
          14,
          15,
          16,
          17,
          18,
          19,
          20,
          21,
          22,
          23,
          24,
          25,
          26,
          27,
          28,
          29,
          30,
          31,
          32,
          33,
          34,
          35,
          36,
          37,
          38,
          39,
          40,
          41,
          42,
          43,
          44,
          45,
          46,
          47,
          48,
          49,
          50,
          51,
          52,
          53,
          54,
          55,
          56,
          57,
          58,
          59,
          60,
          61,
          62,
          63,
          64,
          65,
          66,
          67,
          68,
          69,
          70,
          71,
          72,
          73,
          74,
          75,
          76,
          77,
          78,
          79,
          80,
          81,
          82,
          83,
          84,
          85,
          86,
          87,
          88,
          89,
          90,
          91,
          92,
          93,
          94,
          95,
          96,
          97,
          98,
          99,
          100,
          101,
          102,
          103,
          104,
          105,
          106,
          107,
          108,
          109,
          110,
          111,
          112,
          113,
          114,
          115,
          116,
          117,
          118,
          119,
          120,
          121,
          122,
          123,
          124,
          125,
          126,
          127,
          128,
          129,
          130,
          131,
          132,
          133,
          134,
          135,
          136,
          137,
          138,
          139,
          140,
          141,
          142,
          143,
          144,
          145,
          146,
          147,
          148,
          149,
          150,
          151,
          152,
          153,
          154,
          155,
          156,
          157,
          158,
          159,
          160,
          161,
          162,
          163,
          164,
          165,
          166,
          167,
          168,
          169,
          170,
          171,
          172,
          173,
          174,
          175,
          176,
          177,
          178,
          179,
          180,
          181,
          182,
          183,
          184,
          185,
          186,
          187,
          188,
          189,
          190,
          191,
          192,
          193,
          194,
          195,
          196,
          197,
          198,
          199,
          200,
          201,
          202,
          203,
          204,
          205,
          206,
          207,
          208,
          209,
          210,
          211,
          212,
          213,
          214,
          215,
          216,
          217,
          218,
          219,
          220,
          221,
          222
         ],
         "y": [
          "MMM",
          "ABT",
          "ABBV",
          "ANF",
          "AGRO",
          "ADBE",
          "AMD",
          "AEG",
          "AEM",
          "BABA",
          "GOOGL",
          "MO",
          "ACHHY",
          "AMZN",
          "ABEV",
          "AMX",
          "AAL",
          "AXP",
          "AIG",
          "AMGN",
          "ADI",
          "AAPL",
          "AMAT",
          "ARCO",
          "AZN",
          "T",
          "ADP",
          "AVY",
          "CAR",
          "BIDU",
          "BBD",
          "BSBR",
          "SAN",
          "BK",
          "BCS",
          "GOLD",
          "BHP",
          "BIOX",
          "BIIB",
          "BB",
          "BA",
          "BP",
          "BRFS",
          "BMY",
          "AVGO",
          "BG",
          "CAJ",
          "CAH",
          "CAT",
          "CX",
          "EBR",
          "CVX",
          "ELP",
          "SBS",
          "SID",
          "CSCO",
          "C",
          "KO",
          "KOF",
          "CDE",
          "COIN",
          "CL",
          "GLW",
          "CAAP",
          "COST",
          "CS",
          "DE",
          "DESP",
          "DEO",
          "DOCU",
          "DOW",
          "DD",
          "EBAY",
          "EA",
          "LLY",
          "ERJ",
          "E",
          "EFX",
          "ERIC",
          "ETSY",
          "XOM",
          "FDX",
          "FSLR",
          "FMX",
          "FCX",
          "GRMN",
          "GE",
          "GM",
          "GPRK",
          "GGB",
          "GILD",
          "GLOB",
          "GFI",
          "GS",
          "PAC",
          "ASR",
          "TV",
          "GSK",
          "HAL",
          "HOG",
          "HMY",
          "HDB",
          "HL",
          "HSY",
          "HD",
          "HMC",
          "HON",
          "HWM",
          "HPQ",
          "HSBC",
          "HNPIY",
          "IBN",
          "INFY",
          "ING",
          "INTC",
          "IP",
          "IBM",
          "IFF",
          "ITUB",
          "JD",
          "JNJ",
          "YY",
          "JPM",
          "KB",
          "KMB",
          "KGC",
          "PHG",
          "KEP",
          "LRCX",
          "LVS",
          "LYG",
          "LMT",
          "MMC",
          "MA",
          "MCD",
          "MDT",
          "MELI",
          "MRK",
          "META",
          "MSFT",
          "MUFG",
          "MFG",
          "MSI",
          "NGG",
          "NTCO",
          "NTES",
          "NFLX",
          "NEM",
          "NKE",
          "NIO",
          "NOK",
          "NMR",
          "NG",
          "NVS",
          "NVDA",
          "ORCL",
          "ORAN",
          "PCAR",
          "PAAS",
          "PYPL",
          "PEP",
          "PBR",
          "PFE",
          "PSX",
          "PBI",
          "PKX",
          "PG",
          "QCOM",
          "RTX",
          "RIO",
          "ROST",
          "SHEL",
          "CRM",
          "SAP",
          "SLB",
          "SE",
          "SHOP",
          "SNAP",
          "SNA",
          "SNOW",
          "SONY",
          "SCCO",
          "SPOT",
          "SQ",
          "SBUX",
          "SUZ",
          "SYY",
          "TSM",
          "TGT",
          "TTM",
          "VIV",
          "TEF",
          "TS",
          "TX",
          "TSLA",
          "TXN",
          "TMO",
          "TTE",
          "TM",
          "TCOM",
          "TRIP",
          "TWLO",
          "TWTR",
          "UGP",
          "UL",
          "UNP",
          "X",
          "UNH",
          "URBN",
          "USB",
          "VALE",
          "VRSN",
          "VZ",
          "V",
          "VOD",
          "WBA",
          "WMT",
          "WB",
          "WFC",
          "XP",
          "AUY",
          "YELP",
          "ZM"
         ]
        }
       ],
       "layout": {
        "legend": {
         "bgcolor": "#FFFFFF",
         "font": {
          "color": "#666666"
         }
        },
        "paper_bgcolor": "#FFFFFF",
        "plot_bgcolor": "#E5E5E5",
        "template": {
         "data": {
          "bar": [
           {
            "error_x": {
             "color": "#2a3f5f"
            },
            "error_y": {
             "color": "#2a3f5f"
            },
            "marker": {
             "line": {
              "color": "#E5ECF6",
              "width": 0.5
             },
             "pattern": {
              "fillmode": "overlay",
              "size": 10,
              "solidity": 0.2
             }
            },
            "type": "bar"
           }
          ],
          "barpolar": [
           {
            "marker": {
             "line": {
              "color": "#E5ECF6",
              "width": 0.5
             },
             "pattern": {
              "fillmode": "overlay",
              "size": 10,
              "solidity": 0.2
             }
            },
            "type": "barpolar"
           }
          ],
          "carpet": [
           {
            "aaxis": {
             "endlinecolor": "#2a3f5f",
             "gridcolor": "white",
             "linecolor": "white",
             "minorgridcolor": "white",
             "startlinecolor": "#2a3f5f"
            },
            "baxis": {
             "endlinecolor": "#2a3f5f",
             "gridcolor": "white",
             "linecolor": "white",
             "minorgridcolor": "white",
             "startlinecolor": "#2a3f5f"
            },
            "type": "carpet"
           }
          ],
          "choropleth": [
           {
            "colorbar": {
             "outlinewidth": 0,
             "ticks": ""
            },
            "type": "choropleth"
           }
          ],
          "contour": [
           {
            "colorbar": {
             "outlinewidth": 0,
             "ticks": ""
            },
            "colorscale": [
             [
              0,
              "#0d0887"
             ],
             [
              0.1111111111111111,
              "#46039f"
             ],
             [
              0.2222222222222222,
              "#7201a8"
             ],
             [
              0.3333333333333333,
              "#9c179e"
             ],
             [
              0.4444444444444444,
              "#bd3786"
             ],
             [
              0.5555555555555556,
              "#d8576b"
             ],
             [
              0.6666666666666666,
              "#ed7953"
             ],
             [
              0.7777777777777778,
              "#fb9f3a"
             ],
             [
              0.8888888888888888,
              "#fdca26"
             ],
             [
              1,
              "#f0f921"
             ]
            ],
            "type": "contour"
           }
          ],
          "contourcarpet": [
           {
            "colorbar": {
             "outlinewidth": 0,
             "ticks": ""
            },
            "type": "contourcarpet"
           }
          ],
          "heatmap": [
           {
            "colorbar": {
             "outlinewidth": 0,
             "ticks": ""
            },
            "colorscale": [
             [
              0,
              "#0d0887"
             ],
             [
              0.1111111111111111,
              "#46039f"
             ],
             [
              0.2222222222222222,
              "#7201a8"
             ],
             [
              0.3333333333333333,
              "#9c179e"
             ],
             [
              0.4444444444444444,
              "#bd3786"
             ],
             [
              0.5555555555555556,
              "#d8576b"
             ],
             [
              0.6666666666666666,
              "#ed7953"
             ],
             [
              0.7777777777777778,
              "#fb9f3a"
             ],
             [
              0.8888888888888888,
              "#fdca26"
             ],
             [
              1,
              "#f0f921"
             ]
            ],
            "type": "heatmap"
           }
          ],
          "heatmapgl": [
           {
            "colorbar": {
             "outlinewidth": 0,
             "ticks": ""
            },
            "colorscale": [
             [
              0,
              "#0d0887"
             ],
             [
              0.1111111111111111,
              "#46039f"
             ],
             [
              0.2222222222222222,
              "#7201a8"
             ],
             [
              0.3333333333333333,
              "#9c179e"
             ],
             [
              0.4444444444444444,
              "#bd3786"
             ],
             [
              0.5555555555555556,
              "#d8576b"
             ],
             [
              0.6666666666666666,
              "#ed7953"
             ],
             [
              0.7777777777777778,
              "#fb9f3a"
             ],
             [
              0.8888888888888888,
              "#fdca26"
             ],
             [
              1,
              "#f0f921"
             ]
            ],
            "type": "heatmapgl"
           }
          ],
          "histogram": [
           {
            "marker": {
             "pattern": {
              "fillmode": "overlay",
              "size": 10,
              "solidity": 0.2
             }
            },
            "type": "histogram"
           }
          ],
          "histogram2d": [
           {
            "colorbar": {
             "outlinewidth": 0,
             "ticks": ""
            },
            "colorscale": [
             [
              0,
              "#0d0887"
             ],
             [
              0.1111111111111111,
              "#46039f"
             ],
             [
              0.2222222222222222,
              "#7201a8"
             ],
             [
              0.3333333333333333,
              "#9c179e"
             ],
             [
              0.4444444444444444,
              "#bd3786"
             ],
             [
              0.5555555555555556,
              "#d8576b"
             ],
             [
              0.6666666666666666,
              "#ed7953"
             ],
             [
              0.7777777777777778,
              "#fb9f3a"
             ],
             [
              0.8888888888888888,
              "#fdca26"
             ],
             [
              1,
              "#f0f921"
             ]
            ],
            "type": "histogram2d"
           }
          ],
          "histogram2dcontour": [
           {
            "colorbar": {
             "outlinewidth": 0,
             "ticks": ""
            },
            "colorscale": [
             [
              0,
              "#0d0887"
             ],
             [
              0.1111111111111111,
              "#46039f"
             ],
             [
              0.2222222222222222,
              "#7201a8"
             ],
             [
              0.3333333333333333,
              "#9c179e"
             ],
             [
              0.4444444444444444,
              "#bd3786"
             ],
             [
              0.5555555555555556,
              "#d8576b"
             ],
             [
              0.6666666666666666,
              "#ed7953"
             ],
             [
              0.7777777777777778,
              "#fb9f3a"
             ],
             [
              0.8888888888888888,
              "#fdca26"
             ],
             [
              1,
              "#f0f921"
             ]
            ],
            "type": "histogram2dcontour"
           }
          ],
          "mesh3d": [
           {
            "colorbar": {
             "outlinewidth": 0,
             "ticks": ""
            },
            "type": "mesh3d"
           }
          ],
          "parcoords": [
           {
            "line": {
             "colorbar": {
              "outlinewidth": 0,
              "ticks": ""
             }
            },
            "type": "parcoords"
           }
          ],
          "pie": [
           {
            "automargin": true,
            "type": "pie"
           }
          ],
          "scatter": [
           {
            "fillpattern": {
             "fillmode": "overlay",
             "size": 10,
             "solidity": 0.2
            },
            "type": "scatter"
           }
          ],
          "scatter3d": [
           {
            "line": {
             "colorbar": {
              "outlinewidth": 0,
              "ticks": ""
             }
            },
            "marker": {
             "colorbar": {
              "outlinewidth": 0,
              "ticks": ""
             }
            },
            "type": "scatter3d"
           }
          ],
          "scattercarpet": [
           {
            "marker": {
             "colorbar": {
              "outlinewidth": 0,
              "ticks": ""
             }
            },
            "type": "scattercarpet"
           }
          ],
          "scattergeo": [
           {
            "marker": {
             "colorbar": {
              "outlinewidth": 0,
              "ticks": ""
             }
            },
            "type": "scattergeo"
           }
          ],
          "scattergl": [
           {
            "marker": {
             "colorbar": {
              "outlinewidth": 0,
              "ticks": ""
             }
            },
            "type": "scattergl"
           }
          ],
          "scattermapbox": [
           {
            "marker": {
             "colorbar": {
              "outlinewidth": 0,
              "ticks": ""
             }
            },
            "type": "scattermapbox"
           }
          ],
          "scatterpolar": [
           {
            "marker": {
             "colorbar": {
              "outlinewidth": 0,
              "ticks": ""
             }
            },
            "type": "scatterpolar"
           }
          ],
          "scatterpolargl": [
           {
            "marker": {
             "colorbar": {
              "outlinewidth": 0,
              "ticks": ""
             }
            },
            "type": "scatterpolargl"
           }
          ],
          "scatterternary": [
           {
            "marker": {
             "colorbar": {
              "outlinewidth": 0,
              "ticks": ""
             }
            },
            "type": "scatterternary"
           }
          ],
          "surface": [
           {
            "colorbar": {
             "outlinewidth": 0,
             "ticks": ""
            },
            "colorscale": [
             [
              0,
              "#0d0887"
             ],
             [
              0.1111111111111111,
              "#46039f"
             ],
             [
              0.2222222222222222,
              "#7201a8"
             ],
             [
              0.3333333333333333,
              "#9c179e"
             ],
             [
              0.4444444444444444,
              "#bd3786"
             ],
             [
              0.5555555555555556,
              "#d8576b"
             ],
             [
              0.6666666666666666,
              "#ed7953"
             ],
             [
              0.7777777777777778,
              "#fb9f3a"
             ],
             [
              0.8888888888888888,
              "#fdca26"
             ],
             [
              1,
              "#f0f921"
             ]
            ],
            "type": "surface"
           }
          ],
          "table": [
           {
            "cells": {
             "fill": {
              "color": "#EBF0F8"
             },
             "line": {
              "color": "white"
             }
            },
            "header": {
             "fill": {
              "color": "#C8D4E3"
             },
             "line": {
              "color": "white"
             }
            },
            "type": "table"
           }
          ]
         },
         "layout": {
          "annotationdefaults": {
           "arrowcolor": "#2a3f5f",
           "arrowhead": 0,
           "arrowwidth": 1
          },
          "autotypenumbers": "strict",
          "coloraxis": {
           "colorbar": {
            "outlinewidth": 0,
            "ticks": ""
           }
          },
          "colorscale": {
           "diverging": [
            [
             0,
             "#8e0152"
            ],
            [
             0.1,
             "#c51b7d"
            ],
            [
             0.2,
             "#de77ae"
            ],
            [
             0.3,
             "#f1b6da"
            ],
            [
             0.4,
             "#fde0ef"
            ],
            [
             0.5,
             "#f7f7f7"
            ],
            [
             0.6,
             "#e6f5d0"
            ],
            [
             0.7,
             "#b8e186"
            ],
            [
             0.8,
             "#7fbc41"
            ],
            [
             0.9,
             "#4d9221"
            ],
            [
             1,
             "#276419"
            ]
           ],
           "sequential": [
            [
             0,
             "#0d0887"
            ],
            [
             0.1111111111111111,
             "#46039f"
            ],
            [
             0.2222222222222222,
             "#7201a8"
            ],
            [
             0.3333333333333333,
             "#9c179e"
            ],
            [
             0.4444444444444444,
             "#bd3786"
            ],
            [
             0.5555555555555556,
             "#d8576b"
            ],
            [
             0.6666666666666666,
             "#ed7953"
            ],
            [
             0.7777777777777778,
             "#fb9f3a"
            ],
            [
             0.8888888888888888,
             "#fdca26"
            ],
            [
             1,
             "#f0f921"
            ]
           ],
           "sequentialminus": [
            [
             0,
             "#0d0887"
            ],
            [
             0.1111111111111111,
             "#46039f"
            ],
            [
             0.2222222222222222,
             "#7201a8"
            ],
            [
             0.3333333333333333,
             "#9c179e"
            ],
            [
             0.4444444444444444,
             "#bd3786"
            ],
            [
             0.5555555555555556,
             "#d8576b"
            ],
            [
             0.6666666666666666,
             "#ed7953"
            ],
            [
             0.7777777777777778,
             "#fb9f3a"
            ],
            [
             0.8888888888888888,
             "#fdca26"
            ],
            [
             1,
             "#f0f921"
            ]
           ]
          },
          "colorway": [
           "#636efa",
           "#EF553B",
           "#00cc96",
           "#ab63fa",
           "#FFA15A",
           "#19d3f3",
           "#FF6692",
           "#B6E880",
           "#FF97FF",
           "#FECB52"
          ],
          "font": {
           "color": "#2a3f5f"
          },
          "geo": {
           "bgcolor": "white",
           "lakecolor": "white",
           "landcolor": "#E5ECF6",
           "showlakes": true,
           "showland": true,
           "subunitcolor": "white"
          },
          "hoverlabel": {
           "align": "left"
          },
          "hovermode": "closest",
          "mapbox": {
           "style": "light"
          },
          "paper_bgcolor": "white",
          "plot_bgcolor": "#E5ECF6",
          "polar": {
           "angularaxis": {
            "gridcolor": "white",
            "linecolor": "white",
            "ticks": ""
           },
           "bgcolor": "#E5ECF6",
           "radialaxis": {
            "gridcolor": "white",
            "linecolor": "white",
            "ticks": ""
           }
          },
          "scene": {
           "xaxis": {
            "backgroundcolor": "#E5ECF6",
            "gridcolor": "white",
            "gridwidth": 2,
            "linecolor": "white",
            "showbackground": true,
            "ticks": "",
            "zerolinecolor": "white"
           },
           "yaxis": {
            "backgroundcolor": "#E5ECF6",
            "gridcolor": "white",
            "gridwidth": 2,
            "linecolor": "white",
            "showbackground": true,
            "ticks": "",
            "zerolinecolor": "white"
           },
           "zaxis": {
            "backgroundcolor": "#E5ECF6",
            "gridcolor": "white",
            "gridwidth": 2,
            "linecolor": "white",
            "showbackground": true,
            "ticks": "",
            "zerolinecolor": "white"
           }
          },
          "shapedefaults": {
           "line": {
            "color": "#2a3f5f"
           }
          },
          "ternary": {
           "aaxis": {
            "gridcolor": "white",
            "linecolor": "white",
            "ticks": ""
           },
           "baxis": {
            "gridcolor": "white",
            "linecolor": "white",
            "ticks": ""
           },
           "bgcolor": "#E5ECF6",
           "caxis": {
            "gridcolor": "white",
            "linecolor": "white",
            "ticks": ""
           }
          },
          "title": {
           "x": 0.05
          },
          "xaxis": {
           "automargin": true,
           "gridcolor": "white",
           "linecolor": "white",
           "ticks": "",
           "title": {
            "standoff": 15
           },
           "zerolinecolor": "white",
           "zerolinewidth": 2
          },
          "yaxis": {
           "automargin": true,
           "gridcolor": "white",
           "linecolor": "white",
           "ticks": "",
           "title": {
            "standoff": 15
           },
           "zerolinecolor": "white",
           "zerolinewidth": 2
          }
         }
        },
        "title": {
         "font": {
          "color": "#151516"
         }
        },
        "xaxis": {
         "gridcolor": "#F6F6F6",
         "showgrid": true,
         "tickfont": {
          "color": "#666666"
         },
         "title": {
          "font": {
           "color": "#666666"
          },
          "text": ""
         },
         "zerolinecolor": "#F6F6F6"
        },
        "yaxis": {
         "gridcolor": "#F6F6F6",
         "showgrid": true,
         "tickfont": {
          "color": "#666666"
         },
         "title": {
          "font": {
           "color": "#666666"
          },
          "text": ""
         },
         "zerolinecolor": "#F6F6F6"
        }
       }
      },
      "text/html": [
       "<div>                            <div id=\"3d558021-3511-4bc8-9060-8008fb0e2ee9\" class=\"plotly-graph-div\" style=\"height:525px; width:100%;\"></div>            <script type=\"text/javascript\">                require([\"plotly\"], function(Plotly) {                    window.PLOTLYENV=window.PLOTLYENV || {};\n",
       "                    window.PLOTLYENV.BASE_URL='https://plot.ly';                                    if (document.getElementById(\"3d558021-3511-4bc8-9060-8008fb0e2ee9\")) {                    Plotly.newPlot(                        \"3d558021-3511-4bc8-9060-8008fb0e2ee9\",                        [{\"line\":{\"color\":\"rgba(226, 74, 51, 1.0)\",\"dash\":\"solid\",\"shape\":\"linear\",\"width\":1.3},\"mode\":\"lines\",\"name\":\"Dolar CCL\",\"text\":\"\",\"x\":[0,1,2,3,4,5,6,7,8,9,10,11,12,13,14,15,16,17,18,19,20,21,22,23,24,25,26,27,28,29,30,31,32,33,34,35,36,37,38,39,40,41,42,43,44,45,46,47,48,49,50,51,52,53,54,55,56,57,58,59,60,61,62,63,64,65,66,67,68,69,70,71,72,73,74,75,76,77,78,79,80,81,82,83,84,85,86,87,88,89,90,91,92,93,94,95,96,97,98,99,100,101,102,103,104,105,106,107,108,109,110,111,112,113,114,115,116,117,118,119,120,121,122,123,124,125,126,127,128,129,130,131,132,133,134,135,136,137,138,139,140,141,142,143,144,145,146,147,148,149,150,151,152,153,154,155,156,157,158,159,160,161,162,163,164,165,166,167,168,169,170,171,172,173,174,175,176,177,178,179,180,181,182,183,184,185,186,187,188,189,190,191,192,193,194,195,196,197,198,199,200,201,202,203,204,205,206,207,208,209,210,211,212,213,214,215,216,217,218,219,220,221,222],\"y\":[307.6387074296664,306.26924987580725,306.60679923027584,310.3592046183451,1222.6840855106889,307.5235766678309,1233.4452201933404,0.0,307.04208221843834,292.1853146853147,307.8767123287671,306.0218553824692,279.1847826086957,309.16146448456215,2778.3050847457625,307.18325791855204,308.61678004535145,308.3518257010288,309.23694779116465,308.1172591998574,309.23605497170576,307.2144158209732,307.7850499483293,1234.3490304709142,307.44153082919917,307.0153846153846,309.0356739866331,308.6908754481323,310.01596700153016,307.58969641214355,307.70234986945167,306.5723793677205,4934.4,309.1016548463357,311.81938911022576,307.37812911725956,314.63707258548294,1230.6923076923076,313.03300892946726,305.5045871559633,308.3955614488101,308.73197903014415,2780.0,309.6746328822344,306.12581407889826,307.0670391061453,0.0,307.3311611374408,306.7461471357953,311.1111111111111,4890.3600464576075,307.59305851235405,0.0,0.0,19689.795918367345,308.4275066121664,308.0941074897475,307.449494949495,0.0,309.44625407166126,306.56416321703136,312.91722296395193,0.0,4933.333333333333,308.7188431662847,309.4,307.3239758726166,304.9635036496351,304.9117952265652,307.4358974358974,305.93597154290796,308.51364063969896,304.3411250963267,308.2049536130735,307.46087425796003,306.95900857959964,0.0,0.0,0.0,307.4084750648602,307.4766355140187,307.373572593801,307.7782695286568,308.147797252487,307.52669039145906,308.65623889086385,310.15026065624045,307.484076433121,300.9889240506329,4959.139784946236,307.46456692913387,307.1004229836985,312.3670212765958,308.6542359140657,0.0,0.0,310.32702237521517,306.41585488747063,307.7178729689808,309.3890274314214,310.3286384976526,306.9392230576441,311.22194513715715,308.0502215657312,308.5907869057702,310.52521008403363,308.8697647733792,314.35836075381394,308.4230769230769,0.0,0.0,306.8927304964539,309.34195064629847,309.1772151898734,308.3948015454865,307.93928779918275,308.2326102617466,308.78466969238525,307.59259259259255,307.2501390691637,306.6511513963743,309.5014992503748,307.04951551249,0.0,308.39890665120515,304.94350282485874,308.78859857482183,309.103840682788,310.16681299385425,308.5199344620426,304.2654028436019,306.71108995716327,308.2682291666667,308.10837438423647,307.9655886570017,308.083518021696,306.92957746478874,308.20418786229743,307.7962285392626,308.4118016321406,307.2,0.0,311.05173061667574,310.85772634445203,307.82029950083194,308.4002006018054,306.3621395702284,306.1556603773585,308.47780338711294,306.88524590163934,312.22222222222223,311.1918604651163,0.0,307.53159659530564,307.2166503280295,308.65168539325845,306.6037735849057,308.1792651532881,308.4375,306.9971484974775,307.24887200189977,306.0312732688012,306.9672131147541,309.0439276485788,311.2903225806452,307.89473684210526,307.4486112134385,307.43861338468946,312.08491461100573,308.22998872604285,307.7290836653387,307.77756545002865,307.72200772200773,307.9062424095215,305.5880787653007,303.5063113604488,309.6170212765958,309.3087557603687,312.20631169192274,307.43621307072516,306.36532684880564,314.8809523809524,305.2730894223713,313.5407905803196,307.765237020316,0.0,307.81389420012744,2780.6585429089964,309.38816575488903,312.4952380952381,0.0,310.36414565826334,307.1187077385424,307.3280331835465,307.1559175531915,306.7666870789957,306.08913998744504,308.5355648535565,307.5301642680622,307.8591895210806,305.9923501912452,305.85164835164835,308.5776593166949,308.46456692913387,307.6433121019108,308.2259663032706,306.19647355163727,306.97449617247304,0.0,313.5556567266105,307.00685453160696,308.21638750565864,308.0040526849038,308.148861084376,311.07491856677524,306.9997008674843,307.1677673072642,303.844100373732,305.77241542465106,307.4898785425101,307.2429906542056,307.9336885731202,304.19410060574137],\"type\":\"scatter\"},{\"line\":{\"color\":\"rgba(62, 111, 176, 1.0)\",\"dash\":\"solid\",\"shape\":\"linear\",\"width\":1.3},\"mode\":\"lines\",\"name\":\"ticker\",\"text\":\"\",\"x\":[0,1,2,3,4,5,6,7,8,9,10,11,12,13,14,15,16,17,18,19,20,21,22,23,24,25,26,27,28,29,30,31,32,33,34,35,36,37,38,39,40,41,42,43,44,45,46,47,48,49,50,51,52,53,54,55,56,57,58,59,60,61,62,63,64,65,66,67,68,69,70,71,72,73,74,75,76,77,78,79,80,81,82,83,84,85,86,87,88,89,90,91,92,93,94,95,96,97,98,99,100,101,102,103,104,105,106,107,108,109,110,111,112,113,114,115,116,117,118,119,120,121,122,123,124,125,126,127,128,129,130,131,132,133,134,135,136,137,138,139,140,141,142,143,144,145,146,147,148,149,150,151,152,153,154,155,156,157,158,159,160,161,162,163,164,165,166,167,168,169,170,171,172,173,174,175,176,177,178,179,180,181,182,183,184,185,186,187,188,189,190,191,192,193,194,195,196,197,198,199,200,201,202,203,204,205,206,207,208,209,210,211,212,213,214,215,216,217,218,219,220,221,222],\"y\":[\"MMM\",\"ABT\",\"ABBV\",\"ANF\",\"AGRO\",\"ADBE\",\"AMD\",\"AEG\",\"AEM\",\"BABA\",\"GOOGL\",\"MO\",\"ACHHY\",\"AMZN\",\"ABEV\",\"AMX\",\"AAL\",\"AXP\",\"AIG\",\"AMGN\",\"ADI\",\"AAPL\",\"AMAT\",\"ARCO\",\"AZN\",\"T\",\"ADP\",\"AVY\",\"CAR\",\"BIDU\",\"BBD\",\"BSBR\",\"SAN\",\"BK\",\"BCS\",\"GOLD\",\"BHP\",\"BIOX\",\"BIIB\",\"BB\",\"BA\",\"BP\",\"BRFS\",\"BMY\",\"AVGO\",\"BG\",\"CAJ\",\"CAH\",\"CAT\",\"CX\",\"EBR\",\"CVX\",\"ELP\",\"SBS\",\"SID\",\"CSCO\",\"C\",\"KO\",\"KOF\",\"CDE\",\"COIN\",\"CL\",\"GLW\",\"CAAP\",\"COST\",\"CS\",\"DE\",\"DESP\",\"DEO\",\"DOCU\",\"DOW\",\"DD\",\"EBAY\",\"EA\",\"LLY\",\"ERJ\",\"E\",\"EFX\",\"ERIC\",\"ETSY\",\"XOM\",\"FDX\",\"FSLR\",\"FMX\",\"FCX\",\"GRMN\",\"GE\",\"GM\",\"GPRK\",\"GGB\",\"GILD\",\"GLOB\",\"GFI\",\"GS\",\"PAC\",\"ASR\",\"TV\",\"GSK\",\"HAL\",\"HOG\",\"HMY\",\"HDB\",\"HL\",\"HSY\",\"HD\",\"HMC\",\"HON\",\"HWM\",\"HPQ\",\"HSBC\",\"HNPIY\",\"IBN\",\"INFY\",\"ING\",\"INTC\",\"IP\",\"IBM\",\"IFF\",\"ITUB\",\"JD\",\"JNJ\",\"YY\",\"JPM\",\"KB\",\"KMB\",\"KGC\",\"PHG\",\"KEP\",\"LRCX\",\"LVS\",\"LYG\",\"LMT\",\"MMC\",\"MA\",\"MCD\",\"MDT\",\"MELI\",\"MRK\",\"META\",\"MSFT\",\"MUFG\",\"MFG\",\"MSI\",\"NGG\",\"NTCO\",\"NTES\",\"NFLX\",\"NEM\",\"NKE\",\"NIO\",\"NOK\",\"NMR\",\"NG\",\"NVS\",\"NVDA\",\"ORCL\",\"ORAN\",\"PCAR\",\"PAAS\",\"PYPL\",\"PEP\",\"PBR\",\"PFE\",\"PSX\",\"PBI\",\"PKX\",\"PG\",\"QCOM\",\"RTX\",\"RIO\",\"ROST\",\"SHEL\",\"CRM\",\"SAP\",\"SLB\",\"SE\",\"SHOP\",\"SNAP\",\"SNA\",\"SNOW\",\"SONY\",\"SCCO\",\"SPOT\",\"SQ\",\"SBUX\",\"SUZ\",\"SYY\",\"TSM\",\"TGT\",\"TTM\",\"VIV\",\"TEF\",\"TS\",\"TX\",\"TSLA\",\"TXN\",\"TMO\",\"TTE\",\"TM\",\"TCOM\",\"TRIP\",\"TWLO\",\"TWTR\",\"UGP\",\"UL\",\"UNP\",\"X\",\"UNH\",\"URBN\",\"USB\",\"VALE\",\"VRSN\",\"VZ\",\"V\",\"VOD\",\"WBA\",\"WMT\",\"WB\",\"WFC\",\"XP\",\"AUY\",\"YELP\",\"ZM\"],\"type\":\"scatter\"}],                        {\"legend\":{\"bgcolor\":\"#FFFFFF\",\"font\":{\"color\":\"#666666\"}},\"paper_bgcolor\":\"#FFFFFF\",\"plot_bgcolor\":\"#E5E5E5\",\"template\":{\"data\":{\"barpolar\":[{\"marker\":{\"line\":{\"color\":\"#E5ECF6\",\"width\":0.5},\"pattern\":{\"fillmode\":\"overlay\",\"size\":10,\"solidity\":0.2}},\"type\":\"barpolar\"}],\"bar\":[{\"error_x\":{\"color\":\"#2a3f5f\"},\"error_y\":{\"color\":\"#2a3f5f\"},\"marker\":{\"line\":{\"color\":\"#E5ECF6\",\"width\":0.5},\"pattern\":{\"fillmode\":\"overlay\",\"size\":10,\"solidity\":0.2}},\"type\":\"bar\"}],\"carpet\":[{\"aaxis\":{\"endlinecolor\":\"#2a3f5f\",\"gridcolor\":\"white\",\"linecolor\":\"white\",\"minorgridcolor\":\"white\",\"startlinecolor\":\"#2a3f5f\"},\"baxis\":{\"endlinecolor\":\"#2a3f5f\",\"gridcolor\":\"white\",\"linecolor\":\"white\",\"minorgridcolor\":\"white\",\"startlinecolor\":\"#2a3f5f\"},\"type\":\"carpet\"}],\"choropleth\":[{\"colorbar\":{\"outlinewidth\":0,\"ticks\":\"\"},\"type\":\"choropleth\"}],\"contourcarpet\":[{\"colorbar\":{\"outlinewidth\":0,\"ticks\":\"\"},\"type\":\"contourcarpet\"}],\"contour\":[{\"colorbar\":{\"outlinewidth\":0,\"ticks\":\"\"},\"colorscale\":[[0.0,\"#0d0887\"],[0.1111111111111111,\"#46039f\"],[0.2222222222222222,\"#7201a8\"],[0.3333333333333333,\"#9c179e\"],[0.4444444444444444,\"#bd3786\"],[0.5555555555555556,\"#d8576b\"],[0.6666666666666666,\"#ed7953\"],[0.7777777777777778,\"#fb9f3a\"],[0.8888888888888888,\"#fdca26\"],[1.0,\"#f0f921\"]],\"type\":\"contour\"}],\"heatmapgl\":[{\"colorbar\":{\"outlinewidth\":0,\"ticks\":\"\"},\"colorscale\":[[0.0,\"#0d0887\"],[0.1111111111111111,\"#46039f\"],[0.2222222222222222,\"#7201a8\"],[0.3333333333333333,\"#9c179e\"],[0.4444444444444444,\"#bd3786\"],[0.5555555555555556,\"#d8576b\"],[0.6666666666666666,\"#ed7953\"],[0.7777777777777778,\"#fb9f3a\"],[0.8888888888888888,\"#fdca26\"],[1.0,\"#f0f921\"]],\"type\":\"heatmapgl\"}],\"heatmap\":[{\"colorbar\":{\"outlinewidth\":0,\"ticks\":\"\"},\"colorscale\":[[0.0,\"#0d0887\"],[0.1111111111111111,\"#46039f\"],[0.2222222222222222,\"#7201a8\"],[0.3333333333333333,\"#9c179e\"],[0.4444444444444444,\"#bd3786\"],[0.5555555555555556,\"#d8576b\"],[0.6666666666666666,\"#ed7953\"],[0.7777777777777778,\"#fb9f3a\"],[0.8888888888888888,\"#fdca26\"],[1.0,\"#f0f921\"]],\"type\":\"heatmap\"}],\"histogram2dcontour\":[{\"colorbar\":{\"outlinewidth\":0,\"ticks\":\"\"},\"colorscale\":[[0.0,\"#0d0887\"],[0.1111111111111111,\"#46039f\"],[0.2222222222222222,\"#7201a8\"],[0.3333333333333333,\"#9c179e\"],[0.4444444444444444,\"#bd3786\"],[0.5555555555555556,\"#d8576b\"],[0.6666666666666666,\"#ed7953\"],[0.7777777777777778,\"#fb9f3a\"],[0.8888888888888888,\"#fdca26\"],[1.0,\"#f0f921\"]],\"type\":\"histogram2dcontour\"}],\"histogram2d\":[{\"colorbar\":{\"outlinewidth\":0,\"ticks\":\"\"},\"colorscale\":[[0.0,\"#0d0887\"],[0.1111111111111111,\"#46039f\"],[0.2222222222222222,\"#7201a8\"],[0.3333333333333333,\"#9c179e\"],[0.4444444444444444,\"#bd3786\"],[0.5555555555555556,\"#d8576b\"],[0.6666666666666666,\"#ed7953\"],[0.7777777777777778,\"#fb9f3a\"],[0.8888888888888888,\"#fdca26\"],[1.0,\"#f0f921\"]],\"type\":\"histogram2d\"}],\"histogram\":[{\"marker\":{\"pattern\":{\"fillmode\":\"overlay\",\"size\":10,\"solidity\":0.2}},\"type\":\"histogram\"}],\"mesh3d\":[{\"colorbar\":{\"outlinewidth\":0,\"ticks\":\"\"},\"type\":\"mesh3d\"}],\"parcoords\":[{\"line\":{\"colorbar\":{\"outlinewidth\":0,\"ticks\":\"\"}},\"type\":\"parcoords\"}],\"pie\":[{\"automargin\":true,\"type\":\"pie\"}],\"scatter3d\":[{\"line\":{\"colorbar\":{\"outlinewidth\":0,\"ticks\":\"\"}},\"marker\":{\"colorbar\":{\"outlinewidth\":0,\"ticks\":\"\"}},\"type\":\"scatter3d\"}],\"scattercarpet\":[{\"marker\":{\"colorbar\":{\"outlinewidth\":0,\"ticks\":\"\"}},\"type\":\"scattercarpet\"}],\"scattergeo\":[{\"marker\":{\"colorbar\":{\"outlinewidth\":0,\"ticks\":\"\"}},\"type\":\"scattergeo\"}],\"scattergl\":[{\"marker\":{\"colorbar\":{\"outlinewidth\":0,\"ticks\":\"\"}},\"type\":\"scattergl\"}],\"scattermapbox\":[{\"marker\":{\"colorbar\":{\"outlinewidth\":0,\"ticks\":\"\"}},\"type\":\"scattermapbox\"}],\"scatterpolargl\":[{\"marker\":{\"colorbar\":{\"outlinewidth\":0,\"ticks\":\"\"}},\"type\":\"scatterpolargl\"}],\"scatterpolar\":[{\"marker\":{\"colorbar\":{\"outlinewidth\":0,\"ticks\":\"\"}},\"type\":\"scatterpolar\"}],\"scatter\":[{\"fillpattern\":{\"fillmode\":\"overlay\",\"size\":10,\"solidity\":0.2},\"type\":\"scatter\"}],\"scatterternary\":[{\"marker\":{\"colorbar\":{\"outlinewidth\":0,\"ticks\":\"\"}},\"type\":\"scatterternary\"}],\"surface\":[{\"colorbar\":{\"outlinewidth\":0,\"ticks\":\"\"},\"colorscale\":[[0.0,\"#0d0887\"],[0.1111111111111111,\"#46039f\"],[0.2222222222222222,\"#7201a8\"],[0.3333333333333333,\"#9c179e\"],[0.4444444444444444,\"#bd3786\"],[0.5555555555555556,\"#d8576b\"],[0.6666666666666666,\"#ed7953\"],[0.7777777777777778,\"#fb9f3a\"],[0.8888888888888888,\"#fdca26\"],[1.0,\"#f0f921\"]],\"type\":\"surface\"}],\"table\":[{\"cells\":{\"fill\":{\"color\":\"#EBF0F8\"},\"line\":{\"color\":\"white\"}},\"header\":{\"fill\":{\"color\":\"#C8D4E3\"},\"line\":{\"color\":\"white\"}},\"type\":\"table\"}]},\"layout\":{\"annotationdefaults\":{\"arrowcolor\":\"#2a3f5f\",\"arrowhead\":0,\"arrowwidth\":1},\"autotypenumbers\":\"strict\",\"coloraxis\":{\"colorbar\":{\"outlinewidth\":0,\"ticks\":\"\"}},\"colorscale\":{\"diverging\":[[0,\"#8e0152\"],[0.1,\"#c51b7d\"],[0.2,\"#de77ae\"],[0.3,\"#f1b6da\"],[0.4,\"#fde0ef\"],[0.5,\"#f7f7f7\"],[0.6,\"#e6f5d0\"],[0.7,\"#b8e186\"],[0.8,\"#7fbc41\"],[0.9,\"#4d9221\"],[1,\"#276419\"]],\"sequential\":[[0.0,\"#0d0887\"],[0.1111111111111111,\"#46039f\"],[0.2222222222222222,\"#7201a8\"],[0.3333333333333333,\"#9c179e\"],[0.4444444444444444,\"#bd3786\"],[0.5555555555555556,\"#d8576b\"],[0.6666666666666666,\"#ed7953\"],[0.7777777777777778,\"#fb9f3a\"],[0.8888888888888888,\"#fdca26\"],[1.0,\"#f0f921\"]],\"sequentialminus\":[[0.0,\"#0d0887\"],[0.1111111111111111,\"#46039f\"],[0.2222222222222222,\"#7201a8\"],[0.3333333333333333,\"#9c179e\"],[0.4444444444444444,\"#bd3786\"],[0.5555555555555556,\"#d8576b\"],[0.6666666666666666,\"#ed7953\"],[0.7777777777777778,\"#fb9f3a\"],[0.8888888888888888,\"#fdca26\"],[1.0,\"#f0f921\"]]},\"colorway\":[\"#636efa\",\"#EF553B\",\"#00cc96\",\"#ab63fa\",\"#FFA15A\",\"#19d3f3\",\"#FF6692\",\"#B6E880\",\"#FF97FF\",\"#FECB52\"],\"font\":{\"color\":\"#2a3f5f\"},\"geo\":{\"bgcolor\":\"white\",\"lakecolor\":\"white\",\"landcolor\":\"#E5ECF6\",\"showlakes\":true,\"showland\":true,\"subunitcolor\":\"white\"},\"hoverlabel\":{\"align\":\"left\"},\"hovermode\":\"closest\",\"mapbox\":{\"style\":\"light\"},\"paper_bgcolor\":\"white\",\"plot_bgcolor\":\"#E5ECF6\",\"polar\":{\"angularaxis\":{\"gridcolor\":\"white\",\"linecolor\":\"white\",\"ticks\":\"\"},\"bgcolor\":\"#E5ECF6\",\"radialaxis\":{\"gridcolor\":\"white\",\"linecolor\":\"white\",\"ticks\":\"\"}},\"scene\":{\"xaxis\":{\"backgroundcolor\":\"#E5ECF6\",\"gridcolor\":\"white\",\"gridwidth\":2,\"linecolor\":\"white\",\"showbackground\":true,\"ticks\":\"\",\"zerolinecolor\":\"white\"},\"yaxis\":{\"backgroundcolor\":\"#E5ECF6\",\"gridcolor\":\"white\",\"gridwidth\":2,\"linecolor\":\"white\",\"showbackground\":true,\"ticks\":\"\",\"zerolinecolor\":\"white\"},\"zaxis\":{\"backgroundcolor\":\"#E5ECF6\",\"gridcolor\":\"white\",\"gridwidth\":2,\"linecolor\":\"white\",\"showbackground\":true,\"ticks\":\"\",\"zerolinecolor\":\"white\"}},\"shapedefaults\":{\"line\":{\"color\":\"#2a3f5f\"}},\"ternary\":{\"aaxis\":{\"gridcolor\":\"white\",\"linecolor\":\"white\",\"ticks\":\"\"},\"baxis\":{\"gridcolor\":\"white\",\"linecolor\":\"white\",\"ticks\":\"\"},\"bgcolor\":\"#E5ECF6\",\"caxis\":{\"gridcolor\":\"white\",\"linecolor\":\"white\",\"ticks\":\"\"}},\"title\":{\"x\":0.05},\"xaxis\":{\"automargin\":true,\"gridcolor\":\"white\",\"linecolor\":\"white\",\"ticks\":\"\",\"title\":{\"standoff\":15},\"zerolinecolor\":\"white\",\"zerolinewidth\":2},\"yaxis\":{\"automargin\":true,\"gridcolor\":\"white\",\"linecolor\":\"white\",\"ticks\":\"\",\"title\":{\"standoff\":15},\"zerolinecolor\":\"white\",\"zerolinewidth\":2}}},\"title\":{\"font\":{\"color\":\"#151516\"}},\"xaxis\":{\"gridcolor\":\"#F6F6F6\",\"showgrid\":true,\"tickfont\":{\"color\":\"#666666\"},\"title\":{\"font\":{\"color\":\"#666666\"},\"text\":\"\"},\"zerolinecolor\":\"#F6F6F6\"},\"yaxis\":{\"gridcolor\":\"#F6F6F6\",\"showgrid\":true,\"tickfont\":{\"color\":\"#666666\"},\"title\":{\"font\":{\"color\":\"#666666\"},\"text\":\"\"},\"zerolinecolor\":\"#F6F6F6\"}},                        {\"showLink\": true, \"linkText\": \"Export to plot.ly\", \"plotlyServerURL\": \"https://plot.ly\", \"responsive\": true}                    ).then(function(){\n",
       "                            \n",
       "var gd = document.getElementById('3d558021-3511-4bc8-9060-8008fb0e2ee9');\n",
       "var x = new MutationObserver(function (mutations, observer) {{\n",
       "        var display = window.getComputedStyle(gd).display;\n",
       "        if (!display || display === 'none') {{\n",
       "            console.log([gd, 'removed!']);\n",
       "            Plotly.purge(gd);\n",
       "            observer.disconnect();\n",
       "        }}\n",
       "}});\n",
       "\n",
       "// Listen for the removal of the full notebook cells\n",
       "var notebookContainer = gd.closest('#notebook-container');\n",
       "if (notebookContainer) {{\n",
       "    x.observe(notebookContainer, {childList: true});\n",
       "}}\n",
       "\n",
       "// Listen for the clearing of the current output cell\n",
       "var outputEl = gd.closest('.output');\n",
       "if (outputEl) {{\n",
       "    x.observe(outputEl, {childList: true});\n",
       "}}\n",
       "\n",
       "                        })                };                });            </script>        </div>"
      ]
     },
     "metadata": {},
     "output_type": "display_data"
    }
   ],
   "source": [
    "dfccl.iplot()"
   ]
  },
  {
   "cell_type": "code",
   "execution_count": 173,
   "metadata": {},
   "outputs": [
    {
     "name": "stdout",
     "output_type": "stream",
     "text": [
      "ticker    Dolar CCL\n",
      "   MMM   307.638707\n",
      "   ABT   306.269250\n",
      "  ABBV   306.606799\n",
      "   ANF   310.359205\n",
      "  AGRO  1222.684086\n",
      "  ADBE   307.523577\n",
      "   AMD  1233.445220\n",
      "   AEG     0.000000\n",
      "   AEM   307.042082\n",
      "  BABA   292.185315\n",
      " GOOGL   307.876712\n",
      "    MO   306.021855\n",
      " ACHHY   279.184783\n",
      "  AMZN   309.161464\n",
      "  ABEV  2778.305085\n",
      "   AMX   307.183258\n",
      "   AAL   308.616780\n",
      "   AXP   308.351826\n",
      "   AIG   309.236948\n",
      "  AMGN   308.117259\n",
      "   ADI   309.236055\n",
      "  AAPL   307.214416\n",
      "  AMAT   307.785050\n",
      "  ARCO  1234.349030\n",
      "   AZN   307.441531\n",
      "     T   307.015385\n",
      "   ADP   309.035674\n",
      "   AVY   308.690875\n",
      "   CAR   310.015967\n",
      "  BIDU   307.589696\n",
      "   BBD   307.702350\n",
      "  BSBR   306.572379\n",
      "   SAN  4934.400000\n",
      "    BK   309.101655\n",
      "   BCS   311.819389\n",
      "  GOLD   307.378129\n",
      "   BHP   314.637073\n",
      "  BIOX  1230.692308\n",
      "  BIIB   313.033009\n",
      "    BB   305.504587\n",
      "    BA   308.395561\n",
      "    BP   308.731979\n",
      "  BRFS  2780.000000\n",
      "   BMY   309.674633\n",
      "  AVGO   306.125814\n",
      "    BG   307.067039\n",
      "   CAJ     0.000000\n",
      "   CAH   307.331161\n",
      "   CAT   306.746147\n",
      "    CX   311.111111\n",
      "   EBR  4890.360046\n",
      "   CVX   307.593059\n",
      "   ELP     0.000000\n",
      "   SBS     0.000000\n",
      "   SID 19689.795918\n",
      "  CSCO   308.427507\n",
      "     C   308.094107\n",
      "    KO   307.449495\n",
      "   KOF     0.000000\n",
      "   CDE   309.446254\n",
      "  COIN   306.564163\n",
      "    CL   312.917223\n",
      "   GLW     0.000000\n",
      "  CAAP  4933.333333\n",
      "  COST   308.718843\n",
      "    CS   309.400000\n",
      "    DE   307.323976\n",
      "  DESP   304.963504\n",
      "   DEO   304.911795\n",
      "  DOCU   307.435897\n",
      "   DOW   305.935972\n",
      "    DD   308.513641\n",
      "  EBAY   304.341125\n",
      "    EA   308.204954\n",
      "   LLY   307.460874\n",
      "   ERJ   306.959009\n",
      "     E     0.000000\n",
      "   EFX     0.000000\n",
      "  ERIC     0.000000\n",
      "  ETSY   307.408475\n",
      "   XOM   307.476636\n",
      "   FDX   307.373573\n",
      "  FSLR   307.778270\n",
      "   FMX   308.147797\n",
      "   FCX   307.526690\n",
      "  GRMN   308.656239\n",
      "    GE   310.150261\n",
      "    GM   307.484076\n",
      "  GPRK   300.988924\n",
      "   GGB  4959.139785\n",
      "  GILD   307.464567\n",
      "  GLOB   307.100423\n",
      "   GFI   312.367021\n",
      "    GS   308.654236\n",
      "   PAC     0.000000\n",
      "   ASR     0.000000\n",
      "    TV   310.327022\n",
      "   GSK   306.415855\n",
      "   HAL   307.717873\n",
      "   HOG   309.389027\n",
      "   HMY   310.328638\n",
      "   HDB   306.939223\n",
      "    HL   311.221945\n",
      "   HSY   308.050222\n",
      "    HD   308.590787\n",
      "   HMC   310.525210\n",
      "   HON   308.869765\n",
      "   HWM   314.358361\n",
      "   HPQ   308.423077\n",
      "  HSBC     0.000000\n",
      " HNPIY     0.000000\n",
      "   IBN   306.892730\n",
      "  INFY   309.341951\n",
      "   ING   309.177215\n",
      "  INTC   308.394802\n",
      "    IP   307.939288\n",
      "   IBM   308.232610\n",
      "   IFF   308.784670\n",
      "  ITUB   307.592593\n",
      "    JD   307.250139\n",
      "   JNJ   306.651151\n",
      "    YY   309.501499\n",
      "   JPM   307.049516\n",
      "    KB     0.000000\n",
      "   KMB   308.398907\n",
      "   KGC   304.943503\n",
      "   PHG   308.788599\n",
      "   KEP   309.103841\n",
      "  LRCX   310.166813\n",
      "   LVS   308.519934\n",
      "   LYG   304.265403\n",
      "   LMT   306.711090\n",
      "   MMC   308.268229\n",
      "    MA   308.108374\n",
      "   MCD   307.965589\n",
      "   MDT   308.083518\n",
      "  MELI   306.929577\n",
      "   MRK   308.204188\n",
      "  META   307.796229\n",
      "  MSFT   308.411802\n",
      "  MUFG   307.200000\n",
      "   MFG     0.000000\n",
      "   MSI   311.051731\n",
      "   NGG   310.857726\n",
      "  NTCO   307.820300\n",
      "  NTES   308.400201\n",
      "  NFLX   306.362140\n",
      "   NEM   306.155660\n",
      "   NKE   308.477803\n",
      "   NIO   306.885246\n",
      "   NOK   312.222222\n",
      "   NMR   311.191860\n",
      "    NG     0.000000\n",
      "   NVS   307.531597\n",
      "  NVDA   307.216650\n",
      "  ORCL   308.651685\n",
      "  ORAN   306.603774\n",
      "  PCAR   308.179265\n",
      "  PAAS   308.437500\n",
      "  PYPL   306.997148\n",
      "   PEP   307.248872\n",
      "   PBR   306.031273\n",
      "   PFE   306.967213\n",
      "   PSX   309.043928\n",
      "   PBI   311.290323\n",
      "   PKX   307.894737\n",
      "    PG   307.448611\n",
      "  QCOM   307.438613\n",
      "   RTX   312.084915\n",
      "   RIO   308.229989\n",
      "  ROST   307.729084\n",
      "  SHEL   307.777565\n",
      "   CRM   307.722008\n",
      "   SAP   307.906242\n",
      "   SLB   305.588079\n",
      "    SE   303.506311\n",
      "  SHOP   309.617021\n",
      "  SNAP   309.308756\n",
      "   SNA   312.206312\n",
      "  SNOW   307.436213\n",
      "  SONY   306.365327\n",
      "  SCCO   314.880952\n",
      "  SPOT   305.273089\n",
      "    SQ   313.540791\n",
      "  SBUX   307.765237\n",
      "   SUZ     0.000000\n",
      "   SYY   307.813894\n",
      "   TSM  2780.658543\n",
      "   TGT   309.388166\n",
      "   TTM   312.495238\n",
      "   VIV     0.000000\n",
      "   TEF   310.364146\n",
      "    TS   307.118708\n",
      "    TX   307.328033\n",
      "  TSLA   307.155918\n",
      "   TXN   306.766687\n",
      "   TMO   306.089140\n",
      "   TTE   308.535565\n",
      "    TM   307.530164\n",
      "  TCOM   307.859190\n",
      "  TRIP   305.992350\n",
      "  TWLO   305.851648\n",
      "  TWTR   308.577659\n",
      "   UGP   308.464567\n",
      "    UL   307.643312\n",
      "   UNP   308.225966\n",
      "     X   306.196474\n",
      "   UNH   306.974496\n",
      "  URBN     0.000000\n",
      "   USB   313.555657\n",
      "  VALE   307.006855\n",
      "  VRSN   308.216388\n",
      "    VZ   308.004053\n",
      "     V   308.148861\n",
      "   VOD   311.074919\n",
      "   WBA   306.999701\n",
      "   WMT   307.167767\n",
      "    WB   303.844100\n",
      "   WFC   305.772415\n",
      "    XP   307.489879\n",
      "   AUY   307.242991\n",
      "  YELP   307.933689\n",
      "    ZM   304.194101\n"
     ]
    },
    {
     "data": {
      "text/html": [
       "<div>\n",
       "<style scoped>\n",
       "    .dataframe tbody tr th:only-of-type {\n",
       "        vertical-align: middle;\n",
       "    }\n",
       "\n",
       "    .dataframe tbody tr th {\n",
       "        vertical-align: top;\n",
       "    }\n",
       "\n",
       "    .dataframe thead th {\n",
       "        text-align: right;\n",
       "    }\n",
       "</style>\n",
       "<table border=\"1\" class=\"dataframe\">\n",
       "  <thead>\n",
       "    <tr style=\"text-align: right;\">\n",
       "      <th></th>\n",
       "      <th>ticker</th>\n",
       "      <th>Dolar CCL</th>\n",
       "    </tr>\n",
       "  </thead>\n",
       "  <tbody>\n",
       "    <tr>\n",
       "      <th>0</th>\n",
       "      <td>MMM</td>\n",
       "      <td>307.638707</td>\n",
       "    </tr>\n",
       "    <tr>\n",
       "      <th>1</th>\n",
       "      <td>ABT</td>\n",
       "      <td>306.269250</td>\n",
       "    </tr>\n",
       "    <tr>\n",
       "      <th>2</th>\n",
       "      <td>ABBV</td>\n",
       "      <td>306.606799</td>\n",
       "    </tr>\n",
       "    <tr>\n",
       "      <th>3</th>\n",
       "      <td>ANF</td>\n",
       "      <td>310.359205</td>\n",
       "    </tr>\n",
       "    <tr>\n",
       "      <th>4</th>\n",
       "      <td>AGRO</td>\n",
       "      <td>1222.684086</td>\n",
       "    </tr>\n",
       "    <tr>\n",
       "      <th>...</th>\n",
       "      <td>...</td>\n",
       "      <td>...</td>\n",
       "    </tr>\n",
       "    <tr>\n",
       "      <th>218</th>\n",
       "      <td>WFC</td>\n",
       "      <td>305.772415</td>\n",
       "    </tr>\n",
       "    <tr>\n",
       "      <th>219</th>\n",
       "      <td>XP</td>\n",
       "      <td>307.489879</td>\n",
       "    </tr>\n",
       "    <tr>\n",
       "      <th>220</th>\n",
       "      <td>AUY</td>\n",
       "      <td>307.242991</td>\n",
       "    </tr>\n",
       "    <tr>\n",
       "      <th>221</th>\n",
       "      <td>YELP</td>\n",
       "      <td>307.933689</td>\n",
       "    </tr>\n",
       "    <tr>\n",
       "      <th>222</th>\n",
       "      <td>ZM</td>\n",
       "      <td>304.194101</td>\n",
       "    </tr>\n",
       "  </tbody>\n",
       "</table>\n",
       "<p>223 rows × 2 columns</p>\n",
       "</div>"
      ],
      "text/plain": [
       "    ticker    Dolar CCL\n",
       "0      MMM   307.638707\n",
       "1      ABT   306.269250\n",
       "2     ABBV   306.606799\n",
       "3      ANF   310.359205\n",
       "4     AGRO  1222.684086\n",
       "..     ...          ...\n",
       "218    WFC   305.772415\n",
       "219     XP   307.489879\n",
       "220    AUY   307.242991\n",
       "221   YELP   307.933689\n",
       "222     ZM   304.194101\n",
       "\n",
       "[223 rows x 2 columns]"
      ]
     },
     "execution_count": 173,
     "metadata": {},
     "output_type": "execute_result"
    }
   ],
   "source": [
    "dfccl2 = df[['ticker', 'Dolar CCL']]\n",
    "print(dfccl2.to_string(index=False))\n",
    "dfccl2"
   ]
  },
  {
   "cell_type": "code",
   "execution_count": 176,
   "metadata": {},
   "outputs": [
    {
     "data": {
      "application/vnd.plotly.v1+json": {
       "config": {
        "linkText": "Export to plot.ly",
        "plotlyServerURL": "https://plot.ly",
        "showLink": true
       },
       "data": [
        {
         "line": {
          "color": "rgba(226, 74, 51, 1.0)",
          "dash": "solid",
          "shape": "linear",
          "width": 1.3
         },
         "mode": "lines",
         "name": "ticker",
         "text": "",
         "type": "scatter",
         "x": [
          0,
          1,
          2,
          3,
          4,
          5,
          6,
          7,
          8,
          9,
          10,
          11,
          12,
          13,
          14,
          15,
          16,
          17,
          18,
          19,
          20,
          21,
          22,
          23,
          24,
          25,
          26,
          27,
          28,
          29,
          30,
          31,
          32,
          33,
          34,
          35,
          36,
          37,
          38,
          39,
          40,
          41,
          42,
          43,
          44,
          45,
          46,
          47,
          48,
          49,
          50,
          51,
          52,
          53,
          54,
          55,
          56,
          57,
          58,
          59,
          60,
          61,
          62,
          63,
          64,
          65,
          66,
          67,
          68,
          69,
          70,
          71,
          72,
          73,
          74,
          75,
          76,
          77,
          78,
          79,
          80,
          81,
          82,
          83,
          84,
          85,
          86,
          87,
          88,
          89,
          90,
          91,
          92,
          93,
          94,
          95,
          96,
          97,
          98,
          99,
          100,
          101,
          102,
          103,
          104,
          105,
          106,
          107,
          108,
          109,
          110,
          111,
          112,
          113,
          114,
          115,
          116,
          117,
          118,
          119,
          120,
          121,
          122,
          123,
          124,
          125,
          126,
          127,
          128,
          129,
          130,
          131,
          132,
          133,
          134,
          135,
          136,
          137,
          138,
          139,
          140,
          141,
          142,
          143,
          144,
          145,
          146,
          147,
          148,
          149,
          150,
          151,
          152,
          153,
          154,
          155,
          156,
          157,
          158,
          159,
          160,
          161,
          162,
          163,
          164,
          165,
          166,
          167,
          168,
          169,
          170,
          171,
          172,
          173,
          174,
          175,
          176,
          177,
          178,
          179,
          180,
          181,
          182,
          183,
          184,
          185,
          186,
          187,
          188,
          189,
          190,
          191,
          192,
          193,
          194,
          195,
          196,
          197,
          198,
          199,
          200,
          201,
          202,
          203,
          204,
          205,
          206,
          207,
          208,
          209,
          210,
          211,
          212,
          213,
          214,
          215,
          216,
          217,
          218,
          219,
          220,
          221,
          222
         ],
         "y": [
          "MMM",
          "ABT",
          "ABBV",
          "ANF",
          "AGRO",
          "ADBE",
          "AMD",
          "AEG",
          "AEM",
          "BABA",
          "GOOGL",
          "MO",
          "ACHHY",
          "AMZN",
          "ABEV",
          "AMX",
          "AAL",
          "AXP",
          "AIG",
          "AMGN",
          "ADI",
          "AAPL",
          "AMAT",
          "ARCO",
          "AZN",
          "T",
          "ADP",
          "AVY",
          "CAR",
          "BIDU",
          "BBD",
          "BSBR",
          "SAN",
          "BK",
          "BCS",
          "GOLD",
          "BHP",
          "BIOX",
          "BIIB",
          "BB",
          "BA",
          "BP",
          "BRFS",
          "BMY",
          "AVGO",
          "BG",
          "CAJ",
          "CAH",
          "CAT",
          "CX",
          "EBR",
          "CVX",
          "ELP",
          "SBS",
          "SID",
          "CSCO",
          "C",
          "KO",
          "KOF",
          "CDE",
          "COIN",
          "CL",
          "GLW",
          "CAAP",
          "COST",
          "CS",
          "DE",
          "DESP",
          "DEO",
          "DOCU",
          "DOW",
          "DD",
          "EBAY",
          "EA",
          "LLY",
          "ERJ",
          "E",
          "EFX",
          "ERIC",
          "ETSY",
          "XOM",
          "FDX",
          "FSLR",
          "FMX",
          "FCX",
          "GRMN",
          "GE",
          "GM",
          "GPRK",
          "GGB",
          "GILD",
          "GLOB",
          "GFI",
          "GS",
          "PAC",
          "ASR",
          "TV",
          "GSK",
          "HAL",
          "HOG",
          "HMY",
          "HDB",
          "HL",
          "HSY",
          "HD",
          "HMC",
          "HON",
          "HWM",
          "HPQ",
          "HSBC",
          "HNPIY",
          "IBN",
          "INFY",
          "ING",
          "INTC",
          "IP",
          "IBM",
          "IFF",
          "ITUB",
          "JD",
          "JNJ",
          "YY",
          "JPM",
          "KB",
          "KMB",
          "KGC",
          "PHG",
          "KEP",
          "LRCX",
          "LVS",
          "LYG",
          "LMT",
          "MMC",
          "MA",
          "MCD",
          "MDT",
          "MELI",
          "MRK",
          "META",
          "MSFT",
          "MUFG",
          "MFG",
          "MSI",
          "NGG",
          "NTCO",
          "NTES",
          "NFLX",
          "NEM",
          "NKE",
          "NIO",
          "NOK",
          "NMR",
          "NG",
          "NVS",
          "NVDA",
          "ORCL",
          "ORAN",
          "PCAR",
          "PAAS",
          "PYPL",
          "PEP",
          "PBR",
          "PFE",
          "PSX",
          "PBI",
          "PKX",
          "PG",
          "QCOM",
          "RTX",
          "RIO",
          "ROST",
          "SHEL",
          "CRM",
          "SAP",
          "SLB",
          "SE",
          "SHOP",
          "SNAP",
          "SNA",
          "SNOW",
          "SONY",
          "SCCO",
          "SPOT",
          "SQ",
          "SBUX",
          "SUZ",
          "SYY",
          "TSM",
          "TGT",
          "TTM",
          "VIV",
          "TEF",
          "TS",
          "TX",
          "TSLA",
          "TXN",
          "TMO",
          "TTE",
          "TM",
          "TCOM",
          "TRIP",
          "TWLO",
          "TWTR",
          "UGP",
          "UL",
          "UNP",
          "X",
          "UNH",
          "URBN",
          "USB",
          "VALE",
          "VRSN",
          "VZ",
          "V",
          "VOD",
          "WBA",
          "WMT",
          "WB",
          "WFC",
          "XP",
          "AUY",
          "YELP",
          "ZM"
         ]
        },
        {
         "line": {
          "color": "rgba(62, 111, 176, 1.0)",
          "dash": "solid",
          "shape": "linear",
          "width": 1.3
         },
         "mode": "lines",
         "name": "Dolar CCL",
         "text": "",
         "type": "scatter",
         "x": [
          0,
          1,
          2,
          3,
          4,
          5,
          6,
          7,
          8,
          9,
          10,
          11,
          12,
          13,
          14,
          15,
          16,
          17,
          18,
          19,
          20,
          21,
          22,
          23,
          24,
          25,
          26,
          27,
          28,
          29,
          30,
          31,
          32,
          33,
          34,
          35,
          36,
          37,
          38,
          39,
          40,
          41,
          42,
          43,
          44,
          45,
          46,
          47,
          48,
          49,
          50,
          51,
          52,
          53,
          54,
          55,
          56,
          57,
          58,
          59,
          60,
          61,
          62,
          63,
          64,
          65,
          66,
          67,
          68,
          69,
          70,
          71,
          72,
          73,
          74,
          75,
          76,
          77,
          78,
          79,
          80,
          81,
          82,
          83,
          84,
          85,
          86,
          87,
          88,
          89,
          90,
          91,
          92,
          93,
          94,
          95,
          96,
          97,
          98,
          99,
          100,
          101,
          102,
          103,
          104,
          105,
          106,
          107,
          108,
          109,
          110,
          111,
          112,
          113,
          114,
          115,
          116,
          117,
          118,
          119,
          120,
          121,
          122,
          123,
          124,
          125,
          126,
          127,
          128,
          129,
          130,
          131,
          132,
          133,
          134,
          135,
          136,
          137,
          138,
          139,
          140,
          141,
          142,
          143,
          144,
          145,
          146,
          147,
          148,
          149,
          150,
          151,
          152,
          153,
          154,
          155,
          156,
          157,
          158,
          159,
          160,
          161,
          162,
          163,
          164,
          165,
          166,
          167,
          168,
          169,
          170,
          171,
          172,
          173,
          174,
          175,
          176,
          177,
          178,
          179,
          180,
          181,
          182,
          183,
          184,
          185,
          186,
          187,
          188,
          189,
          190,
          191,
          192,
          193,
          194,
          195,
          196,
          197,
          198,
          199,
          200,
          201,
          202,
          203,
          204,
          205,
          206,
          207,
          208,
          209,
          210,
          211,
          212,
          213,
          214,
          215,
          216,
          217,
          218,
          219,
          220,
          221,
          222
         ],
         "y": [
          307.6387074296664,
          306.26924987580725,
          306.60679923027584,
          310.3592046183451,
          1222.6840855106889,
          307.5235766678309,
          1233.4452201933404,
          0,
          307.04208221843834,
          292.1853146853147,
          307.8767123287671,
          306.0218553824692,
          279.1847826086957,
          309.16146448456215,
          2778.3050847457625,
          307.18325791855204,
          308.61678004535145,
          308.3518257010288,
          309.23694779116465,
          308.1172591998574,
          309.23605497170576,
          307.2144158209732,
          307.7850499483293,
          1234.3490304709142,
          307.44153082919917,
          307.0153846153846,
          309.0356739866331,
          308.6908754481323,
          310.01596700153016,
          307.58969641214355,
          307.70234986945167,
          306.5723793677205,
          4934.4,
          309.1016548463357,
          311.81938911022576,
          307.37812911725956,
          314.63707258548294,
          1230.6923076923076,
          313.03300892946726,
          305.5045871559633,
          308.3955614488101,
          308.73197903014415,
          2780,
          309.6746328822344,
          306.12581407889826,
          307.0670391061453,
          0,
          307.3311611374408,
          306.7461471357953,
          311.1111111111111,
          4890.3600464576075,
          307.59305851235405,
          0,
          0,
          19689.795918367345,
          308.4275066121664,
          308.0941074897475,
          307.449494949495,
          0,
          309.44625407166126,
          306.56416321703136,
          312.91722296395193,
          0,
          4933.333333333333,
          308.7188431662847,
          309.4,
          307.3239758726166,
          304.9635036496351,
          304.9117952265652,
          307.4358974358974,
          305.93597154290796,
          308.51364063969896,
          304.3411250963267,
          308.2049536130735,
          307.46087425796003,
          306.95900857959964,
          0,
          0,
          0,
          307.4084750648602,
          307.4766355140187,
          307.373572593801,
          307.7782695286568,
          308.147797252487,
          307.52669039145906,
          308.65623889086385,
          310.15026065624045,
          307.484076433121,
          300.9889240506329,
          4959.139784946236,
          307.46456692913387,
          307.1004229836985,
          312.3670212765958,
          308.6542359140657,
          0,
          0,
          310.32702237521517,
          306.41585488747063,
          307.7178729689808,
          309.3890274314214,
          310.3286384976526,
          306.9392230576441,
          311.22194513715715,
          308.0502215657312,
          308.5907869057702,
          310.52521008403363,
          308.8697647733792,
          314.35836075381394,
          308.4230769230769,
          0,
          0,
          306.8927304964539,
          309.34195064629847,
          309.1772151898734,
          308.3948015454865,
          307.93928779918275,
          308.2326102617466,
          308.78466969238525,
          307.59259259259255,
          307.2501390691637,
          306.6511513963743,
          309.5014992503748,
          307.04951551249,
          0,
          308.39890665120515,
          304.94350282485874,
          308.78859857482183,
          309.103840682788,
          310.16681299385425,
          308.5199344620426,
          304.2654028436019,
          306.71108995716327,
          308.2682291666667,
          308.10837438423647,
          307.9655886570017,
          308.083518021696,
          306.92957746478874,
          308.20418786229743,
          307.7962285392626,
          308.4118016321406,
          307.2,
          0,
          311.05173061667574,
          310.85772634445203,
          307.82029950083194,
          308.4002006018054,
          306.3621395702284,
          306.1556603773585,
          308.47780338711294,
          306.88524590163934,
          312.22222222222223,
          311.1918604651163,
          0,
          307.53159659530564,
          307.2166503280295,
          308.65168539325845,
          306.6037735849057,
          308.1792651532881,
          308.4375,
          306.9971484974775,
          307.24887200189977,
          306.0312732688012,
          306.9672131147541,
          309.0439276485788,
          311.2903225806452,
          307.89473684210526,
          307.4486112134385,
          307.43861338468946,
          312.08491461100573,
          308.22998872604285,
          307.7290836653387,
          307.77756545002865,
          307.72200772200773,
          307.9062424095215,
          305.5880787653007,
          303.5063113604488,
          309.6170212765958,
          309.3087557603687,
          312.20631169192274,
          307.43621307072516,
          306.36532684880564,
          314.8809523809524,
          305.2730894223713,
          313.5407905803196,
          307.765237020316,
          0,
          307.81389420012744,
          2780.6585429089964,
          309.38816575488903,
          312.4952380952381,
          0,
          310.36414565826334,
          307.1187077385424,
          307.3280331835465,
          307.1559175531915,
          306.7666870789957,
          306.08913998744504,
          308.5355648535565,
          307.5301642680622,
          307.8591895210806,
          305.9923501912452,
          305.85164835164835,
          308.5776593166949,
          308.46456692913387,
          307.6433121019108,
          308.2259663032706,
          306.19647355163727,
          306.97449617247304,
          0,
          313.5556567266105,
          307.00685453160696,
          308.21638750565864,
          308.0040526849038,
          308.148861084376,
          311.07491856677524,
          306.9997008674843,
          307.1677673072642,
          303.844100373732,
          305.77241542465106,
          307.4898785425101,
          307.2429906542056,
          307.9336885731202,
          304.19410060574137
         ]
        }
       ],
       "layout": {
        "legend": {
         "bgcolor": "#FFFFFF",
         "font": {
          "color": "#666666"
         }
        },
        "paper_bgcolor": "#FFFFFF",
        "plot_bgcolor": "#E5E5E5",
        "template": {
         "data": {
          "bar": [
           {
            "error_x": {
             "color": "#2a3f5f"
            },
            "error_y": {
             "color": "#2a3f5f"
            },
            "marker": {
             "line": {
              "color": "#E5ECF6",
              "width": 0.5
             },
             "pattern": {
              "fillmode": "overlay",
              "size": 10,
              "solidity": 0.2
             }
            },
            "type": "bar"
           }
          ],
          "barpolar": [
           {
            "marker": {
             "line": {
              "color": "#E5ECF6",
              "width": 0.5
             },
             "pattern": {
              "fillmode": "overlay",
              "size": 10,
              "solidity": 0.2
             }
            },
            "type": "barpolar"
           }
          ],
          "carpet": [
           {
            "aaxis": {
             "endlinecolor": "#2a3f5f",
             "gridcolor": "white",
             "linecolor": "white",
             "minorgridcolor": "white",
             "startlinecolor": "#2a3f5f"
            },
            "baxis": {
             "endlinecolor": "#2a3f5f",
             "gridcolor": "white",
             "linecolor": "white",
             "minorgridcolor": "white",
             "startlinecolor": "#2a3f5f"
            },
            "type": "carpet"
           }
          ],
          "choropleth": [
           {
            "colorbar": {
             "outlinewidth": 0,
             "ticks": ""
            },
            "type": "choropleth"
           }
          ],
          "contour": [
           {
            "colorbar": {
             "outlinewidth": 0,
             "ticks": ""
            },
            "colorscale": [
             [
              0,
              "#0d0887"
             ],
             [
              0.1111111111111111,
              "#46039f"
             ],
             [
              0.2222222222222222,
              "#7201a8"
             ],
             [
              0.3333333333333333,
              "#9c179e"
             ],
             [
              0.4444444444444444,
              "#bd3786"
             ],
             [
              0.5555555555555556,
              "#d8576b"
             ],
             [
              0.6666666666666666,
              "#ed7953"
             ],
             [
              0.7777777777777778,
              "#fb9f3a"
             ],
             [
              0.8888888888888888,
              "#fdca26"
             ],
             [
              1,
              "#f0f921"
             ]
            ],
            "type": "contour"
           }
          ],
          "contourcarpet": [
           {
            "colorbar": {
             "outlinewidth": 0,
             "ticks": ""
            },
            "type": "contourcarpet"
           }
          ],
          "heatmap": [
           {
            "colorbar": {
             "outlinewidth": 0,
             "ticks": ""
            },
            "colorscale": [
             [
              0,
              "#0d0887"
             ],
             [
              0.1111111111111111,
              "#46039f"
             ],
             [
              0.2222222222222222,
              "#7201a8"
             ],
             [
              0.3333333333333333,
              "#9c179e"
             ],
             [
              0.4444444444444444,
              "#bd3786"
             ],
             [
              0.5555555555555556,
              "#d8576b"
             ],
             [
              0.6666666666666666,
              "#ed7953"
             ],
             [
              0.7777777777777778,
              "#fb9f3a"
             ],
             [
              0.8888888888888888,
              "#fdca26"
             ],
             [
              1,
              "#f0f921"
             ]
            ],
            "type": "heatmap"
           }
          ],
          "heatmapgl": [
           {
            "colorbar": {
             "outlinewidth": 0,
             "ticks": ""
            },
            "colorscale": [
             [
              0,
              "#0d0887"
             ],
             [
              0.1111111111111111,
              "#46039f"
             ],
             [
              0.2222222222222222,
              "#7201a8"
             ],
             [
              0.3333333333333333,
              "#9c179e"
             ],
             [
              0.4444444444444444,
              "#bd3786"
             ],
             [
              0.5555555555555556,
              "#d8576b"
             ],
             [
              0.6666666666666666,
              "#ed7953"
             ],
             [
              0.7777777777777778,
              "#fb9f3a"
             ],
             [
              0.8888888888888888,
              "#fdca26"
             ],
             [
              1,
              "#f0f921"
             ]
            ],
            "type": "heatmapgl"
           }
          ],
          "histogram": [
           {
            "marker": {
             "pattern": {
              "fillmode": "overlay",
              "size": 10,
              "solidity": 0.2
             }
            },
            "type": "histogram"
           }
          ],
          "histogram2d": [
           {
            "colorbar": {
             "outlinewidth": 0,
             "ticks": ""
            },
            "colorscale": [
             [
              0,
              "#0d0887"
             ],
             [
              0.1111111111111111,
              "#46039f"
             ],
             [
              0.2222222222222222,
              "#7201a8"
             ],
             [
              0.3333333333333333,
              "#9c179e"
             ],
             [
              0.4444444444444444,
              "#bd3786"
             ],
             [
              0.5555555555555556,
              "#d8576b"
             ],
             [
              0.6666666666666666,
              "#ed7953"
             ],
             [
              0.7777777777777778,
              "#fb9f3a"
             ],
             [
              0.8888888888888888,
              "#fdca26"
             ],
             [
              1,
              "#f0f921"
             ]
            ],
            "type": "histogram2d"
           }
          ],
          "histogram2dcontour": [
           {
            "colorbar": {
             "outlinewidth": 0,
             "ticks": ""
            },
            "colorscale": [
             [
              0,
              "#0d0887"
             ],
             [
              0.1111111111111111,
              "#46039f"
             ],
             [
              0.2222222222222222,
              "#7201a8"
             ],
             [
              0.3333333333333333,
              "#9c179e"
             ],
             [
              0.4444444444444444,
              "#bd3786"
             ],
             [
              0.5555555555555556,
              "#d8576b"
             ],
             [
              0.6666666666666666,
              "#ed7953"
             ],
             [
              0.7777777777777778,
              "#fb9f3a"
             ],
             [
              0.8888888888888888,
              "#fdca26"
             ],
             [
              1,
              "#f0f921"
             ]
            ],
            "type": "histogram2dcontour"
           }
          ],
          "mesh3d": [
           {
            "colorbar": {
             "outlinewidth": 0,
             "ticks": ""
            },
            "type": "mesh3d"
           }
          ],
          "parcoords": [
           {
            "line": {
             "colorbar": {
              "outlinewidth": 0,
              "ticks": ""
             }
            },
            "type": "parcoords"
           }
          ],
          "pie": [
           {
            "automargin": true,
            "type": "pie"
           }
          ],
          "scatter": [
           {
            "fillpattern": {
             "fillmode": "overlay",
             "size": 10,
             "solidity": 0.2
            },
            "type": "scatter"
           }
          ],
          "scatter3d": [
           {
            "line": {
             "colorbar": {
              "outlinewidth": 0,
              "ticks": ""
             }
            },
            "marker": {
             "colorbar": {
              "outlinewidth": 0,
              "ticks": ""
             }
            },
            "type": "scatter3d"
           }
          ],
          "scattercarpet": [
           {
            "marker": {
             "colorbar": {
              "outlinewidth": 0,
              "ticks": ""
             }
            },
            "type": "scattercarpet"
           }
          ],
          "scattergeo": [
           {
            "marker": {
             "colorbar": {
              "outlinewidth": 0,
              "ticks": ""
             }
            },
            "type": "scattergeo"
           }
          ],
          "scattergl": [
           {
            "marker": {
             "colorbar": {
              "outlinewidth": 0,
              "ticks": ""
             }
            },
            "type": "scattergl"
           }
          ],
          "scattermapbox": [
           {
            "marker": {
             "colorbar": {
              "outlinewidth": 0,
              "ticks": ""
             }
            },
            "type": "scattermapbox"
           }
          ],
          "scatterpolar": [
           {
            "marker": {
             "colorbar": {
              "outlinewidth": 0,
              "ticks": ""
             }
            },
            "type": "scatterpolar"
           }
          ],
          "scatterpolargl": [
           {
            "marker": {
             "colorbar": {
              "outlinewidth": 0,
              "ticks": ""
             }
            },
            "type": "scatterpolargl"
           }
          ],
          "scatterternary": [
           {
            "marker": {
             "colorbar": {
              "outlinewidth": 0,
              "ticks": ""
             }
            },
            "type": "scatterternary"
           }
          ],
          "surface": [
           {
            "colorbar": {
             "outlinewidth": 0,
             "ticks": ""
            },
            "colorscale": [
             [
              0,
              "#0d0887"
             ],
             [
              0.1111111111111111,
              "#46039f"
             ],
             [
              0.2222222222222222,
              "#7201a8"
             ],
             [
              0.3333333333333333,
              "#9c179e"
             ],
             [
              0.4444444444444444,
              "#bd3786"
             ],
             [
              0.5555555555555556,
              "#d8576b"
             ],
             [
              0.6666666666666666,
              "#ed7953"
             ],
             [
              0.7777777777777778,
              "#fb9f3a"
             ],
             [
              0.8888888888888888,
              "#fdca26"
             ],
             [
              1,
              "#f0f921"
             ]
            ],
            "type": "surface"
           }
          ],
          "table": [
           {
            "cells": {
             "fill": {
              "color": "#EBF0F8"
             },
             "line": {
              "color": "white"
             }
            },
            "header": {
             "fill": {
              "color": "#C8D4E3"
             },
             "line": {
              "color": "white"
             }
            },
            "type": "table"
           }
          ]
         },
         "layout": {
          "annotationdefaults": {
           "arrowcolor": "#2a3f5f",
           "arrowhead": 0,
           "arrowwidth": 1
          },
          "autotypenumbers": "strict",
          "coloraxis": {
           "colorbar": {
            "outlinewidth": 0,
            "ticks": ""
           }
          },
          "colorscale": {
           "diverging": [
            [
             0,
             "#8e0152"
            ],
            [
             0.1,
             "#c51b7d"
            ],
            [
             0.2,
             "#de77ae"
            ],
            [
             0.3,
             "#f1b6da"
            ],
            [
             0.4,
             "#fde0ef"
            ],
            [
             0.5,
             "#f7f7f7"
            ],
            [
             0.6,
             "#e6f5d0"
            ],
            [
             0.7,
             "#b8e186"
            ],
            [
             0.8,
             "#7fbc41"
            ],
            [
             0.9,
             "#4d9221"
            ],
            [
             1,
             "#276419"
            ]
           ],
           "sequential": [
            [
             0,
             "#0d0887"
            ],
            [
             0.1111111111111111,
             "#46039f"
            ],
            [
             0.2222222222222222,
             "#7201a8"
            ],
            [
             0.3333333333333333,
             "#9c179e"
            ],
            [
             0.4444444444444444,
             "#bd3786"
            ],
            [
             0.5555555555555556,
             "#d8576b"
            ],
            [
             0.6666666666666666,
             "#ed7953"
            ],
            [
             0.7777777777777778,
             "#fb9f3a"
            ],
            [
             0.8888888888888888,
             "#fdca26"
            ],
            [
             1,
             "#f0f921"
            ]
           ],
           "sequentialminus": [
            [
             0,
             "#0d0887"
            ],
            [
             0.1111111111111111,
             "#46039f"
            ],
            [
             0.2222222222222222,
             "#7201a8"
            ],
            [
             0.3333333333333333,
             "#9c179e"
            ],
            [
             0.4444444444444444,
             "#bd3786"
            ],
            [
             0.5555555555555556,
             "#d8576b"
            ],
            [
             0.6666666666666666,
             "#ed7953"
            ],
            [
             0.7777777777777778,
             "#fb9f3a"
            ],
            [
             0.8888888888888888,
             "#fdca26"
            ],
            [
             1,
             "#f0f921"
            ]
           ]
          },
          "colorway": [
           "#636efa",
           "#EF553B",
           "#00cc96",
           "#ab63fa",
           "#FFA15A",
           "#19d3f3",
           "#FF6692",
           "#B6E880",
           "#FF97FF",
           "#FECB52"
          ],
          "font": {
           "color": "#2a3f5f"
          },
          "geo": {
           "bgcolor": "white",
           "lakecolor": "white",
           "landcolor": "#E5ECF6",
           "showlakes": true,
           "showland": true,
           "subunitcolor": "white"
          },
          "hoverlabel": {
           "align": "left"
          },
          "hovermode": "closest",
          "mapbox": {
           "style": "light"
          },
          "paper_bgcolor": "white",
          "plot_bgcolor": "#E5ECF6",
          "polar": {
           "angularaxis": {
            "gridcolor": "white",
            "linecolor": "white",
            "ticks": ""
           },
           "bgcolor": "#E5ECF6",
           "radialaxis": {
            "gridcolor": "white",
            "linecolor": "white",
            "ticks": ""
           }
          },
          "scene": {
           "xaxis": {
            "backgroundcolor": "#E5ECF6",
            "gridcolor": "white",
            "gridwidth": 2,
            "linecolor": "white",
            "showbackground": true,
            "ticks": "",
            "zerolinecolor": "white"
           },
           "yaxis": {
            "backgroundcolor": "#E5ECF6",
            "gridcolor": "white",
            "gridwidth": 2,
            "linecolor": "white",
            "showbackground": true,
            "ticks": "",
            "zerolinecolor": "white"
           },
           "zaxis": {
            "backgroundcolor": "#E5ECF6",
            "gridcolor": "white",
            "gridwidth": 2,
            "linecolor": "white",
            "showbackground": true,
            "ticks": "",
            "zerolinecolor": "white"
           }
          },
          "shapedefaults": {
           "line": {
            "color": "#2a3f5f"
           }
          },
          "ternary": {
           "aaxis": {
            "gridcolor": "white",
            "linecolor": "white",
            "ticks": ""
           },
           "baxis": {
            "gridcolor": "white",
            "linecolor": "white",
            "ticks": ""
           },
           "bgcolor": "#E5ECF6",
           "caxis": {
            "gridcolor": "white",
            "linecolor": "white",
            "ticks": ""
           }
          },
          "title": {
           "x": 0.05
          },
          "xaxis": {
           "automargin": true,
           "gridcolor": "white",
           "linecolor": "white",
           "ticks": "",
           "title": {
            "standoff": 15
           },
           "zerolinecolor": "white",
           "zerolinewidth": 2
          },
          "yaxis": {
           "automargin": true,
           "gridcolor": "white",
           "linecolor": "white",
           "ticks": "",
           "title": {
            "standoff": 15
           },
           "zerolinecolor": "white",
           "zerolinewidth": 2
          }
         }
        },
        "title": {
         "font": {
          "color": "#151516"
         }
        },
        "xaxis": {
         "gridcolor": "#F6F6F6",
         "showgrid": true,
         "tickfont": {
          "color": "#666666"
         },
         "title": {
          "font": {
           "color": "#666666"
          },
          "text": ""
         },
         "zerolinecolor": "#F6F6F6"
        },
        "yaxis": {
         "gridcolor": "#F6F6F6",
         "showgrid": true,
         "tickfont": {
          "color": "#666666"
         },
         "title": {
          "font": {
           "color": "#666666"
          },
          "text": ""
         },
         "zerolinecolor": "#F6F6F6"
        }
       }
      },
      "text/html": [
       "<div>                            <div id=\"53c5466c-72d2-4354-ae3f-1aadfb757c80\" class=\"plotly-graph-div\" style=\"height:525px; width:100%;\"></div>            <script type=\"text/javascript\">                require([\"plotly\"], function(Plotly) {                    window.PLOTLYENV=window.PLOTLYENV || {};\n",
       "                    window.PLOTLYENV.BASE_URL='https://plot.ly';                                    if (document.getElementById(\"53c5466c-72d2-4354-ae3f-1aadfb757c80\")) {                    Plotly.newPlot(                        \"53c5466c-72d2-4354-ae3f-1aadfb757c80\",                        [{\"line\":{\"color\":\"rgba(226, 74, 51, 1.0)\",\"dash\":\"solid\",\"shape\":\"linear\",\"width\":1.3},\"mode\":\"lines\",\"name\":\"ticker\",\"text\":\"\",\"x\":[0,1,2,3,4,5,6,7,8,9,10,11,12,13,14,15,16,17,18,19,20,21,22,23,24,25,26,27,28,29,30,31,32,33,34,35,36,37,38,39,40,41,42,43,44,45,46,47,48,49,50,51,52,53,54,55,56,57,58,59,60,61,62,63,64,65,66,67,68,69,70,71,72,73,74,75,76,77,78,79,80,81,82,83,84,85,86,87,88,89,90,91,92,93,94,95,96,97,98,99,100,101,102,103,104,105,106,107,108,109,110,111,112,113,114,115,116,117,118,119,120,121,122,123,124,125,126,127,128,129,130,131,132,133,134,135,136,137,138,139,140,141,142,143,144,145,146,147,148,149,150,151,152,153,154,155,156,157,158,159,160,161,162,163,164,165,166,167,168,169,170,171,172,173,174,175,176,177,178,179,180,181,182,183,184,185,186,187,188,189,190,191,192,193,194,195,196,197,198,199,200,201,202,203,204,205,206,207,208,209,210,211,212,213,214,215,216,217,218,219,220,221,222],\"y\":[\"MMM\",\"ABT\",\"ABBV\",\"ANF\",\"AGRO\",\"ADBE\",\"AMD\",\"AEG\",\"AEM\",\"BABA\",\"GOOGL\",\"MO\",\"ACHHY\",\"AMZN\",\"ABEV\",\"AMX\",\"AAL\",\"AXP\",\"AIG\",\"AMGN\",\"ADI\",\"AAPL\",\"AMAT\",\"ARCO\",\"AZN\",\"T\",\"ADP\",\"AVY\",\"CAR\",\"BIDU\",\"BBD\",\"BSBR\",\"SAN\",\"BK\",\"BCS\",\"GOLD\",\"BHP\",\"BIOX\",\"BIIB\",\"BB\",\"BA\",\"BP\",\"BRFS\",\"BMY\",\"AVGO\",\"BG\",\"CAJ\",\"CAH\",\"CAT\",\"CX\",\"EBR\",\"CVX\",\"ELP\",\"SBS\",\"SID\",\"CSCO\",\"C\",\"KO\",\"KOF\",\"CDE\",\"COIN\",\"CL\",\"GLW\",\"CAAP\",\"COST\",\"CS\",\"DE\",\"DESP\",\"DEO\",\"DOCU\",\"DOW\",\"DD\",\"EBAY\",\"EA\",\"LLY\",\"ERJ\",\"E\",\"EFX\",\"ERIC\",\"ETSY\",\"XOM\",\"FDX\",\"FSLR\",\"FMX\",\"FCX\",\"GRMN\",\"GE\",\"GM\",\"GPRK\",\"GGB\",\"GILD\",\"GLOB\",\"GFI\",\"GS\",\"PAC\",\"ASR\",\"TV\",\"GSK\",\"HAL\",\"HOG\",\"HMY\",\"HDB\",\"HL\",\"HSY\",\"HD\",\"HMC\",\"HON\",\"HWM\",\"HPQ\",\"HSBC\",\"HNPIY\",\"IBN\",\"INFY\",\"ING\",\"INTC\",\"IP\",\"IBM\",\"IFF\",\"ITUB\",\"JD\",\"JNJ\",\"YY\",\"JPM\",\"KB\",\"KMB\",\"KGC\",\"PHG\",\"KEP\",\"LRCX\",\"LVS\",\"LYG\",\"LMT\",\"MMC\",\"MA\",\"MCD\",\"MDT\",\"MELI\",\"MRK\",\"META\",\"MSFT\",\"MUFG\",\"MFG\",\"MSI\",\"NGG\",\"NTCO\",\"NTES\",\"NFLX\",\"NEM\",\"NKE\",\"NIO\",\"NOK\",\"NMR\",\"NG\",\"NVS\",\"NVDA\",\"ORCL\",\"ORAN\",\"PCAR\",\"PAAS\",\"PYPL\",\"PEP\",\"PBR\",\"PFE\",\"PSX\",\"PBI\",\"PKX\",\"PG\",\"QCOM\",\"RTX\",\"RIO\",\"ROST\",\"SHEL\",\"CRM\",\"SAP\",\"SLB\",\"SE\",\"SHOP\",\"SNAP\",\"SNA\",\"SNOW\",\"SONY\",\"SCCO\",\"SPOT\",\"SQ\",\"SBUX\",\"SUZ\",\"SYY\",\"TSM\",\"TGT\",\"TTM\",\"VIV\",\"TEF\",\"TS\",\"TX\",\"TSLA\",\"TXN\",\"TMO\",\"TTE\",\"TM\",\"TCOM\",\"TRIP\",\"TWLO\",\"TWTR\",\"UGP\",\"UL\",\"UNP\",\"X\",\"UNH\",\"URBN\",\"USB\",\"VALE\",\"VRSN\",\"VZ\",\"V\",\"VOD\",\"WBA\",\"WMT\",\"WB\",\"WFC\",\"XP\",\"AUY\",\"YELP\",\"ZM\"],\"type\":\"scatter\"},{\"line\":{\"color\":\"rgba(62, 111, 176, 1.0)\",\"dash\":\"solid\",\"shape\":\"linear\",\"width\":1.3},\"mode\":\"lines\",\"name\":\"Dolar CCL\",\"text\":\"\",\"x\":[0,1,2,3,4,5,6,7,8,9,10,11,12,13,14,15,16,17,18,19,20,21,22,23,24,25,26,27,28,29,30,31,32,33,34,35,36,37,38,39,40,41,42,43,44,45,46,47,48,49,50,51,52,53,54,55,56,57,58,59,60,61,62,63,64,65,66,67,68,69,70,71,72,73,74,75,76,77,78,79,80,81,82,83,84,85,86,87,88,89,90,91,92,93,94,95,96,97,98,99,100,101,102,103,104,105,106,107,108,109,110,111,112,113,114,115,116,117,118,119,120,121,122,123,124,125,126,127,128,129,130,131,132,133,134,135,136,137,138,139,140,141,142,143,144,145,146,147,148,149,150,151,152,153,154,155,156,157,158,159,160,161,162,163,164,165,166,167,168,169,170,171,172,173,174,175,176,177,178,179,180,181,182,183,184,185,186,187,188,189,190,191,192,193,194,195,196,197,198,199,200,201,202,203,204,205,206,207,208,209,210,211,212,213,214,215,216,217,218,219,220,221,222],\"y\":[307.6387074296664,306.26924987580725,306.60679923027584,310.3592046183451,1222.6840855106889,307.5235766678309,1233.4452201933404,0.0,307.04208221843834,292.1853146853147,307.8767123287671,306.0218553824692,279.1847826086957,309.16146448456215,2778.3050847457625,307.18325791855204,308.61678004535145,308.3518257010288,309.23694779116465,308.1172591998574,309.23605497170576,307.2144158209732,307.7850499483293,1234.3490304709142,307.44153082919917,307.0153846153846,309.0356739866331,308.6908754481323,310.01596700153016,307.58969641214355,307.70234986945167,306.5723793677205,4934.4,309.1016548463357,311.81938911022576,307.37812911725956,314.63707258548294,1230.6923076923076,313.03300892946726,305.5045871559633,308.3955614488101,308.73197903014415,2780.0,309.6746328822344,306.12581407889826,307.0670391061453,0.0,307.3311611374408,306.7461471357953,311.1111111111111,4890.3600464576075,307.59305851235405,0.0,0.0,19689.795918367345,308.4275066121664,308.0941074897475,307.449494949495,0.0,309.44625407166126,306.56416321703136,312.91722296395193,0.0,4933.333333333333,308.7188431662847,309.4,307.3239758726166,304.9635036496351,304.9117952265652,307.4358974358974,305.93597154290796,308.51364063969896,304.3411250963267,308.2049536130735,307.46087425796003,306.95900857959964,0.0,0.0,0.0,307.4084750648602,307.4766355140187,307.373572593801,307.7782695286568,308.147797252487,307.52669039145906,308.65623889086385,310.15026065624045,307.484076433121,300.9889240506329,4959.139784946236,307.46456692913387,307.1004229836985,312.3670212765958,308.6542359140657,0.0,0.0,310.32702237521517,306.41585488747063,307.7178729689808,309.3890274314214,310.3286384976526,306.9392230576441,311.22194513715715,308.0502215657312,308.5907869057702,310.52521008403363,308.8697647733792,314.35836075381394,308.4230769230769,0.0,0.0,306.8927304964539,309.34195064629847,309.1772151898734,308.3948015454865,307.93928779918275,308.2326102617466,308.78466969238525,307.59259259259255,307.2501390691637,306.6511513963743,309.5014992503748,307.04951551249,0.0,308.39890665120515,304.94350282485874,308.78859857482183,309.103840682788,310.16681299385425,308.5199344620426,304.2654028436019,306.71108995716327,308.2682291666667,308.10837438423647,307.9655886570017,308.083518021696,306.92957746478874,308.20418786229743,307.7962285392626,308.4118016321406,307.2,0.0,311.05173061667574,310.85772634445203,307.82029950083194,308.4002006018054,306.3621395702284,306.1556603773585,308.47780338711294,306.88524590163934,312.22222222222223,311.1918604651163,0.0,307.53159659530564,307.2166503280295,308.65168539325845,306.6037735849057,308.1792651532881,308.4375,306.9971484974775,307.24887200189977,306.0312732688012,306.9672131147541,309.0439276485788,311.2903225806452,307.89473684210526,307.4486112134385,307.43861338468946,312.08491461100573,308.22998872604285,307.7290836653387,307.77756545002865,307.72200772200773,307.9062424095215,305.5880787653007,303.5063113604488,309.6170212765958,309.3087557603687,312.20631169192274,307.43621307072516,306.36532684880564,314.8809523809524,305.2730894223713,313.5407905803196,307.765237020316,0.0,307.81389420012744,2780.6585429089964,309.38816575488903,312.4952380952381,0.0,310.36414565826334,307.1187077385424,307.3280331835465,307.1559175531915,306.7666870789957,306.08913998744504,308.5355648535565,307.5301642680622,307.8591895210806,305.9923501912452,305.85164835164835,308.5776593166949,308.46456692913387,307.6433121019108,308.2259663032706,306.19647355163727,306.97449617247304,0.0,313.5556567266105,307.00685453160696,308.21638750565864,308.0040526849038,308.148861084376,311.07491856677524,306.9997008674843,307.1677673072642,303.844100373732,305.77241542465106,307.4898785425101,307.2429906542056,307.9336885731202,304.19410060574137],\"type\":\"scatter\"}],                        {\"legend\":{\"bgcolor\":\"#FFFFFF\",\"font\":{\"color\":\"#666666\"}},\"paper_bgcolor\":\"#FFFFFF\",\"plot_bgcolor\":\"#E5E5E5\",\"template\":{\"data\":{\"barpolar\":[{\"marker\":{\"line\":{\"color\":\"#E5ECF6\",\"width\":0.5},\"pattern\":{\"fillmode\":\"overlay\",\"size\":10,\"solidity\":0.2}},\"type\":\"barpolar\"}],\"bar\":[{\"error_x\":{\"color\":\"#2a3f5f\"},\"error_y\":{\"color\":\"#2a3f5f\"},\"marker\":{\"line\":{\"color\":\"#E5ECF6\",\"width\":0.5},\"pattern\":{\"fillmode\":\"overlay\",\"size\":10,\"solidity\":0.2}},\"type\":\"bar\"}],\"carpet\":[{\"aaxis\":{\"endlinecolor\":\"#2a3f5f\",\"gridcolor\":\"white\",\"linecolor\":\"white\",\"minorgridcolor\":\"white\",\"startlinecolor\":\"#2a3f5f\"},\"baxis\":{\"endlinecolor\":\"#2a3f5f\",\"gridcolor\":\"white\",\"linecolor\":\"white\",\"minorgridcolor\":\"white\",\"startlinecolor\":\"#2a3f5f\"},\"type\":\"carpet\"}],\"choropleth\":[{\"colorbar\":{\"outlinewidth\":0,\"ticks\":\"\"},\"type\":\"choropleth\"}],\"contourcarpet\":[{\"colorbar\":{\"outlinewidth\":0,\"ticks\":\"\"},\"type\":\"contourcarpet\"}],\"contour\":[{\"colorbar\":{\"outlinewidth\":0,\"ticks\":\"\"},\"colorscale\":[[0.0,\"#0d0887\"],[0.1111111111111111,\"#46039f\"],[0.2222222222222222,\"#7201a8\"],[0.3333333333333333,\"#9c179e\"],[0.4444444444444444,\"#bd3786\"],[0.5555555555555556,\"#d8576b\"],[0.6666666666666666,\"#ed7953\"],[0.7777777777777778,\"#fb9f3a\"],[0.8888888888888888,\"#fdca26\"],[1.0,\"#f0f921\"]],\"type\":\"contour\"}],\"heatmapgl\":[{\"colorbar\":{\"outlinewidth\":0,\"ticks\":\"\"},\"colorscale\":[[0.0,\"#0d0887\"],[0.1111111111111111,\"#46039f\"],[0.2222222222222222,\"#7201a8\"],[0.3333333333333333,\"#9c179e\"],[0.4444444444444444,\"#bd3786\"],[0.5555555555555556,\"#d8576b\"],[0.6666666666666666,\"#ed7953\"],[0.7777777777777778,\"#fb9f3a\"],[0.8888888888888888,\"#fdca26\"],[1.0,\"#f0f921\"]],\"type\":\"heatmapgl\"}],\"heatmap\":[{\"colorbar\":{\"outlinewidth\":0,\"ticks\":\"\"},\"colorscale\":[[0.0,\"#0d0887\"],[0.1111111111111111,\"#46039f\"],[0.2222222222222222,\"#7201a8\"],[0.3333333333333333,\"#9c179e\"],[0.4444444444444444,\"#bd3786\"],[0.5555555555555556,\"#d8576b\"],[0.6666666666666666,\"#ed7953\"],[0.7777777777777778,\"#fb9f3a\"],[0.8888888888888888,\"#fdca26\"],[1.0,\"#f0f921\"]],\"type\":\"heatmap\"}],\"histogram2dcontour\":[{\"colorbar\":{\"outlinewidth\":0,\"ticks\":\"\"},\"colorscale\":[[0.0,\"#0d0887\"],[0.1111111111111111,\"#46039f\"],[0.2222222222222222,\"#7201a8\"],[0.3333333333333333,\"#9c179e\"],[0.4444444444444444,\"#bd3786\"],[0.5555555555555556,\"#d8576b\"],[0.6666666666666666,\"#ed7953\"],[0.7777777777777778,\"#fb9f3a\"],[0.8888888888888888,\"#fdca26\"],[1.0,\"#f0f921\"]],\"type\":\"histogram2dcontour\"}],\"histogram2d\":[{\"colorbar\":{\"outlinewidth\":0,\"ticks\":\"\"},\"colorscale\":[[0.0,\"#0d0887\"],[0.1111111111111111,\"#46039f\"],[0.2222222222222222,\"#7201a8\"],[0.3333333333333333,\"#9c179e\"],[0.4444444444444444,\"#bd3786\"],[0.5555555555555556,\"#d8576b\"],[0.6666666666666666,\"#ed7953\"],[0.7777777777777778,\"#fb9f3a\"],[0.8888888888888888,\"#fdca26\"],[1.0,\"#f0f921\"]],\"type\":\"histogram2d\"}],\"histogram\":[{\"marker\":{\"pattern\":{\"fillmode\":\"overlay\",\"size\":10,\"solidity\":0.2}},\"type\":\"histogram\"}],\"mesh3d\":[{\"colorbar\":{\"outlinewidth\":0,\"ticks\":\"\"},\"type\":\"mesh3d\"}],\"parcoords\":[{\"line\":{\"colorbar\":{\"outlinewidth\":0,\"ticks\":\"\"}},\"type\":\"parcoords\"}],\"pie\":[{\"automargin\":true,\"type\":\"pie\"}],\"scatter3d\":[{\"line\":{\"colorbar\":{\"outlinewidth\":0,\"ticks\":\"\"}},\"marker\":{\"colorbar\":{\"outlinewidth\":0,\"ticks\":\"\"}},\"type\":\"scatter3d\"}],\"scattercarpet\":[{\"marker\":{\"colorbar\":{\"outlinewidth\":0,\"ticks\":\"\"}},\"type\":\"scattercarpet\"}],\"scattergeo\":[{\"marker\":{\"colorbar\":{\"outlinewidth\":0,\"ticks\":\"\"}},\"type\":\"scattergeo\"}],\"scattergl\":[{\"marker\":{\"colorbar\":{\"outlinewidth\":0,\"ticks\":\"\"}},\"type\":\"scattergl\"}],\"scattermapbox\":[{\"marker\":{\"colorbar\":{\"outlinewidth\":0,\"ticks\":\"\"}},\"type\":\"scattermapbox\"}],\"scatterpolargl\":[{\"marker\":{\"colorbar\":{\"outlinewidth\":0,\"ticks\":\"\"}},\"type\":\"scatterpolargl\"}],\"scatterpolar\":[{\"marker\":{\"colorbar\":{\"outlinewidth\":0,\"ticks\":\"\"}},\"type\":\"scatterpolar\"}],\"scatter\":[{\"fillpattern\":{\"fillmode\":\"overlay\",\"size\":10,\"solidity\":0.2},\"type\":\"scatter\"}],\"scatterternary\":[{\"marker\":{\"colorbar\":{\"outlinewidth\":0,\"ticks\":\"\"}},\"type\":\"scatterternary\"}],\"surface\":[{\"colorbar\":{\"outlinewidth\":0,\"ticks\":\"\"},\"colorscale\":[[0.0,\"#0d0887\"],[0.1111111111111111,\"#46039f\"],[0.2222222222222222,\"#7201a8\"],[0.3333333333333333,\"#9c179e\"],[0.4444444444444444,\"#bd3786\"],[0.5555555555555556,\"#d8576b\"],[0.6666666666666666,\"#ed7953\"],[0.7777777777777778,\"#fb9f3a\"],[0.8888888888888888,\"#fdca26\"],[1.0,\"#f0f921\"]],\"type\":\"surface\"}],\"table\":[{\"cells\":{\"fill\":{\"color\":\"#EBF0F8\"},\"line\":{\"color\":\"white\"}},\"header\":{\"fill\":{\"color\":\"#C8D4E3\"},\"line\":{\"color\":\"white\"}},\"type\":\"table\"}]},\"layout\":{\"annotationdefaults\":{\"arrowcolor\":\"#2a3f5f\",\"arrowhead\":0,\"arrowwidth\":1},\"autotypenumbers\":\"strict\",\"coloraxis\":{\"colorbar\":{\"outlinewidth\":0,\"ticks\":\"\"}},\"colorscale\":{\"diverging\":[[0,\"#8e0152\"],[0.1,\"#c51b7d\"],[0.2,\"#de77ae\"],[0.3,\"#f1b6da\"],[0.4,\"#fde0ef\"],[0.5,\"#f7f7f7\"],[0.6,\"#e6f5d0\"],[0.7,\"#b8e186\"],[0.8,\"#7fbc41\"],[0.9,\"#4d9221\"],[1,\"#276419\"]],\"sequential\":[[0.0,\"#0d0887\"],[0.1111111111111111,\"#46039f\"],[0.2222222222222222,\"#7201a8\"],[0.3333333333333333,\"#9c179e\"],[0.4444444444444444,\"#bd3786\"],[0.5555555555555556,\"#d8576b\"],[0.6666666666666666,\"#ed7953\"],[0.7777777777777778,\"#fb9f3a\"],[0.8888888888888888,\"#fdca26\"],[1.0,\"#f0f921\"]],\"sequentialminus\":[[0.0,\"#0d0887\"],[0.1111111111111111,\"#46039f\"],[0.2222222222222222,\"#7201a8\"],[0.3333333333333333,\"#9c179e\"],[0.4444444444444444,\"#bd3786\"],[0.5555555555555556,\"#d8576b\"],[0.6666666666666666,\"#ed7953\"],[0.7777777777777778,\"#fb9f3a\"],[0.8888888888888888,\"#fdca26\"],[1.0,\"#f0f921\"]]},\"colorway\":[\"#636efa\",\"#EF553B\",\"#00cc96\",\"#ab63fa\",\"#FFA15A\",\"#19d3f3\",\"#FF6692\",\"#B6E880\",\"#FF97FF\",\"#FECB52\"],\"font\":{\"color\":\"#2a3f5f\"},\"geo\":{\"bgcolor\":\"white\",\"lakecolor\":\"white\",\"landcolor\":\"#E5ECF6\",\"showlakes\":true,\"showland\":true,\"subunitcolor\":\"white\"},\"hoverlabel\":{\"align\":\"left\"},\"hovermode\":\"closest\",\"mapbox\":{\"style\":\"light\"},\"paper_bgcolor\":\"white\",\"plot_bgcolor\":\"#E5ECF6\",\"polar\":{\"angularaxis\":{\"gridcolor\":\"white\",\"linecolor\":\"white\",\"ticks\":\"\"},\"bgcolor\":\"#E5ECF6\",\"radialaxis\":{\"gridcolor\":\"white\",\"linecolor\":\"white\",\"ticks\":\"\"}},\"scene\":{\"xaxis\":{\"backgroundcolor\":\"#E5ECF6\",\"gridcolor\":\"white\",\"gridwidth\":2,\"linecolor\":\"white\",\"showbackground\":true,\"ticks\":\"\",\"zerolinecolor\":\"white\"},\"yaxis\":{\"backgroundcolor\":\"#E5ECF6\",\"gridcolor\":\"white\",\"gridwidth\":2,\"linecolor\":\"white\",\"showbackground\":true,\"ticks\":\"\",\"zerolinecolor\":\"white\"},\"zaxis\":{\"backgroundcolor\":\"#E5ECF6\",\"gridcolor\":\"white\",\"gridwidth\":2,\"linecolor\":\"white\",\"showbackground\":true,\"ticks\":\"\",\"zerolinecolor\":\"white\"}},\"shapedefaults\":{\"line\":{\"color\":\"#2a3f5f\"}},\"ternary\":{\"aaxis\":{\"gridcolor\":\"white\",\"linecolor\":\"white\",\"ticks\":\"\"},\"baxis\":{\"gridcolor\":\"white\",\"linecolor\":\"white\",\"ticks\":\"\"},\"bgcolor\":\"#E5ECF6\",\"caxis\":{\"gridcolor\":\"white\",\"linecolor\":\"white\",\"ticks\":\"\"}},\"title\":{\"x\":0.05},\"xaxis\":{\"automargin\":true,\"gridcolor\":\"white\",\"linecolor\":\"white\",\"ticks\":\"\",\"title\":{\"standoff\":15},\"zerolinecolor\":\"white\",\"zerolinewidth\":2},\"yaxis\":{\"automargin\":true,\"gridcolor\":\"white\",\"linecolor\":\"white\",\"ticks\":\"\",\"title\":{\"standoff\":15},\"zerolinecolor\":\"white\",\"zerolinewidth\":2}}},\"title\":{\"font\":{\"color\":\"#151516\"}},\"xaxis\":{\"gridcolor\":\"#F6F6F6\",\"showgrid\":true,\"tickfont\":{\"color\":\"#666666\"},\"title\":{\"font\":{\"color\":\"#666666\"},\"text\":\"\"},\"zerolinecolor\":\"#F6F6F6\"},\"yaxis\":{\"gridcolor\":\"#F6F6F6\",\"showgrid\":true,\"tickfont\":{\"color\":\"#666666\"},\"title\":{\"font\":{\"color\":\"#666666\"},\"text\":\"\"},\"zerolinecolor\":\"#F6F6F6\"}},                        {\"showLink\": true, \"linkText\": \"Export to plot.ly\", \"plotlyServerURL\": \"https://plot.ly\", \"responsive\": true}                    ).then(function(){\n",
       "                            \n",
       "var gd = document.getElementById('53c5466c-72d2-4354-ae3f-1aadfb757c80');\n",
       "var x = new MutationObserver(function (mutations, observer) {{\n",
       "        var display = window.getComputedStyle(gd).display;\n",
       "        if (!display || display === 'none') {{\n",
       "            console.log([gd, 'removed!']);\n",
       "            Plotly.purge(gd);\n",
       "            observer.disconnect();\n",
       "        }}\n",
       "}});\n",
       "\n",
       "// Listen for the removal of the full notebook cells\n",
       "var notebookContainer = gd.closest('#notebook-container');\n",
       "if (notebookContainer) {{\n",
       "    x.observe(notebookContainer, {childList: true});\n",
       "}}\n",
       "\n",
       "// Listen for the clearing of the current output cell\n",
       "var outputEl = gd.closest('.output');\n",
       "if (outputEl) {{\n",
       "    x.observe(outputEl, {childList: true});\n",
       "}}\n",
       "\n",
       "                        })                };                });            </script>        </div>"
      ]
     },
     "metadata": {},
     "output_type": "display_data"
    }
   ],
   "source": [
    "dfccl2.iplot()"
   ]
  }
 ],
 "metadata": {
  "kernelspec": {
   "display_name": "Python 3",
   "language": "python",
   "name": "python3"
  },
  "language_info": {
   "codemirror_mode": {
    "name": "ipython",
    "version": 3
   },
   "file_extension": ".py",
   "mimetype": "text/x-python",
   "name": "python",
   "nbconvert_exporter": "python",
   "pygments_lexer": "ipython3",
   "version": "3.8.8"
  },
  "orig_nbformat": 4
 },
 "nbformat": 4,
 "nbformat_minor": 2
}
