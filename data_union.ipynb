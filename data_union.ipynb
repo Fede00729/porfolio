{
 "cells": [
  {
   "cell_type": "markdown",
   "metadata": {},
   "source": [
    "### Reading dataframes and renaming columns to match"
   ]
  },
  {
   "cell_type": "code",
   "execution_count": 3,
   "metadata": {},
   "outputs": [],
   "source": [
    "import pandas as pd\n",
    "from datetime import date\n",
    "\n",
    "today = '2022-09-21' #str(date.today())\n",
    "\n",
    "xlistado = pd.read_csv('listado.csv')\n",
    "xlistado = xlistado.rename(columns={'Ticker  en  mercado  de  origen':'ticker','Id  de  mercado':'ticker_arg'})\n",
    "\n",
    "xdaily_csv = pd.read_csv(f'origin_tickets/origin_tickets_{today}.csv')\n",
    "xdaily_csv = xdaily_csv.rename(columns={'01. symbol':'ticker'})\n",
    "\n",
    "xarg_daily_csv = pd.read_csv(f'arg_tickets/arg_tickets_{today}.csv')\n",
    "xarg_daily_csv = xarg_daily_csv.rename(columns={'Simbolo':'ticker_arg'})"
   ]
  },
  {
   "cell_type": "markdown",
   "metadata": {},
   "source": [
    "### Merge dataframes from the API and \"Listado\" with Pandas"
   ]
  },
  {
   "cell_type": "code",
   "execution_count": 4,
   "metadata": {},
   "outputs": [
    {
     "data": {
      "text/html": [
       "<div>\n",
       "<style scoped>\n",
       "    .dataframe tbody tr th:only-of-type {\n",
       "        vertical-align: middle;\n",
       "    }\n",
       "\n",
       "    .dataframe tbody tr th {\n",
       "        vertical-align: top;\n",
       "    }\n",
       "\n",
       "    .dataframe thead th {\n",
       "        text-align: right;\n",
       "    }\n",
       "</style>\n",
       "<table border=\"1\" class=\"dataframe\">\n",
       "  <thead>\n",
       "    <tr style=\"text-align: right;\">\n",
       "      <th></th>\n",
       "      <th>Programa  de  CEDEAR</th>\n",
       "      <th>Ratio  Cedear  /  valor  sub-yacente</th>\n",
       "      <th>ticker_arg</th>\n",
       "      <th>ticker</th>\n",
       "      <th>02. open</th>\n",
       "      <th>03. high</th>\n",
       "      <th>04. low</th>\n",
       "      <th>05. price</th>\n",
       "      <th>06. volume</th>\n",
       "      <th>07. latest trading day</th>\n",
       "      <th>08. previous close</th>\n",
       "      <th>09. change</th>\n",
       "      <th>10. change percent</th>\n",
       "    </tr>\n",
       "  </thead>\n",
       "  <tbody>\n",
       "    <tr>\n",
       "      <th>0</th>\n",
       "      <td>3M CO</td>\n",
       "      <td>5:1</td>\n",
       "      <td>MMM</td>\n",
       "      <td>MMM</td>\n",
       "      <td>116.83</td>\n",
       "      <td>118.0300</td>\n",
       "      <td>114.80</td>\n",
       "      <td>114.81</td>\n",
       "      <td>3693062.0</td>\n",
       "      <td>2022-09-21</td>\n",
       "      <td>116.52</td>\n",
       "      <td>-1.71</td>\n",
       "      <td>-1.4676%</td>\n",
       "    </tr>\n",
       "    <tr>\n",
       "      <th>1</th>\n",
       "      <td>ABBOTT LABORATORIES</td>\n",
       "      <td>4:1</td>\n",
       "      <td>ABT</td>\n",
       "      <td>ABT</td>\n",
       "      <td>102.87</td>\n",
       "      <td>103.9200</td>\n",
       "      <td>100.62</td>\n",
       "      <td>100.65</td>\n",
       "      <td>4552978.0</td>\n",
       "      <td>2022-09-21</td>\n",
       "      <td>102.31</td>\n",
       "      <td>-1.66</td>\n",
       "      <td>-1.6225%</td>\n",
       "    </tr>\n",
       "    <tr>\n",
       "      <th>2</th>\n",
       "      <td>ABBVIE INC</td>\n",
       "      <td>10:1</td>\n",
       "      <td>ABBV</td>\n",
       "      <td>ABBV</td>\n",
       "      <td>142.15</td>\n",
       "      <td>143.6282</td>\n",
       "      <td>140.29</td>\n",
       "      <td>140.31</td>\n",
       "      <td>4941163.0</td>\n",
       "      <td>2022-09-21</td>\n",
       "      <td>141.77</td>\n",
       "      <td>-1.46</td>\n",
       "      <td>-1.0298%</td>\n",
       "    </tr>\n",
       "    <tr>\n",
       "      <th>3</th>\n",
       "      <td>ABERCROMBIE &amp; FITCH CO-CL A</td>\n",
       "      <td>1:1</td>\n",
       "      <td>ANF</td>\n",
       "      <td>ANF</td>\n",
       "      <td>16.09</td>\n",
       "      <td>16.4600</td>\n",
       "      <td>15.59</td>\n",
       "      <td>15.59</td>\n",
       "      <td>1437058.0</td>\n",
       "      <td>2022-09-21</td>\n",
       "      <td>15.93</td>\n",
       "      <td>-0.34</td>\n",
       "      <td>-2.1343%</td>\n",
       "    </tr>\n",
       "    <tr>\n",
       "      <th>4</th>\n",
       "      <td>ADECOAGRO SA</td>\n",
       "      <td>2:1</td>\n",
       "      <td>ADGO</td>\n",
       "      <td>AGRO</td>\n",
       "      <td>8.45</td>\n",
       "      <td>8.6000</td>\n",
       "      <td>8.31</td>\n",
       "      <td>8.42</td>\n",
       "      <td>554893.0</td>\n",
       "      <td>2022-09-21</td>\n",
       "      <td>8.42</td>\n",
       "      <td>0.00</td>\n",
       "      <td>0.0000%</td>\n",
       "    </tr>\n",
       "  </tbody>\n",
       "</table>\n",
       "</div>"
      ],
      "text/plain": [
       "          Programa  de  CEDEAR Ratio  Cedear  /  valor  sub-yacente  \\\n",
       "0                        3M CO                                  5:1   \n",
       "1          ABBOTT LABORATORIES                                  4:1   \n",
       "2                   ABBVIE INC                                 10:1   \n",
       "3  ABERCROMBIE & FITCH CO-CL A                                  1:1   \n",
       "4                 ADECOAGRO SA                                  2:1   \n",
       "\n",
       "  ticker_arg ticker  02. open  03. high  04. low  05. price  06. volume  \\\n",
       "0        MMM    MMM    116.83  118.0300   114.80     114.81   3693062.0   \n",
       "1        ABT    ABT    102.87  103.9200   100.62     100.65   4552978.0   \n",
       "2       ABBV   ABBV    142.15  143.6282   140.29     140.31   4941163.0   \n",
       "3        ANF    ANF     16.09   16.4600    15.59      15.59   1437058.0   \n",
       "4       ADGO   AGRO      8.45    8.6000     8.31       8.42    554893.0   \n",
       "\n",
       "  07. latest trading day  08. previous close  09. change 10. change percent  \n",
       "0             2022-09-21              116.52       -1.71           -1.4676%  \n",
       "1             2022-09-21              102.31       -1.66           -1.6225%  \n",
       "2             2022-09-21              141.77       -1.46           -1.0298%  \n",
       "3             2022-09-21               15.93       -0.34           -2.1343%  \n",
       "4             2022-09-21                8.42        0.00            0.0000%  "
      ]
     },
     "execution_count": 4,
     "metadata": {},
     "output_type": "execute_result"
    }
   ],
   "source": [
    "df1 = xlistado.merge(xdaily_csv, on='ticker')\n",
    "\n",
    "df1.head(5)"
   ]
  },
  {
   "cell_type": "markdown",
   "metadata": {},
   "source": [
    "### Merge with Pandas from 3 previously generated dataframes"
   ]
  },
  {
   "cell_type": "code",
   "execution_count": 5,
   "metadata": {},
   "outputs": [
    {
     "data": {
      "text/html": [
       "<div>\n",
       "<style scoped>\n",
       "    .dataframe tbody tr th:only-of-type {\n",
       "        vertical-align: middle;\n",
       "    }\n",
       "\n",
       "    .dataframe tbody tr th {\n",
       "        vertical-align: top;\n",
       "    }\n",
       "\n",
       "    .dataframe thead th {\n",
       "        text-align: right;\n",
       "    }\n",
       "</style>\n",
       "<table border=\"1\" class=\"dataframe\">\n",
       "  <thead>\n",
       "    <tr style=\"text-align: right;\">\n",
       "      <th></th>\n",
       "      <th>Programa  de  CEDEAR</th>\n",
       "      <th>Ratio  Cedear  /  valor  sub-yacente</th>\n",
       "      <th>ticker_arg</th>\n",
       "      <th>ticker</th>\n",
       "      <th>02. open</th>\n",
       "      <th>03. high</th>\n",
       "      <th>04. low</th>\n",
       "      <th>05. price</th>\n",
       "      <th>06. volume</th>\n",
       "      <th>07. latest trading day</th>\n",
       "      <th>...</th>\n",
       "      <th>Precio_Compra</th>\n",
       "      <th>Precio_Promedio</th>\n",
       "      <th>Precio_Promedio_Ponderado</th>\n",
       "      <th>Precio_Venta</th>\n",
       "      <th>Tendencia</th>\n",
       "      <th>Tipo_Liquidacion</th>\n",
       "      <th>Ultimo</th>\n",
       "      <th>Variacion</th>\n",
       "      <th>Vencimiento</th>\n",
       "      <th>Volumen_Nominal</th>\n",
       "    </tr>\n",
       "  </thead>\n",
       "  <tbody>\n",
       "    <tr>\n",
       "      <th>0</th>\n",
       "      <td>3M CO</td>\n",
       "      <td>5:1</td>\n",
       "      <td>MMM</td>\n",
       "      <td>MMM</td>\n",
       "      <td>116.83</td>\n",
       "      <td>118.0300</td>\n",
       "      <td>114.80</td>\n",
       "      <td>114.81</td>\n",
       "      <td>3693062.0</td>\n",
       "      <td>2022-09-21</td>\n",
       "      <td>...</td>\n",
       "      <td>6700.0</td>\n",
       "      <td>7149.9464</td>\n",
       "      <td>7154.7403</td>\n",
       "      <td>7227.0</td>\n",
       "      <td>-1</td>\n",
       "      <td>Pesos</td>\n",
       "      <td>7064.0</td>\n",
       "      <td>-0.48</td>\n",
       "      <td>48hs</td>\n",
       "      <td>3209</td>\n",
       "    </tr>\n",
       "    <tr>\n",
       "      <th>1</th>\n",
       "      <td>ABBOTT LABORATORIES</td>\n",
       "      <td>4:1</td>\n",
       "      <td>ABT</td>\n",
       "      <td>ABT</td>\n",
       "      <td>102.87</td>\n",
       "      <td>103.9200</td>\n",
       "      <td>100.62</td>\n",
       "      <td>100.65</td>\n",
       "      <td>4552978.0</td>\n",
       "      <td>2022-09-21</td>\n",
       "      <td>...</td>\n",
       "      <td>7000.0</td>\n",
       "      <td>7829.2400</td>\n",
       "      <td>7831.3539</td>\n",
       "      <td>7868.0</td>\n",
       "      <td>-1</td>\n",
       "      <td>Pesos</td>\n",
       "      <td>7706.5</td>\n",
       "      <td>0.46</td>\n",
       "      <td>48hs</td>\n",
       "      <td>741</td>\n",
       "    </tr>\n",
       "    <tr>\n",
       "      <th>2</th>\n",
       "      <td>ABBVIE INC</td>\n",
       "      <td>10:1</td>\n",
       "      <td>ABBV</td>\n",
       "      <td>ABBV</td>\n",
       "      <td>142.15</td>\n",
       "      <td>143.6282</td>\n",
       "      <td>140.29</td>\n",
       "      <td>140.31</td>\n",
       "      <td>4941163.0</td>\n",
       "      <td>2022-09-21</td>\n",
       "      <td>...</td>\n",
       "      <td>4100.0</td>\n",
       "      <td>4347.2653</td>\n",
       "      <td>4348.5451</td>\n",
       "      <td>5000.0</td>\n",
       "      <td>0</td>\n",
       "      <td>Pesos</td>\n",
       "      <td>4302.0</td>\n",
       "      <td>0.33</td>\n",
       "      <td>48hs</td>\n",
       "      <td>331</td>\n",
       "    </tr>\n",
       "    <tr>\n",
       "      <th>3</th>\n",
       "      <td>ABERCROMBIE &amp; FITCH CO-CL A</td>\n",
       "      <td>1:1</td>\n",
       "      <td>ANF</td>\n",
       "      <td>ANF</td>\n",
       "      <td>16.09</td>\n",
       "      <td>16.4600</td>\n",
       "      <td>15.59</td>\n",
       "      <td>15.59</td>\n",
       "      <td>1437058.0</td>\n",
       "      <td>2022-09-21</td>\n",
       "      <td>...</td>\n",
       "      <td>4747.0</td>\n",
       "      <td>4838.5000</td>\n",
       "      <td>4838.5000</td>\n",
       "      <td>7408.0</td>\n",
       "      <td>0</td>\n",
       "      <td>Pesos</td>\n",
       "      <td>4838.5</td>\n",
       "      <td>1.64</td>\n",
       "      <td>48hs</td>\n",
       "      <td>1</td>\n",
       "    </tr>\n",
       "    <tr>\n",
       "      <th>4</th>\n",
       "      <td>ADECOAGRO SA</td>\n",
       "      <td>2:1</td>\n",
       "      <td>ADGO</td>\n",
       "      <td>AGRO</td>\n",
       "      <td>8.45</td>\n",
       "      <td>8.6000</td>\n",
       "      <td>8.31</td>\n",
       "      <td>8.42</td>\n",
       "      <td>554893.0</td>\n",
       "      <td>2022-09-21</td>\n",
       "      <td>...</td>\n",
       "      <td>500.0</td>\n",
       "      <td>5150.4490</td>\n",
       "      <td>5169.4270</td>\n",
       "      <td>5555.0</td>\n",
       "      <td>-1</td>\n",
       "      <td>Pesos</td>\n",
       "      <td>5147.5</td>\n",
       "      <td>0.83</td>\n",
       "      <td>48hs</td>\n",
       "      <td>826</td>\n",
       "    </tr>\n",
       "  </tbody>\n",
       "</table>\n",
       "<p>5 rows × 35 columns</p>\n",
       "</div>"
      ],
      "text/plain": [
       "          Programa  de  CEDEAR Ratio  Cedear  /  valor  sub-yacente  \\\n",
       "0                        3M CO                                  5:1   \n",
       "1          ABBOTT LABORATORIES                                  4:1   \n",
       "2                   ABBVIE INC                                 10:1   \n",
       "3  ABERCROMBIE & FITCH CO-CL A                                  1:1   \n",
       "4                 ADECOAGRO SA                                  2:1   \n",
       "\n",
       "  ticker_arg ticker  02. open  03. high  04. low  05. price  06. volume  \\\n",
       "0        MMM    MMM    116.83  118.0300   114.80     114.81   3693062.0   \n",
       "1        ABT    ABT    102.87  103.9200   100.62     100.65   4552978.0   \n",
       "2       ABBV   ABBV    142.15  143.6282   140.29     140.31   4941163.0   \n",
       "3        ANF    ANF     16.09   16.4600    15.59      15.59   1437058.0   \n",
       "4       ADGO   AGRO      8.45    8.6000     8.31       8.42    554893.0   \n",
       "\n",
       "  07. latest trading day  ...  Precio_Compra  Precio_Promedio  \\\n",
       "0             2022-09-21  ...         6700.0        7149.9464   \n",
       "1             2022-09-21  ...         7000.0        7829.2400   \n",
       "2             2022-09-21  ...         4100.0        4347.2653   \n",
       "3             2022-09-21  ...         4747.0        4838.5000   \n",
       "4             2022-09-21  ...          500.0        5150.4490   \n",
       "\n",
       "  Precio_Promedio_Ponderado  Precio_Venta  Tendencia  Tipo_Liquidacion  \\\n",
       "0                 7154.7403        7227.0         -1             Pesos   \n",
       "1                 7831.3539        7868.0         -1             Pesos   \n",
       "2                 4348.5451        5000.0          0             Pesos   \n",
       "3                 4838.5000        7408.0          0             Pesos   \n",
       "4                 5169.4270        5555.0         -1             Pesos   \n",
       "\n",
       "   Ultimo  Variacion Vencimiento  Volumen_Nominal  \n",
       "0  7064.0      -0.48        48hs             3209  \n",
       "1  7706.5       0.46        48hs              741  \n",
       "2  4302.0       0.33        48hs              331  \n",
       "3  4838.5       1.64        48hs                1  \n",
       "4  5147.5       0.83        48hs              826  \n",
       "\n",
       "[5 rows x 35 columns]"
      ]
     },
     "execution_count": 5,
     "metadata": {},
     "output_type": "execute_result"
    }
   ],
   "source": [
    "df2 = df1.merge(xarg_daily_csv, on='ticker_arg')\n",
    "\n",
    "df2.head(5)"
   ]
  },
  {
   "cell_type": "markdown",
   "metadata": {},
   "source": [
    "### Splitting column of ratios and changing types"
   ]
  },
  {
   "cell_type": "code",
   "execution_count": 6,
   "metadata": {},
   "outputs": [
    {
     "name": "stdout",
     "output_type": "stream",
     "text": [
      "Ratio Cedear         object\n",
      "valor sub-yacente    object\n",
      "dtype: object\n",
      "Ratio Cedear         float64\n",
      "valor sub-yacente    float64\n",
      "dtype: object\n"
     ]
    },
    {
     "data": {
      "text/html": [
       "<div>\n",
       "<style scoped>\n",
       "    .dataframe tbody tr th:only-of-type {\n",
       "        vertical-align: middle;\n",
       "    }\n",
       "\n",
       "    .dataframe tbody tr th {\n",
       "        vertical-align: top;\n",
       "    }\n",
       "\n",
       "    .dataframe thead th {\n",
       "        text-align: right;\n",
       "    }\n",
       "</style>\n",
       "<table border=\"1\" class=\"dataframe\">\n",
       "  <thead>\n",
       "    <tr style=\"text-align: right;\">\n",
       "      <th></th>\n",
       "      <th>Ratio Cedear</th>\n",
       "      <th>valor sub-yacente</th>\n",
       "      <th>Programa  de  CEDEAR</th>\n",
       "      <th>Ratio  Cedear  /  valor  sub-yacente</th>\n",
       "      <th>ticker_arg</th>\n",
       "      <th>ticker</th>\n",
       "      <th>02. open</th>\n",
       "      <th>03. high</th>\n",
       "      <th>04. low</th>\n",
       "      <th>05. price</th>\n",
       "      <th>...</th>\n",
       "      <th>Precio_Compra</th>\n",
       "      <th>Precio_Promedio</th>\n",
       "      <th>Precio_Promedio_Ponderado</th>\n",
       "      <th>Precio_Venta</th>\n",
       "      <th>Tendencia</th>\n",
       "      <th>Tipo_Liquidacion</th>\n",
       "      <th>Ultimo</th>\n",
       "      <th>Variacion</th>\n",
       "      <th>Vencimiento</th>\n",
       "      <th>Volumen_Nominal</th>\n",
       "    </tr>\n",
       "  </thead>\n",
       "  <tbody>\n",
       "    <tr>\n",
       "      <th>0</th>\n",
       "      <td>5.0</td>\n",
       "      <td>1.0</td>\n",
       "      <td>3M CO</td>\n",
       "      <td>5:1</td>\n",
       "      <td>MMM</td>\n",
       "      <td>MMM</td>\n",
       "      <td>116.83</td>\n",
       "      <td>118.0300</td>\n",
       "      <td>114.80</td>\n",
       "      <td>114.81</td>\n",
       "      <td>...</td>\n",
       "      <td>6700.0</td>\n",
       "      <td>7149.9464</td>\n",
       "      <td>7154.7403</td>\n",
       "      <td>7227.0</td>\n",
       "      <td>-1</td>\n",
       "      <td>Pesos</td>\n",
       "      <td>7064.0</td>\n",
       "      <td>-0.48</td>\n",
       "      <td>48hs</td>\n",
       "      <td>3209</td>\n",
       "    </tr>\n",
       "    <tr>\n",
       "      <th>1</th>\n",
       "      <td>4.0</td>\n",
       "      <td>1.0</td>\n",
       "      <td>ABBOTT LABORATORIES</td>\n",
       "      <td>4:1</td>\n",
       "      <td>ABT</td>\n",
       "      <td>ABT</td>\n",
       "      <td>102.87</td>\n",
       "      <td>103.9200</td>\n",
       "      <td>100.62</td>\n",
       "      <td>100.65</td>\n",
       "      <td>...</td>\n",
       "      <td>7000.0</td>\n",
       "      <td>7829.2400</td>\n",
       "      <td>7831.3539</td>\n",
       "      <td>7868.0</td>\n",
       "      <td>-1</td>\n",
       "      <td>Pesos</td>\n",
       "      <td>7706.5</td>\n",
       "      <td>0.46</td>\n",
       "      <td>48hs</td>\n",
       "      <td>741</td>\n",
       "    </tr>\n",
       "    <tr>\n",
       "      <th>2</th>\n",
       "      <td>10.0</td>\n",
       "      <td>1.0</td>\n",
       "      <td>ABBVIE INC</td>\n",
       "      <td>10:1</td>\n",
       "      <td>ABBV</td>\n",
       "      <td>ABBV</td>\n",
       "      <td>142.15</td>\n",
       "      <td>143.6282</td>\n",
       "      <td>140.29</td>\n",
       "      <td>140.31</td>\n",
       "      <td>...</td>\n",
       "      <td>4100.0</td>\n",
       "      <td>4347.2653</td>\n",
       "      <td>4348.5451</td>\n",
       "      <td>5000.0</td>\n",
       "      <td>0</td>\n",
       "      <td>Pesos</td>\n",
       "      <td>4302.0</td>\n",
       "      <td>0.33</td>\n",
       "      <td>48hs</td>\n",
       "      <td>331</td>\n",
       "    </tr>\n",
       "    <tr>\n",
       "      <th>3</th>\n",
       "      <td>1.0</td>\n",
       "      <td>1.0</td>\n",
       "      <td>ABERCROMBIE &amp; FITCH CO-CL A</td>\n",
       "      <td>1:1</td>\n",
       "      <td>ANF</td>\n",
       "      <td>ANF</td>\n",
       "      <td>16.09</td>\n",
       "      <td>16.4600</td>\n",
       "      <td>15.59</td>\n",
       "      <td>15.59</td>\n",
       "      <td>...</td>\n",
       "      <td>4747.0</td>\n",
       "      <td>4838.5000</td>\n",
       "      <td>4838.5000</td>\n",
       "      <td>7408.0</td>\n",
       "      <td>0</td>\n",
       "      <td>Pesos</td>\n",
       "      <td>4838.5</td>\n",
       "      <td>1.64</td>\n",
       "      <td>48hs</td>\n",
       "      <td>1</td>\n",
       "    </tr>\n",
       "    <tr>\n",
       "      <th>4</th>\n",
       "      <td>2.0</td>\n",
       "      <td>1.0</td>\n",
       "      <td>ADECOAGRO SA</td>\n",
       "      <td>2:1</td>\n",
       "      <td>ADGO</td>\n",
       "      <td>AGRO</td>\n",
       "      <td>8.45</td>\n",
       "      <td>8.6000</td>\n",
       "      <td>8.31</td>\n",
       "      <td>8.42</td>\n",
       "      <td>...</td>\n",
       "      <td>500.0</td>\n",
       "      <td>5150.4490</td>\n",
       "      <td>5169.4270</td>\n",
       "      <td>5555.0</td>\n",
       "      <td>-1</td>\n",
       "      <td>Pesos</td>\n",
       "      <td>5147.5</td>\n",
       "      <td>0.83</td>\n",
       "      <td>48hs</td>\n",
       "      <td>826</td>\n",
       "    </tr>\n",
       "  </tbody>\n",
       "</table>\n",
       "<p>5 rows × 37 columns</p>\n",
       "</div>"
      ],
      "text/plain": [
       "   Ratio Cedear  valor sub-yacente         Programa  de  CEDEAR  \\\n",
       "0           5.0                1.0                        3M CO   \n",
       "1           4.0                1.0          ABBOTT LABORATORIES   \n",
       "2          10.0                1.0                   ABBVIE INC   \n",
       "3           1.0                1.0  ABERCROMBIE & FITCH CO-CL A   \n",
       "4           2.0                1.0                 ADECOAGRO SA   \n",
       "\n",
       "  Ratio  Cedear  /  valor  sub-yacente ticker_arg ticker  02. open  03. high  \\\n",
       "0                                  5:1        MMM    MMM    116.83  118.0300   \n",
       "1                                  4:1        ABT    ABT    102.87  103.9200   \n",
       "2                                 10:1       ABBV   ABBV    142.15  143.6282   \n",
       "3                                  1:1        ANF    ANF     16.09   16.4600   \n",
       "4                                  2:1       ADGO   AGRO      8.45    8.6000   \n",
       "\n",
       "   04. low  05. price  ...  Precio_Compra Precio_Promedio  \\\n",
       "0   114.80     114.81  ...         6700.0       7149.9464   \n",
       "1   100.62     100.65  ...         7000.0       7829.2400   \n",
       "2   140.29     140.31  ...         4100.0       4347.2653   \n",
       "3    15.59      15.59  ...         4747.0       4838.5000   \n",
       "4     8.31       8.42  ...          500.0       5150.4490   \n",
       "\n",
       "   Precio_Promedio_Ponderado  Precio_Venta Tendencia  Tipo_Liquidacion  \\\n",
       "0                  7154.7403        7227.0        -1             Pesos   \n",
       "1                  7831.3539        7868.0        -1             Pesos   \n",
       "2                  4348.5451        5000.0         0             Pesos   \n",
       "3                  4838.5000        7408.0         0             Pesos   \n",
       "4                  5169.4270        5555.0        -1             Pesos   \n",
       "\n",
       "   Ultimo  Variacion  Vencimiento  Volumen_Nominal  \n",
       "0  7064.0      -0.48         48hs             3209  \n",
       "1  7706.5       0.46         48hs              741  \n",
       "2  4302.0       0.33         48hs              331  \n",
       "3  4838.5       1.64         48hs                1  \n",
       "4  5147.5       0.83         48hs              826  \n",
       "\n",
       "[5 rows x 37 columns]"
      ]
     },
     "execution_count": 6,
     "metadata": {},
     "output_type": "execute_result"
    }
   ],
   "source": [
    "name = df2['Ratio  Cedear  /  valor  sub-yacente'].str.split(':',expand=True)\n",
    "name.columns = ['Ratio Cedear', 'valor sub-yacente']\n",
    "print(name.dtypes)\n",
    "\n",
    "name = name.astype(float)\n",
    "print(name.dtypes)\n",
    "\n",
    "df = pd.concat([name, df2], axis=1)\n",
    "df.head(5)"
   ]
  },
  {
   "cell_type": "markdown",
   "metadata": {},
   "source": [
    "### Calculating real stocks value in Argentina with numpy"
   ]
  },
  {
   "cell_type": "code",
   "execution_count": 7,
   "metadata": {},
   "outputs": [
    {
     "data": {
      "text/html": [
       "<div>\n",
       "<style scoped>\n",
       "    .dataframe tbody tr th:only-of-type {\n",
       "        vertical-align: middle;\n",
       "    }\n",
       "\n",
       "    .dataframe tbody tr th {\n",
       "        vertical-align: top;\n",
       "    }\n",
       "\n",
       "    .dataframe thead th {\n",
       "        text-align: right;\n",
       "    }\n",
       "</style>\n",
       "<table border=\"1\" class=\"dataframe\">\n",
       "  <thead>\n",
       "    <tr style=\"text-align: right;\">\n",
       "      <th></th>\n",
       "      <th>Valor total arg</th>\n",
       "      <th>Ratio Cedear</th>\n",
       "      <th>valor sub-yacente</th>\n",
       "      <th>Programa  de  CEDEAR</th>\n",
       "      <th>Ratio  Cedear  /  valor  sub-yacente</th>\n",
       "      <th>ticker_arg</th>\n",
       "      <th>ticker</th>\n",
       "      <th>02. open</th>\n",
       "      <th>03. high</th>\n",
       "      <th>04. low</th>\n",
       "      <th>...</th>\n",
       "      <th>Precio_Compra</th>\n",
       "      <th>Precio_Promedio</th>\n",
       "      <th>Precio_Promedio_Ponderado</th>\n",
       "      <th>Precio_Venta</th>\n",
       "      <th>Tendencia</th>\n",
       "      <th>Tipo_Liquidacion</th>\n",
       "      <th>Ultimo</th>\n",
       "      <th>Variacion</th>\n",
       "      <th>Vencimiento</th>\n",
       "      <th>Volumen_Nominal</th>\n",
       "    </tr>\n",
       "  </thead>\n",
       "  <tbody>\n",
       "    <tr>\n",
       "      <th>0</th>\n",
       "      <td>35320.0</td>\n",
       "      <td>5.0</td>\n",
       "      <td>1.0</td>\n",
       "      <td>3M CO</td>\n",
       "      <td>5:1</td>\n",
       "      <td>MMM</td>\n",
       "      <td>MMM</td>\n",
       "      <td>116.83</td>\n",
       "      <td>118.0300</td>\n",
       "      <td>114.80</td>\n",
       "      <td>...</td>\n",
       "      <td>6700.0</td>\n",
       "      <td>7149.9464</td>\n",
       "      <td>7154.7403</td>\n",
       "      <td>7227.0</td>\n",
       "      <td>-1</td>\n",
       "      <td>Pesos</td>\n",
       "      <td>7064.0</td>\n",
       "      <td>-0.48</td>\n",
       "      <td>48hs</td>\n",
       "      <td>3209</td>\n",
       "    </tr>\n",
       "    <tr>\n",
       "      <th>1</th>\n",
       "      <td>30826.0</td>\n",
       "      <td>4.0</td>\n",
       "      <td>1.0</td>\n",
       "      <td>ABBOTT LABORATORIES</td>\n",
       "      <td>4:1</td>\n",
       "      <td>ABT</td>\n",
       "      <td>ABT</td>\n",
       "      <td>102.87</td>\n",
       "      <td>103.9200</td>\n",
       "      <td>100.62</td>\n",
       "      <td>...</td>\n",
       "      <td>7000.0</td>\n",
       "      <td>7829.2400</td>\n",
       "      <td>7831.3539</td>\n",
       "      <td>7868.0</td>\n",
       "      <td>-1</td>\n",
       "      <td>Pesos</td>\n",
       "      <td>7706.5</td>\n",
       "      <td>0.46</td>\n",
       "      <td>48hs</td>\n",
       "      <td>741</td>\n",
       "    </tr>\n",
       "    <tr>\n",
       "      <th>2</th>\n",
       "      <td>43020.0</td>\n",
       "      <td>10.0</td>\n",
       "      <td>1.0</td>\n",
       "      <td>ABBVIE INC</td>\n",
       "      <td>10:1</td>\n",
       "      <td>ABBV</td>\n",
       "      <td>ABBV</td>\n",
       "      <td>142.15</td>\n",
       "      <td>143.6282</td>\n",
       "      <td>140.29</td>\n",
       "      <td>...</td>\n",
       "      <td>4100.0</td>\n",
       "      <td>4347.2653</td>\n",
       "      <td>4348.5451</td>\n",
       "      <td>5000.0</td>\n",
       "      <td>0</td>\n",
       "      <td>Pesos</td>\n",
       "      <td>4302.0</td>\n",
       "      <td>0.33</td>\n",
       "      <td>48hs</td>\n",
       "      <td>331</td>\n",
       "    </tr>\n",
       "    <tr>\n",
       "      <th>3</th>\n",
       "      <td>4838.5</td>\n",
       "      <td>1.0</td>\n",
       "      <td>1.0</td>\n",
       "      <td>ABERCROMBIE &amp; FITCH CO-CL A</td>\n",
       "      <td>1:1</td>\n",
       "      <td>ANF</td>\n",
       "      <td>ANF</td>\n",
       "      <td>16.09</td>\n",
       "      <td>16.4600</td>\n",
       "      <td>15.59</td>\n",
       "      <td>...</td>\n",
       "      <td>4747.0</td>\n",
       "      <td>4838.5000</td>\n",
       "      <td>4838.5000</td>\n",
       "      <td>7408.0</td>\n",
       "      <td>0</td>\n",
       "      <td>Pesos</td>\n",
       "      <td>4838.5</td>\n",
       "      <td>1.64</td>\n",
       "      <td>48hs</td>\n",
       "      <td>1</td>\n",
       "    </tr>\n",
       "    <tr>\n",
       "      <th>4</th>\n",
       "      <td>10295.0</td>\n",
       "      <td>2.0</td>\n",
       "      <td>1.0</td>\n",
       "      <td>ADECOAGRO SA</td>\n",
       "      <td>2:1</td>\n",
       "      <td>ADGO</td>\n",
       "      <td>AGRO</td>\n",
       "      <td>8.45</td>\n",
       "      <td>8.6000</td>\n",
       "      <td>8.31</td>\n",
       "      <td>...</td>\n",
       "      <td>500.0</td>\n",
       "      <td>5150.4490</td>\n",
       "      <td>5169.4270</td>\n",
       "      <td>5555.0</td>\n",
       "      <td>-1</td>\n",
       "      <td>Pesos</td>\n",
       "      <td>5147.5</td>\n",
       "      <td>0.83</td>\n",
       "      <td>48hs</td>\n",
       "      <td>826</td>\n",
       "    </tr>\n",
       "  </tbody>\n",
       "</table>\n",
       "<p>5 rows × 38 columns</p>\n",
       "</div>"
      ],
      "text/plain": [
       "   Valor total arg  Ratio Cedear  valor sub-yacente  \\\n",
       "0          35320.0           5.0                1.0   \n",
       "1          30826.0           4.0                1.0   \n",
       "2          43020.0          10.0                1.0   \n",
       "3           4838.5           1.0                1.0   \n",
       "4          10295.0           2.0                1.0   \n",
       "\n",
       "          Programa  de  CEDEAR Ratio  Cedear  /  valor  sub-yacente  \\\n",
       "0                        3M CO                                  5:1   \n",
       "1          ABBOTT LABORATORIES                                  4:1   \n",
       "2                   ABBVIE INC                                 10:1   \n",
       "3  ABERCROMBIE & FITCH CO-CL A                                  1:1   \n",
       "4                 ADECOAGRO SA                                  2:1   \n",
       "\n",
       "  ticker_arg ticker  02. open  03. high  04. low  ...  Precio_Compra  \\\n",
       "0        MMM    MMM    116.83  118.0300   114.80  ...         6700.0   \n",
       "1        ABT    ABT    102.87  103.9200   100.62  ...         7000.0   \n",
       "2       ABBV   ABBV    142.15  143.6282   140.29  ...         4100.0   \n",
       "3        ANF    ANF     16.09   16.4600    15.59  ...         4747.0   \n",
       "4       ADGO   AGRO      8.45    8.6000     8.31  ...          500.0   \n",
       "\n",
       "   Precio_Promedio Precio_Promedio_Ponderado  Precio_Venta  Tendencia  \\\n",
       "0        7149.9464                 7154.7403        7227.0         -1   \n",
       "1        7829.2400                 7831.3539        7868.0         -1   \n",
       "2        4347.2653                 4348.5451        5000.0          0   \n",
       "3        4838.5000                 4838.5000        7408.0          0   \n",
       "4        5150.4490                 5169.4270        5555.0         -1   \n",
       "\n",
       "  Tipo_Liquidacion  Ultimo  Variacion  Vencimiento  Volumen_Nominal  \n",
       "0            Pesos  7064.0      -0.48         48hs             3209  \n",
       "1            Pesos  7706.5       0.46         48hs              741  \n",
       "2            Pesos  4302.0       0.33         48hs              331  \n",
       "3            Pesos  4838.5       1.64         48hs                1  \n",
       "4            Pesos  5147.5       0.83         48hs              826  \n",
       "\n",
       "[5 rows x 38 columns]"
      ]
     },
     "execution_count": 7,
     "metadata": {},
     "output_type": "execute_result"
    }
   ],
   "source": [
    "import numpy as np\n",
    "\n",
    "last_price_arg = np.array(df[['Ultimo']])\n",
    "ratio_value = np.array(df[['Ratio Cedear']])\n",
    "\n",
    "total_price_arg = last_price_arg * ratio_value\n",
    "df.insert(0, 'Valor total arg', total_price_arg)\n",
    "\n",
    "df.head(5)"
   ]
  },
  {
   "cell_type": "markdown",
   "metadata": {},
   "source": [
    "### Calculating dollar price in Argentina with shares"
   ]
  },
  {
   "cell_type": "code",
   "execution_count": 8,
   "metadata": {},
   "outputs": [
    {
     "data": {
      "text/html": [
       "<div>\n",
       "<style scoped>\n",
       "    .dataframe tbody tr th:only-of-type {\n",
       "        vertical-align: middle;\n",
       "    }\n",
       "\n",
       "    .dataframe tbody tr th {\n",
       "        vertical-align: top;\n",
       "    }\n",
       "\n",
       "    .dataframe thead th {\n",
       "        text-align: right;\n",
       "    }\n",
       "</style>\n",
       "<table border=\"1\" class=\"dataframe\">\n",
       "  <thead>\n",
       "    <tr style=\"text-align: right;\">\n",
       "      <th></th>\n",
       "      <th>dolar_ccl</th>\n",
       "      <th>Valor total arg</th>\n",
       "      <th>Ratio Cedear</th>\n",
       "      <th>valor sub-yacente</th>\n",
       "      <th>Programa  de  CEDEAR</th>\n",
       "      <th>Ratio  Cedear  /  valor  sub-yacente</th>\n",
       "      <th>ticker_arg</th>\n",
       "      <th>ticker</th>\n",
       "      <th>02. open</th>\n",
       "      <th>03. high</th>\n",
       "      <th>...</th>\n",
       "      <th>Precio_Compra</th>\n",
       "      <th>Precio_Promedio</th>\n",
       "      <th>Precio_Promedio_Ponderado</th>\n",
       "      <th>Precio_Venta</th>\n",
       "      <th>Tendencia</th>\n",
       "      <th>Tipo_Liquidacion</th>\n",
       "      <th>Ultimo</th>\n",
       "      <th>Variacion</th>\n",
       "      <th>Vencimiento</th>\n",
       "      <th>Volumen_Nominal</th>\n",
       "    </tr>\n",
       "  </thead>\n",
       "  <tbody>\n",
       "    <tr>\n",
       "      <th>0</th>\n",
       "      <td>307.638707</td>\n",
       "      <td>35320.0</td>\n",
       "      <td>5.0</td>\n",
       "      <td>1.0</td>\n",
       "      <td>3M CO</td>\n",
       "      <td>5:1</td>\n",
       "      <td>MMM</td>\n",
       "      <td>MMM</td>\n",
       "      <td>116.83</td>\n",
       "      <td>118.0300</td>\n",
       "      <td>...</td>\n",
       "      <td>6700.0</td>\n",
       "      <td>7149.9464</td>\n",
       "      <td>7154.7403</td>\n",
       "      <td>7227.0</td>\n",
       "      <td>-1</td>\n",
       "      <td>Pesos</td>\n",
       "      <td>7064.0</td>\n",
       "      <td>-0.48</td>\n",
       "      <td>48hs</td>\n",
       "      <td>3209</td>\n",
       "    </tr>\n",
       "    <tr>\n",
       "      <th>1</th>\n",
       "      <td>306.269250</td>\n",
       "      <td>30826.0</td>\n",
       "      <td>4.0</td>\n",
       "      <td>1.0</td>\n",
       "      <td>ABBOTT LABORATORIES</td>\n",
       "      <td>4:1</td>\n",
       "      <td>ABT</td>\n",
       "      <td>ABT</td>\n",
       "      <td>102.87</td>\n",
       "      <td>103.9200</td>\n",
       "      <td>...</td>\n",
       "      <td>7000.0</td>\n",
       "      <td>7829.2400</td>\n",
       "      <td>7831.3539</td>\n",
       "      <td>7868.0</td>\n",
       "      <td>-1</td>\n",
       "      <td>Pesos</td>\n",
       "      <td>7706.5</td>\n",
       "      <td>0.46</td>\n",
       "      <td>48hs</td>\n",
       "      <td>741</td>\n",
       "    </tr>\n",
       "    <tr>\n",
       "      <th>2</th>\n",
       "      <td>306.606799</td>\n",
       "      <td>43020.0</td>\n",
       "      <td>10.0</td>\n",
       "      <td>1.0</td>\n",
       "      <td>ABBVIE INC</td>\n",
       "      <td>10:1</td>\n",
       "      <td>ABBV</td>\n",
       "      <td>ABBV</td>\n",
       "      <td>142.15</td>\n",
       "      <td>143.6282</td>\n",
       "      <td>...</td>\n",
       "      <td>4100.0</td>\n",
       "      <td>4347.2653</td>\n",
       "      <td>4348.5451</td>\n",
       "      <td>5000.0</td>\n",
       "      <td>0</td>\n",
       "      <td>Pesos</td>\n",
       "      <td>4302.0</td>\n",
       "      <td>0.33</td>\n",
       "      <td>48hs</td>\n",
       "      <td>331</td>\n",
       "    </tr>\n",
       "    <tr>\n",
       "      <th>3</th>\n",
       "      <td>310.359205</td>\n",
       "      <td>4838.5</td>\n",
       "      <td>1.0</td>\n",
       "      <td>1.0</td>\n",
       "      <td>ABERCROMBIE &amp; FITCH CO-CL A</td>\n",
       "      <td>1:1</td>\n",
       "      <td>ANF</td>\n",
       "      <td>ANF</td>\n",
       "      <td>16.09</td>\n",
       "      <td>16.4600</td>\n",
       "      <td>...</td>\n",
       "      <td>4747.0</td>\n",
       "      <td>4838.5000</td>\n",
       "      <td>4838.5000</td>\n",
       "      <td>7408.0</td>\n",
       "      <td>0</td>\n",
       "      <td>Pesos</td>\n",
       "      <td>4838.5</td>\n",
       "      <td>1.64</td>\n",
       "      <td>48hs</td>\n",
       "      <td>1</td>\n",
       "    </tr>\n",
       "    <tr>\n",
       "      <th>4</th>\n",
       "      <td>1222.684086</td>\n",
       "      <td>10295.0</td>\n",
       "      <td>2.0</td>\n",
       "      <td>1.0</td>\n",
       "      <td>ADECOAGRO SA</td>\n",
       "      <td>2:1</td>\n",
       "      <td>ADGO</td>\n",
       "      <td>AGRO</td>\n",
       "      <td>8.45</td>\n",
       "      <td>8.6000</td>\n",
       "      <td>...</td>\n",
       "      <td>500.0</td>\n",
       "      <td>5150.4490</td>\n",
       "      <td>5169.4270</td>\n",
       "      <td>5555.0</td>\n",
       "      <td>-1</td>\n",
       "      <td>Pesos</td>\n",
       "      <td>5147.5</td>\n",
       "      <td>0.83</td>\n",
       "      <td>48hs</td>\n",
       "      <td>826</td>\n",
       "    </tr>\n",
       "  </tbody>\n",
       "</table>\n",
       "<p>5 rows × 39 columns</p>\n",
       "</div>"
      ],
      "text/plain": [
       "     dolar_ccl  Valor total arg  Ratio Cedear  valor sub-yacente  \\\n",
       "0   307.638707          35320.0           5.0                1.0   \n",
       "1   306.269250          30826.0           4.0                1.0   \n",
       "2   306.606799          43020.0          10.0                1.0   \n",
       "3   310.359205           4838.5           1.0                1.0   \n",
       "4  1222.684086          10295.0           2.0                1.0   \n",
       "\n",
       "          Programa  de  CEDEAR Ratio  Cedear  /  valor  sub-yacente  \\\n",
       "0                        3M CO                                  5:1   \n",
       "1          ABBOTT LABORATORIES                                  4:1   \n",
       "2                   ABBVIE INC                                 10:1   \n",
       "3  ABERCROMBIE & FITCH CO-CL A                                  1:1   \n",
       "4                 ADECOAGRO SA                                  2:1   \n",
       "\n",
       "  ticker_arg ticker  02. open  03. high  ...  Precio_Compra  Precio_Promedio  \\\n",
       "0        MMM    MMM    116.83  118.0300  ...         6700.0        7149.9464   \n",
       "1        ABT    ABT    102.87  103.9200  ...         7000.0        7829.2400   \n",
       "2       ABBV   ABBV    142.15  143.6282  ...         4100.0        4347.2653   \n",
       "3        ANF    ANF     16.09   16.4600  ...         4747.0        4838.5000   \n",
       "4       ADGO   AGRO      8.45    8.6000  ...          500.0        5150.4490   \n",
       "\n",
       "   Precio_Promedio_Ponderado Precio_Venta  Tendencia  Tipo_Liquidacion  \\\n",
       "0                  7154.7403       7227.0         -1             Pesos   \n",
       "1                  7831.3539       7868.0         -1             Pesos   \n",
       "2                  4348.5451       5000.0          0             Pesos   \n",
       "3                  4838.5000       7408.0          0             Pesos   \n",
       "4                  5169.4270       5555.0         -1             Pesos   \n",
       "\n",
       "   Ultimo  Variacion  Vencimiento  Volumen_Nominal  \n",
       "0  7064.0      -0.48         48hs             3209  \n",
       "1  7706.5       0.46         48hs              741  \n",
       "2  4302.0       0.33         48hs              331  \n",
       "3  4838.5       1.64         48hs                1  \n",
       "4  5147.5       0.83         48hs              826  \n",
       "\n",
       "[5 rows x 39 columns]"
      ]
     },
     "execution_count": 8,
     "metadata": {},
     "output_type": "execute_result"
    }
   ],
   "source": [
    "a = np.array(df[['Valor total arg']])\n",
    "stock_price = np.array(df[['05. price']])\n",
    "\n",
    "ccl_price = a / stock_price\n",
    "\n",
    "df.insert(0, 'dolar_ccl', ccl_price)\n",
    "\n",
    "df.head(5)"
   ]
  },
  {
   "cell_type": "markdown",
   "metadata": {},
   "source": [
    "### Preparing dataframe for graphs"
   ]
  },
  {
   "cell_type": "code",
   "execution_count": 36,
   "metadata": {},
   "outputs": [
    {
     "name": "stdout",
     "output_type": "stream",
     "text": [
      "  ticker    dolar_ccl\n",
      "0    MMM   307.638707\n",
      "1    ABT   306.269250\n",
      "2   ABBV   306.606799\n",
      "3    ANF   310.359205\n",
      "4   AGRO  1222.684086\n"
     ]
    },
    {
     "data": {
      "text/plain": [
       "<AxesSubplot:xlabel='dolar_ccl', ylabel='ticker'>"
      ]
     },
     "execution_count": 36,
     "metadata": {},
     "output_type": "execute_result"
    },
    {
     "data": {
      "image/png": "[encoded data removed]",
      "text/plain": [
       "<Figure size 432x288 with 1 Axes>"
      ]
     },
     "metadata": {
      "needs_background": "light"
     },
     "output_type": "display_data"
    }
   ],
   "source": [
    "dfccl = df[['ticker', 'dolar_ccl']]\n",
    "print(dfccl.head(5))\n",
    "\n",
    "dfccl.plot.scatter('dolar_ccl', 'ticker')"
   ]
  },
  {
   "cell_type": "markdown",
   "metadata": {},
   "source": [
    "### Removing out of range values"
   ]
  },
  {
   "cell_type": "code",
   "execution_count": 44,
   "metadata": {},
   "outputs": [
    {
     "name": "stdout",
     "output_type": "stream",
     "text": [
      "\n",
      "    Mean: 501\n",
      "    Median: 307\n",
      "    Mode: 0\n",
      "\n",
      "    ticker   dolar_ccl\n",
      "12   ACHHY  279.184783\n",
      "9     BABA  292.185315\n",
      "88    GPRK  300.988924\n",
      "175     SE  303.506311\n",
      "217     WB  303.844100\n",
      "222     ZM  304.194101\n",
      "130    LYG  304.265403\n",
      "72    EBAY  304.341125\n",
      "68     DEO  304.911795\n",
      "125    KGC  304.943503\n"
     ]
    },
    {
     "data": {
      "text/plain": [
       "<AxesSubplot:xlabel='dolar_ccl', ylabel='ticker'>"
      ]
     },
     "execution_count": 44,
     "metadata": {},
     "output_type": "execute_result"
    },
    {
     "data": {
      "image/png": "[encoded data removed]",
      "text/plain": [
       "<Figure size 432x288 with 1 Axes>"
      ]
     },
     "metadata": {
      "needs_background": "light"
     },
     "output_type": "display_data"
    }
   ],
   "source": [
    "prom = dfccl['dolar_ccl'].mean()\n",
    "media = dfccl['dolar_ccl'].median()\n",
    "moda = dfccl['dolar_ccl'].mode()\n",
    "print(\"\"\"\n",
    "    Mean: %d\n",
    "    Median: %d\n",
    "    Mode: %d\n",
    "\"\"\" % (prom,media,moda))\n",
    "\n",
    "dfccl_f = dfccl[(dfccl['dolar_ccl']>media*0.5) & (dfccl['dolar_ccl']<media*1.5)].sort_values(by=['dolar_ccl'])\n",
    "print(dfccl_f.head(10))\n",
    "\n",
    "dfccl_f.plot.scatter('dolar_ccl', 'ticker')"
   ]
  },
  {
   "cell_type": "markdown",
   "metadata": {},
   "source": [
    "### Interactive graph with dollar price for each Cedear"
   ]
  },
  {
   "cell_type": "code",
   "execution_count": 43,
   "metadata": {},
   "outputs": [
    {
     "data": {
      "application/vnd.plotly.v1+json": {
       "config": {
        "plotlyServerURL": "https://plot.ly"
       },
       "data": [
        {
         "hovertemplate": "dolar_ccl=%{x}<br>ticker=%{y}<extra></extra>",
         "legendgroup": "",
         "line": {
          "color": "#636efa",
          "dash": "solid"
         },
         "marker": {
          "symbol": "circle"
         },
         "mode": "lines",
         "name": "",
         "orientation": "h",
         "showlegend": false,
         "type": "scatter",
         "x": [
          279.1847826086957,
          292.1853146853147,
          300.9889240506329,
          303.5063113604488,
          303.844100373732,
          304.19410060574137,
          304.2654028436019,
          304.3411250963267,
          304.9117952265652,
          304.94350282485874,
          304.9635036496351,
          305.2730894223713,
          305.5045871559633,
          305.5880787653007,
          305.77241542465106,
          305.85164835164835,
          305.93597154290796,
          305.9923501912452,
          306.0218553824692,
          306.0312732688012,
          306.08913998744504,
          306.12581407889826,
          306.1556603773585,
          306.19647355163727,
          306.26924987580725,
          306.3621395702284,
          306.36532684880564,
          306.41585488747063,
          306.56416321703136,
          306.5723793677205,
          306.6037735849057,
          306.60679923027584,
          306.6511513963743,
          306.71108995716327,
          306.7461471357953,
          306.7666870789957,
          306.88524590163934,
          306.8927304964539,
          306.92957746478874,
          306.9392230576441,
          306.95900857959964,
          306.9672131147541,
          306.97449617247304,
          306.9971484974775,
          306.9997008674843,
          307.00685453160696,
          307.0153846153846,
          307.04208221843834,
          307.04951551249,
          307.0670391061453,
          307.1004229836985,
          307.1187077385424,
          307.1559175531915,
          307.1677673072642,
          307.18325791855204,
          307.2,
          307.2144158209732,
          307.2166503280295,
          307.2429906542056,
          307.24887200189977,
          307.2501390691637,
          307.3239758726166,
          307.3280331835465,
          307.3311611374408,
          307.373572593801,
          307.37812911725956,
          307.4084750648602,
          307.4358974358974,
          307.43621307072516,
          307.43861338468946,
          307.44153082919917,
          307.4486112134385,
          307.449494949495,
          307.46087425796003,
          307.46456692913387,
          307.4766355140187,
          307.484076433121,
          307.4898785425101,
          307.5235766678309,
          307.52669039145906,
          307.5301642680622,
          307.53159659530564,
          307.58969641214355,
          307.59259259259255,
          307.59305851235405,
          307.6387074296664,
          307.6433121019108,
          307.70234986945167,
          307.7178729689808,
          307.72200772200773,
          307.7290836653387,
          307.765237020316,
          307.77756545002865,
          307.7782695286568,
          307.7850499483293,
          307.7962285392626,
          307.81389420012744,
          307.82029950083194,
          307.8591895210806,
          307.8767123287671,
          307.89473684210526,
          307.9062424095215,
          307.9336885731202,
          307.93928779918275,
          307.9655886570017,
          308.0040526849038,
          308.0502215657312,
          308.083518021696,
          308.0941074897475,
          308.10837438423647,
          308.1172591998574,
          308.147797252487,
          308.148861084376,
          308.1792651532881,
          308.20418786229743,
          308.2049536130735,
          308.21638750565864,
          308.2259663032706,
          308.22998872604285,
          308.2326102617466,
          308.2682291666667,
          308.3518257010288,
          308.3948015454865,
          308.3955614488101,
          308.39890665120515,
          308.4002006018054,
          308.4118016321406,
          308.4230769230769,
          308.4275066121664,
          308.4375,
          308.46456692913387,
          308.47780338711294,
          308.51364063969896,
          308.5199344620426,
          308.5355648535565,
          308.5776593166949,
          308.5907869057702,
          308.61678004535145,
          308.65168539325845,
          308.6542359140657,
          308.65623889086385,
          308.6908754481323,
          308.7188431662847,
          308.73197903014415,
          308.78466969238525,
          308.78859857482183,
          308.8697647733792,
          309.0356739866331,
          309.0439276485788,
          309.1016548463357,
          309.103840682788,
          309.16146448456215,
          309.1772151898734,
          309.23605497170576,
          309.23694779116465,
          309.3087557603687,
          309.34195064629847,
          309.38816575488903,
          309.3890274314214,
          309.4,
          309.44625407166126,
          309.5014992503748,
          309.6170212765958,
          309.6746328822344,
          310.01596700153016,
          310.15026065624045,
          310.16681299385425,
          310.32702237521517,
          310.3286384976526,
          310.3592046183451,
          310.36414565826334,
          310.52521008403363,
          310.85772634445203,
          311.05173061667574,
          311.07491856677524,
          311.1111111111111,
          311.1918604651163,
          311.22194513715715,
          311.2903225806452,
          311.81938911022576,
          312.08491461100573,
          312.20631169192274,
          312.22222222222223,
          312.3670212765958,
          312.4952380952381,
          312.91722296395193,
          313.03300892946726,
          313.5407905803196,
          313.5556567266105,
          314.35836075381394,
          314.63707258548294,
          314.8809523809524
         ],
         "xaxis": "x",
         "y": [
          "ACHHY",
          "BABA",
          "GPRK",
          "SE",
          "WB",
          "ZM",
          "LYG",
          "EBAY",
          "DEO",
          "KGC",
          "DESP",
          "SPOT",
          "BB",
          "SLB",
          "WFC",
          "TWLO",
          "DOW",
          "TRIP",
          "MO",
          "PBR",
          "TMO",
          "AVGO",
          "NEM",
          "X",
          "ABT",
          "NFLX",
          "SONY",
          "GSK",
          "COIN",
          "BSBR",
          "ORAN",
          "ABBV",
          "JNJ",
          "LMT",
          "CAT",
          "TXN",
          "NIO",
          "IBN",
          "MELI",
          "HDB",
          "ERJ",
          "PFE",
          "UNH",
          "PYPL",
          "WBA",
          "VALE",
          "T",
          "AEM",
          "JPM",
          "BG",
          "GLOB",
          "TS",
          "TSLA",
          "WMT",
          "AMX",
          "MUFG",
          "AAPL",
          "NVDA",
          "AUY",
          "PEP",
          "JD",
          "DE",
          "TX",
          "CAH",
          "FDX",
          "GOLD",
          "ETSY",
          "DOCU",
          "SNOW",
          "QCOM",
          "AZN",
          "PG",
          "KO",
          "LLY",
          "GILD",
          "XOM",
          "GM",
          "XP",
          "ADBE",
          "FCX",
          "TM",
          "NVS",
          "BIDU",
          "ITUB",
          "CVX",
          "MMM",
          "UL",
          "BBD",
          "HAL",
          "CRM",
          "ROST",
          "SBUX",
          "SHEL",
          "FSLR",
          "AMAT",
          "META",
          "SYY",
          "NTCO",
          "TCOM",
          "GOOGL",
          "PKX",
          "SAP",
          "YELP",
          "IP",
          "MCD",
          "VZ",
          "HSY",
          "MDT",
          "C",
          "MA",
          "AMGN",
          "FMX",
          "V",
          "PCAR",
          "MRK",
          "EA",
          "VRSN",
          "UNP",
          "RIO",
          "IBM",
          "MMC",
          "AXP",
          "INTC",
          "BA",
          "KMB",
          "NTES",
          "MSFT",
          "HPQ",
          "CSCO",
          "PAAS",
          "UGP",
          "NKE",
          "DD",
          "LVS",
          "TTE",
          "TWTR",
          "HD",
          "AAL",
          "ORCL",
          "GS",
          "GRMN",
          "AVY",
          "COST",
          "BP",
          "IFF",
          "PHG",
          "HON",
          "ADP",
          "PSX",
          "BK",
          "KEP",
          "AMZN",
          "ING",
          "ADI",
          "AIG",
          "SNAP",
          "INFY",
          "TGT",
          "HOG",
          "CS",
          "CDE",
          "YY",
          "SHOP",
          "BMY",
          "CAR",
          "GE",
          "LRCX",
          "TV",
          "HMY",
          "ANF",
          "TEF",
          "HMC",
          "NGG",
          "MSI",
          "VOD",
          "CX",
          "NMR",
          "HL",
          "PBI",
          "BCS",
          "RTX",
          "SNA",
          "NOK",
          "GFI",
          "TTM",
          "CL",
          "BIIB",
          "SQ",
          "USB",
          "HWM",
          "BHP",
          "SCCO"
         ],
         "yaxis": "y"
        }
       ],
       "layout": {
        "legend": {
         "tracegroupgap": 0
        },
        "margin": {
         "t": 60
        },
        "template": {
         "data": {
          "bar": [
           {
            "error_x": {
             "color": "#2a3f5f"
            },
            "error_y": {
             "color": "#2a3f5f"
            },
            "marker": {
             "line": {
              "color": "#E5ECF6",
              "width": 0.5
             },
             "pattern": {
              "fillmode": "overlay",
              "size": 10,
              "solidity": 0.2
             }
            },
            "type": "bar"
           }
          ],
          "barpolar": [
           {
            "marker": {
             "line": {
              "color": "#E5ECF6",
              "width": 0.5
             },
             "pattern": {
              "fillmode": "overlay",
              "size": 10,
              "solidity": 0.2
             }
            },
            "type": "barpolar"
           }
          ],
          "carpet": [
           {
            "aaxis": {
             "endlinecolor": "#2a3f5f",
             "gridcolor": "white",
             "linecolor": "white",
             "minorgridcolor": "white",
             "startlinecolor": "#2a3f5f"
            },
            "baxis": {
             "endlinecolor": "#2a3f5f",
             "gridcolor": "white",
             "linecolor": "white",
             "minorgridcolor": "white",
             "startlinecolor": "#2a3f5f"
            },
            "type": "carpet"
           }
          ],
          "choropleth": [
           {
            "colorbar": {
             "outlinewidth": 0,
             "ticks": ""
            },
            "type": "choropleth"
           }
          ],
          "contour": [
           {
            "colorbar": {
             "outlinewidth": 0,
             "ticks": ""
            },
            "colorscale": [
             [
              0,
              "#0d0887"
             ],
             [
              0.1111111111111111,
              "#46039f"
             ],
             [
              0.2222222222222222,
              "#7201a8"
             ],
             [
              0.3333333333333333,
              "#9c179e"
             ],
             [
              0.4444444444444444,
              "#bd3786"
             ],
             [
              0.5555555555555556,
              "#d8576b"
             ],
             [
              0.6666666666666666,
              "#ed7953"
             ],
             [
              0.7777777777777778,
              "#fb9f3a"
             ],
             [
              0.8888888888888888,
              "#fdca26"
             ],
             [
              1,
              "#f0f921"
             ]
            ],
            "type": "contour"
           }
          ],
          "contourcarpet": [
           {
            "colorbar": {
             "outlinewidth": 0,
             "ticks": ""
            },
            "type": "contourcarpet"
           }
          ],
          "heatmap": [
           {
            "colorbar": {
             "outlinewidth": 0,
             "ticks": ""
            },
            "colorscale": [
             [
              0,
              "#0d0887"
             ],
             [
              0.1111111111111111,
              "#46039f"
             ],
             [
              0.2222222222222222,
              "#7201a8"
             ],
             [
              0.3333333333333333,
              "#9c179e"
             ],
             [
              0.4444444444444444,
              "#bd3786"
             ],
             [
              0.5555555555555556,
              "#d8576b"
             ],
             [
              0.6666666666666666,
              "#ed7953"
             ],
             [
              0.7777777777777778,
              "#fb9f3a"
             ],
             [
              0.8888888888888888,
              "#fdca26"
             ],
             [
              1,
              "#f0f921"
             ]
            ],
            "type": "heatmap"
           }
          ],
          "heatmapgl": [
           {
            "colorbar": {
             "outlinewidth": 0,
             "ticks": ""
            },
            "colorscale": [
             [
              0,
              "#0d0887"
             ],
             [
              0.1111111111111111,
              "#46039f"
             ],
             [
              0.2222222222222222,
              "#7201a8"
             ],
             [
              0.3333333333333333,
              "#9c179e"
             ],
             [
              0.4444444444444444,
              "#bd3786"
             ],
             [
              0.5555555555555556,
              "#d8576b"
             ],
             [
              0.6666666666666666,
              "#ed7953"
             ],
             [
              0.7777777777777778,
              "#fb9f3a"
             ],
             [
              0.8888888888888888,
              "#fdca26"
             ],
             [
              1,
              "#f0f921"
             ]
            ],
            "type": "heatmapgl"
           }
          ],
          "histogram": [
           {
            "marker": {
             "pattern": {
              "fillmode": "overlay",
              "size": 10,
              "solidity": 0.2
             }
            },
            "type": "histogram"
           }
          ],
          "histogram2d": [
           {
            "colorbar": {
             "outlinewidth": 0,
             "ticks": ""
            },
            "colorscale": [
             [
              0,
              "#0d0887"
             ],
             [
              0.1111111111111111,
              "#46039f"
             ],
             [
              0.2222222222222222,
              "#7201a8"
             ],
             [
              0.3333333333333333,
              "#9c179e"
             ],
             [
              0.4444444444444444,
              "#bd3786"
             ],
             [
              0.5555555555555556,
              "#d8576b"
             ],
             [
              0.6666666666666666,
              "#ed7953"
             ],
             [
              0.7777777777777778,
              "#fb9f3a"
             ],
             [
              0.8888888888888888,
              "#fdca26"
             ],
             [
              1,
              "#f0f921"
             ]
            ],
            "type": "histogram2d"
           }
          ],
          "histogram2dcontour": [
           {
            "colorbar": {
             "outlinewidth": 0,
             "ticks": ""
            },
            "colorscale": [
             [
              0,
              "#0d0887"
             ],
             [
              0.1111111111111111,
              "#46039f"
             ],
             [
              0.2222222222222222,
              "#7201a8"
             ],
             [
              0.3333333333333333,
              "#9c179e"
             ],
             [
              0.4444444444444444,
              "#bd3786"
             ],
             [
              0.5555555555555556,
              "#d8576b"
             ],
             [
              0.6666666666666666,
              "#ed7953"
             ],
             [
              0.7777777777777778,
              "#fb9f3a"
             ],
             [
              0.8888888888888888,
              "#fdca26"
             ],
             [
              1,
              "#f0f921"
             ]
            ],
            "type": "histogram2dcontour"
           }
          ],
          "mesh3d": [
           {
            "colorbar": {
             "outlinewidth": 0,
             "ticks": ""
            },
            "type": "mesh3d"
           }
          ],
          "parcoords": [
           {
            "line": {
             "colorbar": {
              "outlinewidth": 0,
              "ticks": ""
             }
            },
            "type": "parcoords"
           }
          ],
          "pie": [
           {
            "automargin": true,
            "type": "pie"
           }
          ],
          "scatter": [
           {
            "fillpattern": {
             "fillmode": "overlay",
             "size": 10,
             "solidity": 0.2
            },
            "type": "scatter"
           }
          ],
          "scatter3d": [
           {
            "line": {
             "colorbar": {
              "outlinewidth": 0,
              "ticks": ""
             }
            },
            "marker": {
             "colorbar": {
              "outlinewidth": 0,
              "ticks": ""
             }
            },
            "type": "scatter3d"
           }
          ],
          "scattercarpet": [
           {
            "marker": {
             "colorbar": {
              "outlinewidth": 0,
              "ticks": ""
             }
            },
            "type": "scattercarpet"
           }
          ],
          "scattergeo": [
           {
            "marker": {
             "colorbar": {
              "outlinewidth": 0,
              "ticks": ""
             }
            },
            "type": "scattergeo"
           }
          ],
          "scattergl": [
           {
            "marker": {
             "colorbar": {
              "outlinewidth": 0,
              "ticks": ""
             }
            },
            "type": "scattergl"
           }
          ],
          "scattermapbox": [
           {
            "marker": {
             "colorbar": {
              "outlinewidth": 0,
              "ticks": ""
             }
            },
            "type": "scattermapbox"
           }
          ],
          "scatterpolar": [
           {
            "marker": {
             "colorbar": {
              "outlinewidth": 0,
              "ticks": ""
             }
            },
            "type": "scatterpolar"
           }
          ],
          "scatterpolargl": [
           {
            "marker": {
             "colorbar": {
              "outlinewidth": 0,
              "ticks": ""
             }
            },
            "type": "scatterpolargl"
           }
          ],
          "scatterternary": [
           {
            "marker": {
             "colorbar": {
              "outlinewidth": 0,
              "ticks": ""
             }
            },
            "type": "scatterternary"
           }
          ],
          "surface": [
           {
            "colorbar": {
             "outlinewidth": 0,
             "ticks": ""
            },
            "colorscale": [
             [
              0,
              "#0d0887"
             ],
             [
              0.1111111111111111,
              "#46039f"
             ],
             [
              0.2222222222222222,
              "#7201a8"
             ],
             [
              0.3333333333333333,
              "#9c179e"
             ],
             [
              0.4444444444444444,
              "#bd3786"
             ],
             [
              0.5555555555555556,
              "#d8576b"
             ],
             [
              0.6666666666666666,
              "#ed7953"
             ],
             [
              0.7777777777777778,
              "#fb9f3a"
             ],
             [
              0.8888888888888888,
              "#fdca26"
             ],
             [
              1,
              "#f0f921"
             ]
            ],
            "type": "surface"
           }
          ],
          "table": [
           {
            "cells": {
             "fill": {
              "color": "#EBF0F8"
             },
             "line": {
              "color": "white"
             }
            },
            "header": {
             "fill": {
              "color": "#C8D4E3"
             },
             "line": {
              "color": "white"
             }
            },
            "type": "table"
           }
          ]
         },
         "layout": {
          "annotationdefaults": {
           "arrowcolor": "#2a3f5f",
           "arrowhead": 0,
           "arrowwidth": 1
          },
          "autotypenumbers": "strict",
          "coloraxis": {
           "colorbar": {
            "outlinewidth": 0,
            "ticks": ""
           }
          },
          "colorscale": {
           "diverging": [
            [
             0,
             "#8e0152"
            ],
            [
             0.1,
             "#c51b7d"
            ],
            [
             0.2,
             "#de77ae"
            ],
            [
             0.3,
             "#f1b6da"
            ],
            [
             0.4,
             "#fde0ef"
            ],
            [
             0.5,
             "#f7f7f7"
            ],
            [
             0.6,
             "#e6f5d0"
            ],
            [
             0.7,
             "#b8e186"
            ],
            [
             0.8,
             "#7fbc41"
            ],
            [
             0.9,
             "#4d9221"
            ],
            [
             1,
             "#276419"
            ]
           ],
           "sequential": [
            [
             0,
             "#0d0887"
            ],
            [
             0.1111111111111111,
             "#46039f"
            ],
            [
             0.2222222222222222,
             "#7201a8"
            ],
            [
             0.3333333333333333,
             "#9c179e"
            ],
            [
             0.4444444444444444,
             "#bd3786"
            ],
            [
             0.5555555555555556,
             "#d8576b"
            ],
            [
             0.6666666666666666,
             "#ed7953"
            ],
            [
             0.7777777777777778,
             "#fb9f3a"
            ],
            [
             0.8888888888888888,
             "#fdca26"
            ],
            [
             1,
             "#f0f921"
            ]
           ],
           "sequentialminus": [
            [
             0,
             "#0d0887"
            ],
            [
             0.1111111111111111,
             "#46039f"
            ],
            [
             0.2222222222222222,
             "#7201a8"
            ],
            [
             0.3333333333333333,
             "#9c179e"
            ],
            [
             0.4444444444444444,
             "#bd3786"
            ],
            [
             0.5555555555555556,
             "#d8576b"
            ],
            [
             0.6666666666666666,
             "#ed7953"
            ],
            [
             0.7777777777777778,
             "#fb9f3a"
            ],
            [
             0.8888888888888888,
             "#fdca26"
            ],
            [
             1,
             "#f0f921"
            ]
           ]
          },
          "colorway": [
           "#636efa",
           "#EF553B",
           "#00cc96",
           "#ab63fa",
           "#FFA15A",
           "#19d3f3",
           "#FF6692",
           "#B6E880",
           "#FF97FF",
           "#FECB52"
          ],
          "font": {
           "color": "#2a3f5f"
          },
          "geo": {
           "bgcolor": "white",
           "lakecolor": "white",
           "landcolor": "#E5ECF6",
           "showlakes": true,
           "showland": true,
           "subunitcolor": "white"
          },
          "hoverlabel": {
           "align": "left"
          },
          "hovermode": "closest",
          "mapbox": {
           "style": "light"
          },
          "paper_bgcolor": "white",
          "plot_bgcolor": "#E5ECF6",
          "polar": {
           "angularaxis": {
            "gridcolor": "white",
            "linecolor": "white",
            "ticks": ""
           },
           "bgcolor": "#E5ECF6",
           "radialaxis": {
            "gridcolor": "white",
            "linecolor": "white",
            "ticks": ""
           }
          },
          "scene": {
           "xaxis": {
            "backgroundcolor": "#E5ECF6",
            "gridcolor": "white",
            "gridwidth": 2,
            "linecolor": "white",
            "showbackground": true,
            "ticks": "",
            "zerolinecolor": "white"
           },
           "yaxis": {
            "backgroundcolor": "#E5ECF6",
            "gridcolor": "white",
            "gridwidth": 2,
            "linecolor": "white",
            "showbackground": true,
            "ticks": "",
            "zerolinecolor": "white"
           },
           "zaxis": {
            "backgroundcolor": "#E5ECF6",
            "gridcolor": "white",
            "gridwidth": 2,
            "linecolor": "white",
            "showbackground": true,
            "ticks": "",
            "zerolinecolor": "white"
           }
          },
          "shapedefaults": {
           "line": {
            "color": "#2a3f5f"
           }
          },
          "ternary": {
           "aaxis": {
            "gridcolor": "white",
            "linecolor": "white",
            "ticks": ""
           },
           "baxis": {
            "gridcolor": "white",
            "linecolor": "white",
            "ticks": ""
           },
           "bgcolor": "#E5ECF6",
           "caxis": {
            "gridcolor": "white",
            "linecolor": "white",
            "ticks": ""
           }
          },
          "title": {
           "x": 0.05
          },
          "xaxis": {
           "automargin": true,
           "gridcolor": "white",
           "linecolor": "white",
           "ticks": "",
           "title": {
            "standoff": 15
           },
           "zerolinecolor": "white",
           "zerolinewidth": 2
          },
          "yaxis": {
           "automargin": true,
           "gridcolor": "white",
           "linecolor": "white",
           "ticks": "",
           "title": {
            "standoff": 15
           },
           "zerolinecolor": "white",
           "zerolinewidth": 2
          }
         }
        },
        "xaxis": {
         "anchor": "y",
         "domain": [
          0,
          1
         ],
         "title": {
          "text": "dolar_ccl"
         }
        },
        "yaxis": {
         "anchor": "x",
         "domain": [
          0,
          1
         ],
         "title": {
          "text": "ticker"
         }
        }
       }
      }
     },
     "metadata": {},
     "output_type": "display_data"
    }
   ],
   "source": [
    "import plotly.express as px\n",
    "\n",
    "fig = px.line(dfccl_f, x=\"dolar_ccl\", y=\"ticker\")\n",
    "fig.show()"
   ]
  }
 ],
 "metadata": {
  "kernelspec": {
   "display_name": "Python 3.8.8 ('base')",
   "language": "python",
   "name": "python3"
  },
  "language_info": {
   "codemirror_mode": {
    "name": "ipython",
    "version": 3
   },
   "file_extension": ".py",
   "mimetype": "text/x-python",
   "name": "python",
   "nbconvert_exporter": "python",
   "pygments_lexer": "ipython3",
   "version": "3.8.8"
  },
  "orig_nbformat": 4,
  "vscode": {
   "interpreter": {
    "hash": "d5b9ab7e0ca2b4053ef0988bef29c741ecbf884d7c7385fc81fec46fc8c63ecc"
   }
  }
 },
 "nbformat": 4,
 "nbformat_minor": 2
}
