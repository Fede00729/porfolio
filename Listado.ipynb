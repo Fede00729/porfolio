{
 "cells": [
  {
   "cell_type": "code",
   "execution_count": 102,
   "metadata": {},
   "outputs": [],
   "source": [
    "import pandas as pd\n",
    "\n",
    "url = 'https://www.comafi.com.ar/2483-Programas-Cedear.note.aspx'\n",
    "comafi_table = pd.read_html(url)[0]\n",
    "\n",
    "cols = list(comafi_table.columns)\n",
    "\n",
    "listado = comafi_table[[cols[0]] + [cols[2]] + cols[5:7]]\n",
    "\n",
    "Ticker_list_arg = listado['Id  de  mercado']\n",
    "Ticker_list_ori = listado['Ticker  en  mercado  de  origen']\n",
    "\n",
    "listado.to_csv('results/listado.txt', index=False, sep=',')"
   ]
  }
 ],
 "metadata": {
  "kernelspec": {
   "display_name": "Python 3",
   "language": "python",
   "name": "python3"
  },
  "language_info": {
   "name": "python",
   "version": "3.8.8"
  },
  "orig_nbformat": 4
 },
 "nbformat": 4,
 "nbformat_minor": 2
}
