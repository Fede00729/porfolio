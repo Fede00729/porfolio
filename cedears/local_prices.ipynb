{
 "cells": [
  {
   "cell_type": "code",
   "execution_count": 38,
   "metadata": {},
   "outputs": [],
   "source": [
    "from urllib.request import Request, urlopen\n",
    "import pandas as pd\n",
    "import json\n",
    "from datetime import date\n",
    "\n",
    "# Fecha del dia y nombre del archivo donde guardara las consultas.\n",
    "today = str(date.today())\n",
    "arg_daily_csv = f'arg_tickets/arg_tickets_{today}.csv'\n",
    "\n",
    "req = Request(\n",
    "    url='https://www.byma.com.ar/wp-admin/admin-ajax.php?action=get_panel&panel_id=5', \n",
    "    headers={'User-Agent': 'Mozilla/5.0'}\n",
    ")\n",
    "webpage = urlopen(req).read()\n",
    "data = json.loads(webpage)\n",
    "\n",
    "table = pd.DataFrame(data['Cotizaciones'])\n",
    "table.to_csv(arg_daily_csv, index=False, sep=',')\n"
   ]
  }
 ],
 "metadata": {
  "kernelspec": {
   "display_name": "Python 3",
   "language": "python",
   "name": "python3"
  },
  "language_info": {
   "codemirror_mode": {
    "name": "ipython",
    "version": 3
   },
   "file_extension": ".py",
   "mimetype": "text/x-python",
   "name": "python",
   "nbconvert_exporter": "python",
   "pygments_lexer": "ipython3",
   "version": "3.8.8"
  },
  "orig_nbformat": 4
 },
 "nbformat": 4,
 "nbformat_minor": 2
}
